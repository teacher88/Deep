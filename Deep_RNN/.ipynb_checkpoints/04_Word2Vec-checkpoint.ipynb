{
 "cells": [
  {
   "cell_type": "markdown",
   "id": "bfa3979d-0c4a-44ed-82b2-1233fe5215fd",
   "metadata": {},
   "source": [
    "- 신박 : https://github.com/phdshinai/ANN_DL101/blob/main/LectureNote/%5BDeepLearning101%5D%2011.GAN.pdf\n",
    "- 미리어드 스페이스 임베딩: https://github.com/choki0715/lecture/blob/master/word2vec_embedding.ipynb"
   ]
  },
  {
   "cell_type": "markdown",
   "id": "38b0a30b-0e9b-4dfd-a017-1eea3bed8fbf",
   "metadata": {},
   "source": [
    "# Word2Vec 모델"
   ]
  },
  {
   "cell_type": "code",
   "execution_count": 7,
   "id": "f0d863fb-229e-4006-b8c9-2f24351efe5e",
   "metadata": {},
   "outputs": [],
   "source": [
    "import gensim\n",
    "from gensim.models.word2vec import Word2Vec"
   ]
  },
  {
   "cell_type": "code",
   "execution_count": 9,
   "id": "47d167aa-134a-4314-9ae8-0005be74b175",
   "metadata": {},
   "outputs": [
    {
     "name": "stdout",
     "output_type": "stream",
     "text": [
      "[['이', '강아지는', '털', '색깔이', '갈색이다'], ['나는', '갈색', '강아지를', '좋아한다'], ['푸들은', '갈색', '털이', '많다'], ['갈색', '털을', '가진', '푸들', '강아지'], ['푸들은', '털이', '빠지지', '않아', '자주', '미용을', '해야', ' 한다'], ['갈색', '털이', '있는', '강아지가', '꼬리를', '친다'], ['쵸키는', '내가', '키우는', '강아지다']]\n"
     ]
    }
   ],
   "source": [
    "sentences=[\n",
    "                ['이','강아지는','털', '색깔이', '갈색이다'],\n",
    "                ['나는',   '갈색', '강아지를',   '좋아한다'],\n",
    "                ['푸들은',   '갈색', '털이',   '많다'],\n",
    "                ['갈색',   '털을', '가진',  '푸들', '강아지'],\n",
    "                ['푸들은',   '털이', '빠지지',   '않아', '자주', '미용을', '해야',' 한다'],\n",
    "                ['갈색', '털이',  '있는', '강아지가', '꼬리를', '친다'],\n",
    "                ['쵸키는', '내가', '키우는', '강아지다']\n",
    "            ]\n",
    "\n",
    "print(sentences)"
   ]
  },
  {
   "cell_type": "code",
   "execution_count": 11,
   "id": "56dfce88-b144-43b1-9fbf-a6cc88d15b4e",
   "metadata": {},
   "outputs": [
    {
     "name": "stdout",
     "output_type": "stream",
     "text": [
      "Word2Vec<vocab=30, vector_size=10, alpha=0.025>\n"
     ]
    }
   ],
   "source": [
    "# 주어진 sentences를 가지고 학습하기\n",
    "# sg=0 CBOW 사용 (기본값) / sg=1  Skip-gram \n",
    "# window=중심어으로 부터 주변어(양쪽 2개)\n",
    "# min_count=1 등장 빈도가 5회 미만인 단어는 무시\n",
    "model=Word2Vec(sentences=sentences, min_count=1, vector_size=10, window=2)    \n",
    "print(model)    # alpha=학습률,"
   ]
  },
  {
   "cell_type": "code",
   "execution_count": 13,
   "id": "3fc242ef-f353-4acb-9e7e-e29549d5e00b",
   "metadata": {},
   "outputs": [
    {
     "data": {
      "text/plain": [
       "(30, 10)"
      ]
     },
     "execution_count": 13,
     "metadata": {},
     "output_type": "execute_result"
    }
   ],
   "source": [
    "# 토큰의 벡터 크기\n",
    "model.wv.vectors.shape"
   ]
  },
  {
   "cell_type": "code",
   "execution_count": 15,
   "id": "935c0450-921f-4d77-a6d3-e378bbeed5a9",
   "metadata": {},
   "outputs": [
    {
     "name": "stdout",
     "output_type": "stream",
     "text": [
      "['갈색', '털이', '푸들은', '강아지다', '키우는', '강아지는', '털', '색깔이', '갈색이다', '나는', '강아지를', '좋아한다', '많다', '털을', '가진', '푸들', '강아지', '빠지지', '않아', '자주', '미용을', '해야', ' 한다', '있는', '강아지가', '꼬리를', '친다', '쵸키는', '내가', '이']\n",
      "30\n"
     ]
    }
   ],
   "source": [
    "# vocab 알아보기\n",
    "vocab=model.wv.index_to_key\n",
    "print(len(vocab))\n",
    "print(vocab)"
   ]
  },
  {
   "cell_type": "code",
   "execution_count": 17,
   "id": "bc9acee3-2f52-430c-a37f-193c95ed88fc",
   "metadata": {},
   "outputs": [
    {
     "data": {
      "text/plain": [
       "[('친다', 0.7504963278770447),\n",
       " ('좋아한다', 0.7188059091567993),\n",
       " ('가진', 0.7050308585166931),\n",
       " ('털을', 0.670322835445404),\n",
       " ('쵸키는', 0.5290866494178772),\n",
       " ('있는', 0.35353246331214905),\n",
       " ('자주', 0.30509504675865173),\n",
       " ('갈색이다', 0.2806865870952606),\n",
       " ('많다', 0.2143586426973343),\n",
       " ('미용을', 0.1710432469844818)]"
      ]
     },
     "execution_count": 17,
     "metadata": {},
     "output_type": "execute_result"
    }
   ],
   "source": [
    "# 유사도 알아보기 - 코사인 값\n",
    "model.wv.most_similar('푸들')"
   ]
  },
  {
   "cell_type": "code",
   "execution_count": 42,
   "id": "a0466a0d-ba91-4190-8292-fd7d3c327be8",
   "metadata": {},
   "outputs": [
    {
     "data": {
      "text/plain": [
       "[('강아지', 0.3914641737937927),\n",
       " ('갈색', 0.3813685476779938),\n",
       " ('털을', 0.3506375551223755),\n",
       " (' 한다', 0.2354077696800232),\n",
       " ('빠지지', 0.22809626162052155)]"
      ]
     },
     "execution_count": 42,
     "metadata": {},
     "output_type": "execute_result"
    }
   ],
   "source": [
    "model.wv.most_similar('푸들', topn=5)"
   ]
  },
  {
   "cell_type": "code",
   "execution_count": 44,
   "id": "8c85a5eb-b0b3-4642-96fb-1fcf1407f5b7",
   "metadata": {},
   "outputs": [
    {
     "data": {
      "text/plain": [
       "[('강아지는', 0.5810441374778748),\n",
       " ('친다', 0.3380281925201416),\n",
       " ('내가', 0.32021215558052063),\n",
       " ('털', 0.2584652602672577),\n",
       " ('이', 0.24636545777320862)]"
      ]
     },
     "execution_count": 44,
     "metadata": {},
     "output_type": "execute_result"
    }
   ],
   "source": [
    "# model.wv.most_similar('프돌', topn=5)    # 오타 Error"
   ]
  },
  {
   "cell_type": "code",
   "execution_count": 46,
   "id": "3a07d89d-4403-45f5-80fb-0c122f2aa64e",
   "metadata": {},
   "outputs": [
    {
     "data": {
      "text/plain": [
       "0.38136858"
      ]
     },
     "execution_count": 46,
     "metadata": {},
     "output_type": "execute_result"
    }
   ],
   "source": [
    "model.wv.similarity('갈색', '푸들')"
   ]
  },
  {
   "cell_type": "markdown",
   "id": "6bafccb5-8b8a-4a9e-b6c2-68a552ee342d",
   "metadata": {},
   "source": [
    "# FastText 모델 "
   ]
  },
  {
   "cell_type": "code",
   "execution_count": 48,
   "id": "6fa4da77-c314-46ef-acd5-7c61e94fdf66",
   "metadata": {},
   "outputs": [],
   "source": [
    "from gensim.models.fasttext import FastText"
   ]
  },
  {
   "cell_type": "code",
   "execution_count": 50,
   "id": "dcf88d0d-e5eb-4c40-8924-47355af0ae11",
   "metadata": {},
   "outputs": [
    {
     "name": "stdout",
     "output_type": "stream",
     "text": [
      "FastText<vocab=30, vector_size=10, alpha=0.025>\n"
     ]
    }
   ],
   "source": [
    "# 주어진 sentences를 가지고 학습하기\n",
    "model=FastText(sentences=sentences, min_count=1, vector_size=10, window=2)\n",
    "print(model)"
   ]
  },
  {
   "cell_type": "code",
   "execution_count": 52,
   "id": "7e864102-a1f1-4d5c-807f-712c08c1daea",
   "metadata": {},
   "outputs": [
    {
     "data": {
      "text/plain": [
       "(30, 10)"
      ]
     },
     "execution_count": 52,
     "metadata": {},
     "output_type": "execute_result"
    }
   ],
   "source": [
    "# 토큰의 벡터 크기\n",
    "model.wv.vectors.shape"
   ]
  },
  {
   "cell_type": "code",
   "execution_count": 54,
   "id": "af9f2b32-b149-4256-9264-2cb9ec3210a4",
   "metadata": {},
   "outputs": [
    {
     "name": "stdout",
     "output_type": "stream",
     "text": [
      "['갈색', '털이', '푸들은', '강아지다', '키우는', '강아지는', '털', '색깔이', '갈색이다', '나는', '강아지를', '좋아한다', '많다', '털을', '가진', '푸들', '강아지', '빠지지', '않아', '자주', '미용을', '해야', ' 한다', '있는', '강아지가', '꼬리를', '친다', '쵸키는', '내가', '이']\n",
      "30\n"
     ]
    }
   ],
   "source": [
    "# vocab 알아보기\n",
    "vocab=model.wv.index_to_key\n",
    "print(vocab)\n",
    "print(len(vocab))"
   ]
  },
  {
   "cell_type": "code",
   "execution_count": 56,
   "id": "05f3b4df-4c0f-47c4-ac9a-33e030c8f8d7",
   "metadata": {},
   "outputs": [
    {
     "data": {
      "text/plain": [
       "[('강아지는', 0.5810441374778748),\n",
       " ('친다', 0.3380281925201416),\n",
       " ('내가', 0.32021215558052063),\n",
       " ('털', 0.2584652602672577),\n",
       " ('이', 0.24636545777320862)]"
      ]
     },
     "execution_count": 56,
     "metadata": {},
     "output_type": "execute_result"
    }
   ],
   "source": [
    "model.wv.most_similar('프돌', topn=5)"
   ]
  },
  {
   "cell_type": "code",
   "execution_count": 58,
   "id": "48c8b272-a004-44ef-9503-e4fcceb3b055",
   "metadata": {},
   "outputs": [
    {
     "data": {
      "text/plain": [
       "[('강아지', 0.3914641737937927),\n",
       " ('갈색', 0.3813685476779938),\n",
       " ('털을', 0.3506375551223755),\n",
       " (' 한다', 0.2354077696800232),\n",
       " ('빠지지', 0.22809626162052155)]"
      ]
     },
     "execution_count": 58,
     "metadata": {},
     "output_type": "execute_result"
    }
   ],
   "source": [
    "model.wv.most_similar('푸들', topn=5)"
   ]
  },
  {
   "cell_type": "markdown",
   "id": "c8421832-f7fe-4456-9355-9f449687fbcd",
   "metadata": {},
   "source": [
    "# 네이버 영화 리뷰 - 유사도 검사\n",
    "- 데이터 : https://github.com/e9t/nsmc/\n",
    "- 위키독스 : https://wikidocs.net/44249\n",
    "- https://juwon2021.tistory.com/386"
   ]
  },
  {
   "cell_type": "code",
   "execution_count": 138,
   "id": "62e64c75-4272-49c5-b811-8b64b6d180c1",
   "metadata": {},
   "outputs": [],
   "source": [
    "import numpy as np\n",
    "import pandas as pd\n",
    "import seaborn as sns\n",
    "import random\n",
    "\n",
    "import matplotlib.pyplot as plt\n",
    "import matplotlib as mpl                    \n",
    "mpl.rc('font', family='Malgun Gothic')      \n",
    "plt.rcParams['axes.unicode_minus']=False  \n",
    "\n",
    "import re\n",
    "from tqdm import tqdm\n",
    "\n",
    "from kiwipiepy import Kiwi\n",
    "from kiwipiepy.utils import Stopwords\n",
    "from gensim.models import Word2Vec"
   ]
  },
  {
   "cell_type": "markdown",
   "id": "cc696aeb-868d-49e0-8e86-cfa6ce8df436",
   "metadata": {},
   "source": [
    "## 파일 불러오기"
   ]
  },
  {
   "cell_type": "code",
   "execution_count": 112,
   "id": "9ddf4e1a-cf69-4db7-9e79-931654535444",
   "metadata": {},
   "outputs": [
    {
     "data": {
      "text/plain": [
       "(200000, 3)"
      ]
     },
     "execution_count": 112,
     "metadata": {},
     "output_type": "execute_result"
    }
   ],
   "source": [
    "# 네이버 영화 리뷰 - 유사도 검사\n",
    "train_data=pd.read_table('./../Data/NaverMovie/ratings.txt')\n",
    "train_data.shape"
   ]
  },
  {
   "cell_type": "code",
   "execution_count": 114,
   "id": "9c924683-863c-4ad2-ad96-6b8c48bee8fb",
   "metadata": {},
   "outputs": [
    {
     "data": {
      "text/html": [
       "<div>\n",
       "<style scoped>\n",
       "    .dataframe tbody tr th:only-of-type {\n",
       "        vertical-align: middle;\n",
       "    }\n",
       "\n",
       "    .dataframe tbody tr th {\n",
       "        vertical-align: top;\n",
       "    }\n",
       "\n",
       "    .dataframe thead th {\n",
       "        text-align: right;\n",
       "    }\n",
       "</style>\n",
       "<table border=\"1\" class=\"dataframe\">\n",
       "  <thead>\n",
       "    <tr style=\"text-align: right;\">\n",
       "      <th></th>\n",
       "      <th>id</th>\n",
       "      <th>document</th>\n",
       "      <th>label</th>\n",
       "    </tr>\n",
       "  </thead>\n",
       "  <tbody>\n",
       "    <tr>\n",
       "      <th>0</th>\n",
       "      <td>8112052</td>\n",
       "      <td>어릴때보고 지금다시봐도 재밌어요ㅋㅋ</td>\n",
       "      <td>1</td>\n",
       "    </tr>\n",
       "    <tr>\n",
       "      <th>1</th>\n",
       "      <td>8132799</td>\n",
       "      <td>디자인을 배우는 학생으로, 외국디자이너와 그들이 일군 전통을 통해 발전해가는 문화산...</td>\n",
       "      <td>1</td>\n",
       "    </tr>\n",
       "    <tr>\n",
       "      <th>2</th>\n",
       "      <td>4655635</td>\n",
       "      <td>폴리스스토리 시리즈는 1부터 뉴까지 버릴께 하나도 없음.. 최고.</td>\n",
       "      <td>1</td>\n",
       "    </tr>\n",
       "    <tr>\n",
       "      <th>3</th>\n",
       "      <td>9251303</td>\n",
       "      <td>와.. 연기가 진짜 개쩔구나.. 지루할거라고 생각했는데 몰입해서 봤다.. 그래 이런...</td>\n",
       "      <td>1</td>\n",
       "    </tr>\n",
       "    <tr>\n",
       "      <th>4</th>\n",
       "      <td>10067386</td>\n",
       "      <td>안개 자욱한 밤하늘에 떠 있는 초승달 같은 영화.</td>\n",
       "      <td>1</td>\n",
       "    </tr>\n",
       "  </tbody>\n",
       "</table>\n",
       "</div>"
      ],
      "text/plain": [
       "         id                                           document  label\n",
       "0   8112052                                어릴때보고 지금다시봐도 재밌어요ㅋㅋ      1\n",
       "1   8132799  디자인을 배우는 학생으로, 외국디자이너와 그들이 일군 전통을 통해 발전해가는 문화산...      1\n",
       "2   4655635               폴리스스토리 시리즈는 1부터 뉴까지 버릴께 하나도 없음.. 최고.      1\n",
       "3   9251303  와.. 연기가 진짜 개쩔구나.. 지루할거라고 생각했는데 몰입해서 봤다.. 그래 이런...      1\n",
       "4  10067386                        안개 자욱한 밤하늘에 떠 있는 초승달 같은 영화.      1"
      ]
     },
     "execution_count": 114,
     "metadata": {},
     "output_type": "execute_result"
    }
   ],
   "source": [
    "train_data.head()"
   ]
  },
  {
   "cell_type": "code",
   "execution_count": 116,
   "id": "10eed87b-c448-4aca-a322-e4bba184c139",
   "metadata": {},
   "outputs": [
    {
     "name": "stdout",
     "output_type": "stream",
     "text": [
      "<class 'pandas.core.frame.DataFrame'>\n",
      "RangeIndex: 200000 entries, 0 to 199999\n",
      "Data columns (total 3 columns):\n",
      " #   Column    Non-Null Count   Dtype \n",
      "---  ------    --------------   ----- \n",
      " 0   id        200000 non-null  int64 \n",
      " 1   document  199992 non-null  object\n",
      " 2   label     200000 non-null  int64 \n",
      "dtypes: int64(2), object(1)\n",
      "memory usage: 4.6+ MB\n"
     ]
    }
   ],
   "source": [
    "train_data.info()"
   ]
  },
  {
   "cell_type": "code",
   "execution_count": 118,
   "id": "c74c71c9-7e16-4909-a7b0-738fced0b479",
   "metadata": {},
   "outputs": [],
   "source": [
    "train_data.dropna(inplace=True)"
   ]
  },
  {
   "cell_type": "code",
   "execution_count": 120,
   "id": "63a9b01d-f94d-4102-ae04-47694af27ce2",
   "metadata": {},
   "outputs": [
    {
     "data": {
      "text/plain": [
       "(199992, 3)"
      ]
     },
     "execution_count": 120,
     "metadata": {},
     "output_type": "execute_result"
    }
   ],
   "source": [
    "train_data.shape"
   ]
  },
  {
   "cell_type": "markdown",
   "id": "ef2d2190-500b-4c00-88fc-476ea0665d06",
   "metadata": {},
   "source": [
    "## 자연어 전처리\n",
    "- 정규화, 불용어, 토근화"
   ]
  },
  {
   "cell_type": "code",
   "execution_count": 123,
   "id": "b388bb41-6121-4ccb-8f3c-7913772ab7cb",
   "metadata": {},
   "outputs": [],
   "source": [
    "# 정규표현식 : 한글과 공백을 제외하고 모두 제거\n",
    "train_data['document']=train_data['document'].str.replace(\"[^ㄱ-ㅎㅏ-ㅣ가-힣 ]\", \"\", regex=True) "
   ]
  },
  {
   "cell_type": "code",
   "execution_count": 128,
   "id": "6d02edec-2fe0-45c4-aedb-5886731dc105",
   "metadata": {},
   "outputs": [],
   "source": [
    "# 불용어 정의\n",
    "stopwords=['의','가','이','은','들','는','좀','잘','걍','과','도','를','으로','자','에','와','한','하다']"
   ]
  },
  {
   "cell_type": "code",
   "execution_count": 140,
   "id": "9ff4b72a-beb8-46bf-b83f-2222733ae542",
   "metadata": {},
   "outputs": [
    {
     "name": "stderr",
     "output_type": "stream",
     "text": [
      "100%|█████████████████████████████████████████████████████████████████████████| 199992/199992 [05:49<00:00, 572.95it/s]\n"
     ]
    }
   ],
   "source": [
    "# 형태소 분석기 OKT를 사용한 토큰화 작업 (다소 시간 소요)\n",
    "kiwi=Kiwi()\n",
    "\n",
    "X_train=[]\n",
    "for sentence in tqdm(train_data['document']):\n",
    "    tokens=kiwi.tokenize(sentence)\n",
    "    filtered_tokens=[token.form for token in tokens if token.form not in stopwords]\n",
    "    X_train.append(filtered_tokens)"
   ]
  },
  {
   "cell_type": "code",
   "execution_count": 159,
   "id": "fe5d7453-7d47-4b6c-ae67-3bbea8cfd759",
   "metadata": {},
   "outputs": [
    {
     "name": "stdout",
     "output_type": "stream",
     "text": [
      "리뷰의 최대 길이 : 93\n",
      "리뷰의 평균 길이 : 14.883625345013801\n"
     ]
    },
    {
     "data": {
      "image/png": "[encoded data removed]",
      "text/plain": [
       "<Figure size 640x480 with 1 Axes>"
      ]
     },
     "metadata": {},
     "output_type": "display_data"
    }
   ],
   "source": [
    "print('리뷰의 최대 길이 :',max(len(review) for review in X_train))\n",
    "print('리뷰의 평균 길이 :',sum(map(len, X_train))/len(X_train))\n",
    "\n",
    "plt.hist([len(review) for review in X_train], bins=50)\n",
    "plt.xlabel('length of samples')\n",
    "plt.ylabel('number of samples')\n",
    "plt.show()"
   ]
  },
  {
   "cell_type": "markdown",
   "id": "6dc054d4-56c2-471b-b09c-b22b6cbd45b3",
   "metadata": {},
   "source": [
    "## Word2Vec \n",
    "- 유사도, 챗봇, 번역 등등"
   ]
  },
  {
   "cell_type": "code",
   "execution_count": 166,
   "id": "9f8a4de2-72fa-486d-8d3d-96623d5b35f8",
   "metadata": {},
   "outputs": [],
   "source": [
    "#  min_count=5  등장 빈도가 5회 미만인 단어는 무시\n",
    "#  workers=4  병렬 처리에 사용할 CPU 코어 수\n",
    "model=Word2Vec(sentences=X_train, vector_size=100, window=5, min_count=5, workers=4)"
   ]
  },
  {
   "cell_type": "code",
   "execution_count": 167,
   "id": "e4c62647-f7c2-4141-86a9-194864f8d7d2",
   "metadata": {},
   "outputs": [
    {
     "data": {
      "text/plain": [
       "(14909, 100)"
      ]
     },
     "execution_count": 167,
     "metadata": {},
     "output_type": "execute_result"
    }
   ],
   "source": [
    "model.wv.vectors.shape"
   ]
  },
  {
   "cell_type": "code",
   "execution_count": 170,
   "id": "14321ade-0e40-451a-8211-a85288b40292",
   "metadata": {},
   "outputs": [
    {
     "name": "stdout",
     "output_type": "stream",
     "text": [
      "[('박중훈', 0.8577596545219421), ('안성기', 0.8538902997970581), ('조재현', 0.8514261841773987), ('한석규', 0.8487911224365234), ('박신양', 0.8467841148376465), ('최민수', 0.8411201238632202), ('이정재', 0.8350152969360352), ('송강호', 0.832614004611969), ('이미숙', 0.832137942314148), ('신하균', 0.8319923281669617)]\n"
     ]
    }
   ],
   "source": [
    "print(model.wv.most_similar(\"최민식\"))"
   ]
  },
  {
   "cell_type": "code",
   "execution_count": 172,
   "id": "322ecbb5-a86b-4170-95e5-bc5d80981f3c",
   "metadata": {},
   "outputs": [
    {
     "name": "stdout",
     "output_type": "stream",
     "text": [
      "[('첩보', 0.8711270093917847), ('호러', 0.8444681167602539), ('무협', 0.8206143975257874), ('블록버스터', 0.798004686832428), ('슬래셔', 0.7929278016090393), ('하이틴', 0.7920427322387695), ('패러디', 0.7910550832748413), ('고어', 0.785830557346344), ('느와르', 0.7849485874176025), ('액션물', 0.7848687171936035)]\n"
     ]
    }
   ],
   "source": [
    "print(model.wv.most_similar(\"히어로\"))"
   ]
  },
  {
   "cell_type": "code",
   "execution_count": null,
   "id": "17fd5acf-d9ee-4944-a5a4-0ab5238cbc35",
   "metadata": {},
   "outputs": [],
   "source": []
  }
 ],
 "metadata": {
  "kernelspec": {
   "display_name": "Python [conda env:base] *",
   "language": "python",
   "name": "conda-base-py"
  },
  "language_info": {
   "codemirror_mode": {
    "name": "ipython",
    "version": 3
   },
   "file_extension": ".py",
   "mimetype": "text/x-python",
   "name": "python",
   "nbconvert_exporter": "python",
   "pygments_lexer": "ipython3",
   "version": "3.12.7"
  }
 },
 "nbformat": 4,
 "nbformat_minor": 5
}
