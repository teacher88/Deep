{
 "cells": [
  {
   "cell_type": "markdown",
   "id": "d280ceaf-59f6-4eb5-b84e-16fa7a6f8762",
   "metadata": {},
   "source": [
    "# 영문 형태소 분석기\n",
    "## 설치 - NLTK\n",
    "- PPT 참조"
   ]
  },
  {
   "cell_type": "code",
   "execution_count": 36,
   "id": "775a2629-6c5c-4fd3-9a4b-0f2ce6e5edb3",
   "metadata": {},
   "outputs": [],
   "source": [
    "# !pip install nltk"
   ]
  },
  {
   "cell_type": "code",
   "execution_count": 39,
   "id": "c5255ec7-dfe5-4c66-b331-622f1f0d8f28",
   "metadata": {},
   "outputs": [],
   "source": [
    "# nltk.download()"
   ]
  },
  {
   "cell_type": "code",
   "execution_count": 1,
   "id": "194233ba-00cc-40bd-8835-6085e2710bf6",
   "metadata": {},
   "outputs": [],
   "source": [
    "import nltk\n",
    "from nltk.tokenize import word_tokenize\n",
    "from nltk.tokenize import sent_tokenize \n",
    "from nltk.corpus import stopwords\n",
    "\n",
    "from tensorflow.keras.preprocessing.text import Tokenizer, text_to_word_sequence"
   ]
  },
  {
   "cell_type": "markdown",
   "id": "c71b2f3c-27fd-4bd8-b82f-8a3e9071ec5b",
   "metadata": {},
   "source": [
    "## 토큰화"
   ]
  },
  {
   "cell_type": "code",
   "execution_count": 5,
   "id": "cb215aa8-10ce-47aa-be3e-565597c8b233",
   "metadata": {},
   "outputs": [
    {
     "data": {
      "text/plain": [
       "['Hello', 'World', ',', 'This', 'is', 'a', 'dog', '.']"
      ]
     },
     "execution_count": 5,
     "metadata": {},
     "output_type": "execute_result"
    }
   ],
   "source": [
    "tokens=word_tokenize(\"Hello World, This is a dog.\")\n",
    "tokens               "
   ]
  },
  {
   "cell_type": "markdown",
   "id": "944243fc-0b5e-4bc5-bf62-1b75454d5368",
   "metadata": {},
   "source": [
    "## 정제\n",
    "- 특수문자 제거 >> , . !!!"
   ]
  },
  {
   "cell_type": "code",
   "execution_count": 8,
   "id": "0887dd55-d33b-41e9-afec-27ff61d7b75f",
   "metadata": {},
   "outputs": [
    {
     "data": {
      "text/plain": [
       "['Hello', 'World', 'This', 'is', 'a', 'dog']"
      ]
     },
     "execution_count": 8,
     "metadata": {},
     "output_type": "execute_result"
    }
   ],
   "source": [
    "words=[]\n",
    "for word in tokens:\n",
    "    if word.isalpha():   # 숫자, 구두점, 특수문자 모두 제거\n",
    "        words.append(word)\n",
    "words"
   ]
  },
  {
   "cell_type": "markdown",
   "id": "cb76de36-0a59-4e69-920f-793421bf64d3",
   "metadata": {},
   "source": [
    "## 불용어 \n",
    "- stopword 문장에 많이 등장하지만 큰 의미가 없는 단어들\n",
    "- '이', '그', '저', '것', '수', '등', '들', '및', '에서', '의', '에게', '하지만', '그리고', '또한'\n",
    "- 'a', 'am', 'this'"
   ]
  },
  {
   "cell_type": "code",
   "execution_count": 11,
   "id": "6b1b1fe5-9dd6-458b-a3c1-787c0afaef4a",
   "metadata": {},
   "outputs": [],
   "source": [
    "# nltk.download('punkt')\n",
    "# nltk.download('stopwords')"
   ]
  },
  {
   "cell_type": "code",
   "execution_count": 13,
   "id": "0a90267e-29f2-41b5-8947-4970464f6c43",
   "metadata": {},
   "outputs": [
    {
     "name": "stdout",
     "output_type": "stream",
     "text": [
      "불용어 개수: 198 <class 'list'>\n",
      "불용어 10개 출력: ['a', 'about', 'above', 'after', 'again', 'against', 'ain', 'all', 'am', 'an']\n",
      "불용어 10개 출력: ['y', 'you', \"you'd\", \"you'll\", 'your', \"you're\", 'yours', 'yourself', 'yourselves', \"you've\"]\n"
     ]
    }
   ],
   "source": [
    "stop_words_list=stopwords.words('english')\n",
    "print(\"불용어 개수:\", len(stop_words_list), type(stop_words_list))\n",
    "print(\"불용어 10개 출력:\", stop_words_list[:10])\n",
    "print(\"불용어 10개 출력:\", stop_words_list[-10:])"
   ]
  },
  {
   "cell_type": "code",
   "execution_count": 32,
   "id": "5e4d29dc-d5c8-48c6-a2fb-bdbf9e4924ee",
   "metadata": {},
   "outputs": [
    {
     "name": "stdout",
     "output_type": "stream",
     "text": [
      "['Family', 'is', 'not', 'an', 'important', 'thing', '.', 'It', \"'s\", 'everything', '.']\n",
      "['Family', 'is', 'not', 'an', 'important', 'thing', 'It', 'everything']\n",
      "['Family', 'important', 'thing', 'It', 'everything']\n",
      "[[1], [2], [3], [4], [5]]\n",
      "{'family': 1, 'important': 2, 'thing': 3, 'it': 4, 'everything': 5}\n"
     ]
    }
   ],
   "source": [
    "exam=\"Family is not an important thing. It's everything.\"\n",
    "tokens=word_tokenize(exam)\n",
    "print(tokens)\n",
    "\n",
    "# 특수문제 제거\n",
    "exam_words=[]\n",
    "for word in tokens:\n",
    "    if word.isalpha():\n",
    "        exam_words.append(word)\n",
    "print(exam_words)\n",
    "\n",
    "# 불용어\n",
    "stop_words=set(stopwords.words('english'))    # set 저장 / 속도, 중복값\n",
    "reslut=[]\n",
    "for word in exam_words:\n",
    "    if word not in stop_words:\n",
    "        reslut.append(word)\n",
    "print(reslut)\n",
    "\n",
    "# 정수 인덱싱\n",
    "token=Tokenizer()\n",
    "token.fit_on_texts(reslut)  \n",
    "seq=token.texts_to_sequences(reslut)\n",
    "print(seq)\n",
    "print(\"\\n\", token.word_index)"
   ]
  },
  {
   "cell_type": "markdown",
   "id": "0fb55a02-9f56-4902-b99d-0e80317ddd35",
   "metadata": {},
   "source": [
    "## 문장 토큰화\n",
    "- 단어 토큰화, 문장 토큰화"
   ]
  },
  {
   "cell_type": "code",
   "execution_count": 31,
   "id": "56d89da5-2b71-4f11-842c-249344124ed4",
   "metadata": {},
   "outputs": [
    {
     "name": "stdout",
     "output_type": "stream",
     "text": [
      "['This', 'is', 'a', 'dog', '.', 'This', 'is', 'a', 'dog']\n",
      "['This is a dog.', 'This is a dog']\n"
     ]
    }
   ],
   "source": [
    "text=\"This is a dog. This is a dog\"\n",
    "print(word_tokenize(text))\n",
    "print(sent_tokenize(text))"
   ]
  },
  {
   "cell_type": "markdown",
   "id": "919c998d-985f-4cda-820d-4577c25daa50",
   "metadata": {},
   "source": [
    "# 한글 형태소 분석기\n",
    "- KoNLpy(코엔엘파이)\n",
    "    - 설치 https://wikidocs.net/22488\n",
    "- Kiwi 형태소 분석기\n",
    "- Bareun 바른 형태소 분석기"
   ]
  },
  {
   "cell_type": "markdown",
   "id": "38630517-1eba-4782-b222-a547051b979e",
   "metadata": {},
   "source": [
    "## 설치 - Kiwi"
   ]
  },
  {
   "cell_type": "code",
   "execution_count": 91,
   "id": "7d61b59a-99da-4cec-af21-40b3bb8d3d78",
   "metadata": {},
   "outputs": [
    {
     "name": "stdout",
     "output_type": "stream",
     "text": [
      "Requirement already satisfied: kiwipiepy in c:\\users\\jmh\\anaconda3\\lib\\site-packages (0.20.4)\n",
      "Requirement already satisfied: kiwipiepy_model<0.21,>=0.20 in c:\\users\\jmh\\anaconda3\\lib\\site-packages (from kiwipiepy) (0.20.0)\n",
      "Requirement already satisfied: numpy in c:\\users\\jmh\\anaconda3\\lib\\site-packages (from kiwipiepy) (1.26.4)\n",
      "Requirement already satisfied: tqdm in c:\\users\\jmh\\anaconda3\\lib\\site-packages (from kiwipiepy) (4.66.5)\n",
      "Requirement already satisfied: colorama in c:\\users\\jmh\\anaconda3\\lib\\site-packages (from tqdm->kiwipiepy) (0.4.6)\n"
     ]
    }
   ],
   "source": [
    "# !pip install kiwipiepy"
   ]
  },
  {
   "cell_type": "code",
   "execution_count": 3,
   "id": "dad0bc2c-9e94-4ab9-90b9-05044b60e91d",
   "metadata": {},
   "outputs": [],
   "source": [
    "from kiwipiepy import Kiwi\n",
    "from kiwipiepy.utils import Stopwords"
   ]
  },
  {
   "cell_type": "markdown",
   "id": "e3588a4e-71f4-4012-8ac0-f4445bdd66ce",
   "metadata": {},
   "source": [
    "### 토큰화, 정제, 불용어"
   ]
  },
  {
   "cell_type": "code",
   "execution_count": 6,
   "id": "5f632dcc-4505-486a-90e0-41556039bbf5",
   "metadata": {},
   "outputs": [
    {
     "data": {
      "text/plain": [
       "[Token(form='안녕', tag='NNG', start=0, len=2),\n",
       " Token(form='하', tag='XSA', start=2, len=1),\n",
       " Token(form='세요', tag='EF', start=3, len=2),\n",
       " Token(form='!!!', tag='SF', start=5, len=3),\n",
       " Token(form='형태소', tag='NNG', start=9, len=3),\n",
       " Token(form='분석기', tag='NNG', start=13, len=3),\n",
       " Token(form='키위', tag='NNG', start=17, len=2),\n",
       " Token(form='이', tag='VCP', start=19, len=1),\n",
       " Token(form='ᆸ니다', tag='EF', start=19, len=3),\n",
       " Token(form='.', tag='SF', start=22, len=1)]"
      ]
     },
     "execution_count": 6,
     "metadata": {},
     "output_type": "execute_result"
    }
   ],
   "source": [
    "# 토큰화\n",
    "kiwi=Kiwi()\n",
    "kor_tokens=kiwi.tokenize(\"안녕하세요!!! 형태소 분석기 키위입니다.\")\n",
    "kor_tokens"
   ]
  },
  {
   "cell_type": "markdown",
   "id": "47e14654-e057-48fe-bc89-e0237ebf30a1",
   "metadata": {},
   "source": [
    "- tag=\"품사\", start=\"글자위치\", len=\"길이\"\n",
    "- 세종 품사 태그(SKKU POS Tags)**는 다음과 같이 총 60개\n",
    "    - np:명사, vv:동사, jx:조사, mag:부사, va:형용사\n",
    "    - https://konlpy.org/ko/latest/api/konlpy.tag/"
   ]
  },
  {
   "cell_type": "code",
   "execution_count": 9,
   "id": "c43af6d5-9f25-4087-be36-bf586441e1a0",
   "metadata": {},
   "outputs": [
    {
     "name": "stdout",
     "output_type": "stream",
     "text": [
      "구두점 제거된 토큰: ['안녕', '하', '세요', '형태소', '분석기', '키위', '이', 'ᆸ니다']\n"
     ]
    }
   ],
   "source": [
    "# 정제 >> 구두점 제거\n",
    "kor_words=[]  \n",
    "for word in kor_tokens:\n",
    "    if word.form.isalpha():    # 문자로 이루어진~~\n",
    "        kor_words.append(word.form)\n",
    "print(\"구두점 제거된 토큰:\", kor_words)"
   ]
  },
  {
   "cell_type": "code",
   "execution_count": 11,
   "id": "468c8752-0547-4dd0-a025-29ce5f5a7899",
   "metadata": {
    "scrolled": true
   },
   "outputs": [
    {
     "data": {
      "text/plain": [
       "[Token(form='분석', tag='NNG', start=0, len=2),\n",
       " Token(form='결과', tag='NNG', start=3, len=2),\n",
       " Token(form='불', tag='NNG', start=8, len=1),\n",
       " Token(form='용어', tag='NNG', start=9, len=2),\n",
       " Token(form='제외', tag='NNG', start=13, len=2),\n",
       " Token(form='출력', tag='NNG', start=18, len=2),\n",
       " Token(form='있', tag='VA', start=25, len=1)]"
      ]
     },
     "execution_count": 11,
     "metadata": {},
     "output_type": "execute_result"
    }
   ],
   "source": [
    "# 불용어 관리를 위한 Stopwords 클래스도 제공합니다.\n",
    "stopword=Stopwords()\n",
    "kiwi.tokenize(\"분석 결과에서 불용어만 제외하고 출력할 수도 있다.\", stopwords=stopword)"
   ]
  },
  {
   "cell_type": "code",
   "execution_count": 163,
   "id": "118a1e12-af6f-4af0-b25e-39710efb4904",
   "metadata": {},
   "outputs": [
    {
     "data": {
      "text/plain": [
       "[Token(form='ㅋㅋㅋ', tag='SW', start=0, len=3),\n",
       " Token(form='이런', tag='MM', start=4, len=2),\n",
       " Token(form='것', tag='NNB', start=7, len=1),\n",
       " Token(form='도', tag='JX', start=8, len=1),\n",
       " Token(form='분석', tag='NNG', start=10, len=2),\n",
       " Token(form='이', tag='JKC', start=12, len=1),\n",
       " Token(form='되', tag='VV', start=14, len=1),\n",
       " Token(form='ᆯ까요', tag='EF', start=14, len=3),\n",
       " Token(form='ㅋㅋㅋ', tag='SW', start=16, len=3),\n",
       " Token(form='?', tag='SF', start=19, len=1)]"
      ]
     },
     "execution_count": 163,
     "metadata": {},
     "output_type": "execute_result"
    }
   ],
   "source": [
    "# normalize_coda 옵션을 사용하면 덧붙은 받침 때문에 분석이 깨지는 경우를 방지할 수 있습니다.\n",
    "kiwi.tokenize(\"ㅋㅋㅋ 이런 것도 분석이 될까욬ㅋㅋ?\", normalize_coda=True)  # 노멀라이즈 코다"
   ]
  },
  {
   "cell_type": "markdown",
   "id": "f1b66e39-16ce-4c2e-a124-23672f44177c",
   "metadata": {},
   "source": [
    "# 네이버 쇼핑 리뷰 감성 분류"
   ]
  },
  {
   "cell_type": "code",
   "execution_count": 25,
   "id": "be711902-4dfa-4481-ab71-5393205c470e",
   "metadata": {},
   "outputs": [],
   "source": [
    "import pandas as pd\n",
    "import numpy as np\n",
    "import matplotlib.pyplot as plt\n",
    "import urllib.request\n",
    "\n",
    "import tensorflow as tf\n",
    "from tensorflow import keras  \n",
    "from sklearn.model_selection import train_test_split\n",
    "from tensorflow.keras.models import Sequential\n",
    "from tensorflow.keras.callbacks import EarlyStopping\n",
    "\n",
    "from tensorflow.keras.preprocessing.text import Tokenizer\n",
    "from tensorflow.keras.preprocessing import sequence\n",
    "\n",
    "import re\n",
    "from collections import Counter\n",
    "from kiwipiepy import Kiwi\n",
    "from kiwipiepy.utils import Stopwords\n",
    "from tqdm import tqdm"
   ]
  },
  {
   "cell_type": "markdown",
   "id": "a207036e-afb5-4475-9895-5c8712e3164b",
   "metadata": {},
   "source": [
    "## 데이터 로드\n",
    "- 네이버 쇼핑 리뷰 데이터 https://github.com/bab2min/corpus/tree/master/sentiment\n",
    "- 20만개 데이터"
   ]
  },
  {
   "cell_type": "code",
   "execution_count": 29,
   "id": "8a0b9e3b-baac-4502-a4b0-43ac94548a1c",
   "metadata": {},
   "outputs": [
    {
     "data": {
      "text/plain": [
       "(200000, 2)"
      ]
     },
     "execution_count": 29,
     "metadata": {},
     "output_type": "execute_result"
    }
   ],
   "source": [
    "data=pd.read_table('./Data/naver_shopping.txt', names=['평점', '리뷰'])\n",
    "data.shape"
   ]
  },
  {
   "cell_type": "code",
   "execution_count": 31,
   "id": "7dbdfd20-8878-44d5-af23-05a61dab92bb",
   "metadata": {},
   "outputs": [
    {
     "name": "stdout",
     "output_type": "stream",
     "text": [
      "<class 'pandas.core.frame.DataFrame'>\n",
      "RangeIndex: 200000 entries, 0 to 199999\n",
      "Data columns (total 2 columns):\n",
      " #   Column  Non-Null Count   Dtype \n",
      "---  ------  --------------   ----- \n",
      " 0   평점      200000 non-null  int64 \n",
      " 1   리뷰      200000 non-null  object\n",
      "dtypes: int64(1), object(1)\n",
      "memory usage: 3.1+ MB\n"
     ]
    }
   ],
   "source": [
    "data.info()"
   ]
  },
  {
   "cell_type": "code",
   "execution_count": 33,
   "id": "cce1d204-ef71-4883-be86-7ffeba34b118",
   "metadata": {},
   "outputs": [
    {
     "data": {
      "text/html": [
       "<div>\n",
       "<style scoped>\n",
       "    .dataframe tbody tr th:only-of-type {\n",
       "        vertical-align: middle;\n",
       "    }\n",
       "\n",
       "    .dataframe tbody tr th {\n",
       "        vertical-align: top;\n",
       "    }\n",
       "\n",
       "    .dataframe thead th {\n",
       "        text-align: right;\n",
       "    }\n",
       "</style>\n",
       "<table border=\"1\" class=\"dataframe\">\n",
       "  <thead>\n",
       "    <tr style=\"text-align: right;\">\n",
       "      <th></th>\n",
       "      <th>평점</th>\n",
       "      <th>리뷰</th>\n",
       "    </tr>\n",
       "  </thead>\n",
       "  <tbody>\n",
       "    <tr>\n",
       "      <th>0</th>\n",
       "      <td>5</td>\n",
       "      <td>배공빠르고 굿</td>\n",
       "    </tr>\n",
       "    <tr>\n",
       "      <th>1</th>\n",
       "      <td>2</td>\n",
       "      <td>택배가 엉망이네용 저희집 밑에층에 말도없이 놔두고가고</td>\n",
       "    </tr>\n",
       "    <tr>\n",
       "      <th>2</th>\n",
       "      <td>5</td>\n",
       "      <td>아주좋아요 바지 정말 좋아서2개 더 구매했어요 이가격에 대박입니다. 바느질이 조금 ...</td>\n",
       "    </tr>\n",
       "    <tr>\n",
       "      <th>3</th>\n",
       "      <td>2</td>\n",
       "      <td>선물용으로 빨리 받아서 전달했어야 하는 상품이었는데 머그컵만 와서 당황했습니다. 전...</td>\n",
       "    </tr>\n",
       "    <tr>\n",
       "      <th>4</th>\n",
       "      <td>5</td>\n",
       "      <td>민트색상 예뻐요. 옆 손잡이는 거는 용도로도 사용되네요 ㅎㅎ</td>\n",
       "    </tr>\n",
       "  </tbody>\n",
       "</table>\n",
       "</div>"
      ],
      "text/plain": [
       "   평점                                                 리뷰\n",
       "0   5                                            배공빠르고 굿\n",
       "1   2                      택배가 엉망이네용 저희집 밑에층에 말도없이 놔두고가고\n",
       "2   5  아주좋아요 바지 정말 좋아서2개 더 구매했어요 이가격에 대박입니다. 바느질이 조금 ...\n",
       "3   2  선물용으로 빨리 받아서 전달했어야 하는 상품이었는데 머그컵만 와서 당황했습니다. 전...\n",
       "4   5                  민트색상 예뻐요. 옆 손잡이는 거는 용도로도 사용되네요 ㅎㅎ"
      ]
     },
     "execution_count": 33,
     "metadata": {},
     "output_type": "execute_result"
    }
   ],
   "source": [
    "data.head()"
   ]
  },
  {
   "cell_type": "code",
   "execution_count": 35,
   "id": "024fbc32-6d30-4672-a38d-e245b89ffeed",
   "metadata": {},
   "outputs": [
    {
     "data": {
      "text/plain": [
       "평점\n",
       "5    81177\n",
       "2    63989\n",
       "1    36048\n",
       "4    18786\n",
       "Name: count, dtype: int64"
      ]
     },
     "execution_count": 35,
     "metadata": {},
     "output_type": "execute_result"
    }
   ],
   "source": [
    "data['평점'].value_counts()"
   ]
  },
  {
   "cell_type": "code",
   "execution_count": 37,
   "id": "5897794a-12bf-4817-b6e3-b67e7a8cf1aa",
   "metadata": {},
   "outputs": [
    {
     "data": {
      "text/html": [
       "<div>\n",
       "<style scoped>\n",
       "    .dataframe tbody tr th:only-of-type {\n",
       "        vertical-align: middle;\n",
       "    }\n",
       "\n",
       "    .dataframe tbody tr th {\n",
       "        vertical-align: top;\n",
       "    }\n",
       "\n",
       "    .dataframe thead th {\n",
       "        text-align: right;\n",
       "    }\n",
       "</style>\n",
       "<table border=\"1\" class=\"dataframe\">\n",
       "  <thead>\n",
       "    <tr style=\"text-align: right;\">\n",
       "      <th></th>\n",
       "      <th>평점</th>\n",
       "      <th>리뷰</th>\n",
       "      <th>긍부정</th>\n",
       "    </tr>\n",
       "  </thead>\n",
       "  <tbody>\n",
       "    <tr>\n",
       "      <th>0</th>\n",
       "      <td>5</td>\n",
       "      <td>배공빠르고 굿</td>\n",
       "      <td>1</td>\n",
       "    </tr>\n",
       "    <tr>\n",
       "      <th>1</th>\n",
       "      <td>2</td>\n",
       "      <td>택배가 엉망이네용 저희집 밑에층에 말도없이 놔두고가고</td>\n",
       "      <td>0</td>\n",
       "    </tr>\n",
       "    <tr>\n",
       "      <th>2</th>\n",
       "      <td>5</td>\n",
       "      <td>아주좋아요 바지 정말 좋아서2개 더 구매했어요 이가격에 대박입니다. 바느질이 조금 ...</td>\n",
       "      <td>1</td>\n",
       "    </tr>\n",
       "    <tr>\n",
       "      <th>3</th>\n",
       "      <td>2</td>\n",
       "      <td>선물용으로 빨리 받아서 전달했어야 하는 상품이었는데 머그컵만 와서 당황했습니다. 전...</td>\n",
       "      <td>0</td>\n",
       "    </tr>\n",
       "    <tr>\n",
       "      <th>4</th>\n",
       "      <td>5</td>\n",
       "      <td>민트색상 예뻐요. 옆 손잡이는 거는 용도로도 사용되네요 ㅎㅎ</td>\n",
       "      <td>1</td>\n",
       "    </tr>\n",
       "  </tbody>\n",
       "</table>\n",
       "</div>"
      ],
      "text/plain": [
       "   평점                                                 리뷰  긍부정\n",
       "0   5                                            배공빠르고 굿    1\n",
       "1   2                      택배가 엉망이네용 저희집 밑에층에 말도없이 놔두고가고    0\n",
       "2   5  아주좋아요 바지 정말 좋아서2개 더 구매했어요 이가격에 대박입니다. 바느질이 조금 ...    1\n",
       "3   2  선물용으로 빨리 받아서 전달했어야 하는 상품이었는데 머그컵만 와서 당황했습니다. 전...    0\n",
       "4   5                  민트색상 예뻐요. 옆 손잡이는 거는 용도로도 사용되네요 ㅎㅎ    1"
      ]
     },
     "execution_count": 37,
     "metadata": {},
     "output_type": "execute_result"
    }
   ],
   "source": [
    "# 평점이 3보다 크면 1, 그렇지 않으면 0\n",
    "data['긍부정']=np.where(data['평점'] > 3, 1, 0)   \n",
    "data.head()"
   ]
  },
  {
   "cell_type": "code",
   "execution_count": 39,
   "id": "b08d2f94-371d-48e0-acd9-b5a4c15de154",
   "metadata": {},
   "outputs": [
    {
     "data": {
      "text/plain": [
       "(4, 199908, 2)"
      ]
     },
     "execution_count": 39,
     "metadata": {},
     "output_type": "execute_result"
    }
   ],
   "source": [
    "# 중복 체크\n",
    "data['평점'].nunique(), data['리뷰'].nunique(), data['긍부정'].nunique()"
   ]
  },
  {
   "cell_type": "code",
   "execution_count": 41,
   "id": "5387ab3c-ef78-4568-b85c-1c07dc04f582",
   "metadata": {},
   "outputs": [
    {
     "data": {
      "text/plain": [
       "평점\n",
       "5    81177\n",
       "2    63989\n",
       "1    36048\n",
       "4    18786\n",
       "Name: count, dtype: int64"
      ]
     },
     "execution_count": 41,
     "metadata": {},
     "output_type": "execute_result"
    }
   ],
   "source": [
    "data['평점'].value_counts()"
   ]
  },
  {
   "cell_type": "code",
   "execution_count": 43,
   "id": "f16b49a7-58f5-4da4-b259-ba016d2c2821",
   "metadata": {},
   "outputs": [
    {
     "data": {
      "text/plain": [
       "긍부정\n",
       "0    100037\n",
       "1     99963\n",
       "Name: count, dtype: int64"
      ]
     },
     "execution_count": 43,
     "metadata": {},
     "output_type": "execute_result"
    }
   ],
   "source": [
    "data['긍부정'].value_counts()"
   ]
  },
  {
   "cell_type": "markdown",
   "id": "ec2dd5c8-e44f-4b82-9d4e-7ee8c5953367",
   "metadata": {},
   "source": [
    "- drop_duplicates(): 중복된 행을 제거하는 함수\n",
    "    - subset=['reviews']: 'reviews' 열을 기준으로 중복 여부 판단\n",
    "    - inplace=True: 원본 data를 직접 수정 (새 객체를 반환하지 않음)"
   ]
  },
  {
   "cell_type": "code",
   "execution_count": 46,
   "id": "8af814f9-57a0-4431-92a5-f2184b39e923",
   "metadata": {},
   "outputs": [
    {
     "data": {
      "text/plain": [
       "(199908, 3)"
      ]
     },
     "execution_count": 46,
     "metadata": {},
     "output_type": "execute_result"
    }
   ],
   "source": [
    "# reviews 열에서 중복인 내용이 있다면 중복 제거\n",
    "# 중복되는 내용 삭제 >> 완전히 동일한 리뷰가 여러 번 존재하는 경우, 학습이 편향\n",
    "\n",
    "data.drop_duplicates(subset=['리뷰'], inplace=True)  # 드랍 듀플리케이츠\n",
    "data.shape"
   ]
  },
  {
   "cell_type": "markdown",
   "id": "be45d9e0-e329-44d6-89b0-1bf02c9d2d54",
   "metadata": {},
   "source": [
    "## 데이터 정제\n",
    "- 한글과 공백을 제외하고 모두 제거"
   ]
  },
  {
   "cell_type": "markdown",
   "id": "a2c72b01-e8db-4cff-964e-4dfa58680a65",
   "metadata": {},
   "source": [
    "### 정규화\n",
    "- re.sub(pattern, replacement, string):\n",
    "    - 정규 표현식 pattern에 해당하는 부분을 replacement로 바꿔주는 함수\n",
    "- r'[^a-zA-Z ]':\n",
    "    - 정규 표현식 패턴\n",
    "        - [^...]: 괄호 안의 문자들을 제외한 모든 문자\n",
    "        - a-zA-Z: 영문자 (소문자 + 대문자)\n",
    "        - 공백 ' ' 포함\n",
    "        - 결론] 영문자와 공백을 제외한 모든 문자\n",
    "    - '': 빈 문자열로 대체\n",
    "    - eng_text: 처리할 문자열 (영어 문장이 담긴 변수)"
   ]
  },
  {
   "cell_type": "code",
   "execution_count": 50,
   "id": "3849511f-13d9-415c-97f2-4b121d842d2d",
   "metadata": {},
   "outputs": [
    {
     "name": "stdout",
     "output_type": "stream",
     "text": [
      "do you expect people to read the FAQ etc and actually accept hard atheism\n"
     ]
    }
   ],
   "source": [
    "eng_text='do!!! you expect... people~ to~ read~ the FAQ, etc. and actually accept hard~! atheism?@@'\n",
    "print(re.sub(r'[^a-zA-Z ]', '', eng_text))"
   ]
  },
  {
   "cell_type": "markdown",
   "id": "78f24371-437c-4165-8e61-aedc389a9049",
   "metadata": {},
   "source": [
    "- https://www.unicode.org/charts/PDF/U3130.pdf\n",
    "- https://www.unicode.org/charts/PDF/UAC00.pdf\n",
    "- \"[^ㄱ-ㅎㅏ-ㅣ가-힣 ]\": 한글과 공백을 제외한 모든 문자\n",
    "- \"\": 즉, 빈 문자열로 대체 → 추후 제거한다는 뜻\n",
    "- regex=True: 정규표현식으로 인식하라는 옵션"
   ]
  },
  {
   "cell_type": "code",
   "execution_count": 53,
   "id": "80173d99-d0b6-4032-bc13-fbdf9312dc75",
   "metadata": {},
   "outputs": [],
   "source": [
    "data['리뷰']=data['리뷰'].str.replace(r'[^ㄱ-ㅎㅏ-ㅣ가-힣 ]', '', regex=True)"
   ]
  },
  {
   "cell_type": "code",
   "execution_count": 55,
   "id": "88bee155-17ae-4ab2-9a2a-d5b22e7f2166",
   "metadata": {},
   "outputs": [
    {
     "name": "stdout",
     "output_type": "stream",
     "text": [
      "평점     0\n",
      "리뷰     0\n",
      "긍부정    0\n",
      "dtype: int64\n"
     ]
    }
   ],
   "source": [
    "data['리뷰']=data['리뷰'].replace('', np.nan)  \n",
    "print(data.isnull().sum())"
   ]
  },
  {
   "cell_type": "markdown",
   "id": "1aaeabfa-28fe-4018-9b8b-a23ef34fcc5e",
   "metadata": {},
   "source": [
    "### 토큰화\n",
    "- 불용어 제거"
   ]
  },
  {
   "cell_type": "code",
   "execution_count": 58,
   "id": "d1ce7366-bb96-4a5d-9578-77e5f7906b35",
   "metadata": {},
   "outputs": [],
   "source": [
    "stopwords=['도', '는', '다', '의', '가', '이', '은', '한', '에', '하', '고', '을', \n",
    "           '를', '인', '듯', '과', '와', '네', '들', '듯', '지', '임', '게']"
   ]
  },
  {
   "cell_type": "code",
   "execution_count": 60,
   "id": "d7164f69-cf6b-4cdb-af24-4203c3d8a831",
   "metadata": {},
   "outputs": [
    {
     "name": "stderr",
     "output_type": "stream",
     "text": [
      "100%|█████████████████████████████████████████████████████████████████████████| 199908/199908 [04:28<00:00, 743.81it/s]\n"
     ]
    }
   ],
   "source": [
    "kiwi=Kiwi()\n",
    "\n",
    "train=[]\n",
    "for sentence in tqdm(data['리뷰']):  # 리뷰 하나씩 반복\n",
    "    tokens=kiwi.tokenize(sentence)  # 형태소 분석으로 토큰화\n",
    "    \n",
    "    filtered_tokens=[]              # 불용어 제거된 토큰을 저장할 리스트\n",
    "    for token in tokens:            # 각 토큰에 대해\n",
    "        if token.form not in stopwords:  # 불용어가 아니면\n",
    "            filtered_tokens.append(token.form)  # 리스트에 추가\n",
    "\n",
    "    train.append(filtered_tokens)  # 결과를 전체 학습 데이터에 추가"
   ]
  },
  {
   "cell_type": "code",
   "execution_count": 64,
   "id": "f2630723-9f04-41f1-906c-f836c410a75d",
   "metadata": {},
   "outputs": [
    {
     "data": {
      "text/plain": [
       "['배', '공', '빠르', '굿']"
      ]
     },
     "execution_count": 64,
     "metadata": {},
     "output_type": "execute_result"
    }
   ],
   "source": [
    "train[0]"
   ]
  },
  {
   "cell_type": "code",
   "execution_count": 66,
   "id": "24d098f1-345a-467f-b628-46030b1c34cf",
   "metadata": {},
   "outputs": [],
   "source": [
    "# 띄어쓰기 기준으로 다시 문자열로 합치는 작업\n",
    "data['토큰화리뷰']=[' '.join(tokens) for tokens in train]"
   ]
  },
  {
   "cell_type": "code",
   "execution_count": 69,
   "id": "0aec18d5-928f-43a4-965a-075129dd39f1",
   "metadata": {},
   "outputs": [
    {
     "data": {
      "text/html": [
       "<div>\n",
       "<style scoped>\n",
       "    .dataframe tbody tr th:only-of-type {\n",
       "        vertical-align: middle;\n",
       "    }\n",
       "\n",
       "    .dataframe tbody tr th {\n",
       "        vertical-align: top;\n",
       "    }\n",
       "\n",
       "    .dataframe thead th {\n",
       "        text-align: right;\n",
       "    }\n",
       "</style>\n",
       "<table border=\"1\" class=\"dataframe\">\n",
       "  <thead>\n",
       "    <tr style=\"text-align: right;\">\n",
       "      <th></th>\n",
       "      <th>평점</th>\n",
       "      <th>리뷰</th>\n",
       "      <th>긍부정</th>\n",
       "      <th>토큰화리뷰</th>\n",
       "    </tr>\n",
       "  </thead>\n",
       "  <tbody>\n",
       "    <tr>\n",
       "      <th>0</th>\n",
       "      <td>5</td>\n",
       "      <td>배공빠르고 굿</td>\n",
       "      <td>1</td>\n",
       "      <td>배 공 빠르 굿</td>\n",
       "    </tr>\n",
       "    <tr>\n",
       "      <th>1</th>\n",
       "      <td>2</td>\n",
       "      <td>택배가 엉망이네용 저희집 밑에층에 말도없이 놔두고가고</td>\n",
       "      <td>0</td>\n",
       "      <td>택배 엉망 네요 ᆼ 저희 집 밑 층 말 없이 놔두</td>\n",
       "    </tr>\n",
       "    <tr>\n",
       "      <th>2</th>\n",
       "      <td>5</td>\n",
       "      <td>아주좋아요 바지 정말 좋아서개 더 구매했어요 이가격에 대박입니다 바느질이 조금 엉성...</td>\n",
       "      <td>1</td>\n",
       "      <td>아주 좋 어요 바지 정말 좋 어서 개 더 구매 었 어요 가격 대 박 ᆸ니다 바느질 ...</td>\n",
       "    </tr>\n",
       "    <tr>\n",
       "      <th>3</th>\n",
       "      <td>2</td>\n",
       "      <td>선물용으로 빨리 받아서 전달했어야 하는 상품이었는데 머그컵만 와서 당황했습니다 전화...</td>\n",
       "      <td>0</td>\n",
       "      <td>선물 용 으로 빨리 받 어서 전달 었 어야 상품 었 는데 머 그 컵 만 오 어서 당...</td>\n",
       "    </tr>\n",
       "    <tr>\n",
       "      <th>4</th>\n",
       "      <td>5</td>\n",
       "      <td>민트색상 예뻐요 옆 손잡이는 거는 용도로도 사용되네요 ㅎㅎ</td>\n",
       "      <td>1</td>\n",
       "      <td>민트 색상 예쁘 어요 옆 손잡이 거 용도 로 사용 되 네요 ㅎㅎ</td>\n",
       "    </tr>\n",
       "  </tbody>\n",
       "</table>\n",
       "</div>"
      ],
      "text/plain": [
       "   평점                                                 리뷰  긍부정  \\\n",
       "0   5                                            배공빠르고 굿    1   \n",
       "1   2                      택배가 엉망이네용 저희집 밑에층에 말도없이 놔두고가고    0   \n",
       "2   5  아주좋아요 바지 정말 좋아서개 더 구매했어요 이가격에 대박입니다 바느질이 조금 엉성...    1   \n",
       "3   2  선물용으로 빨리 받아서 전달했어야 하는 상품이었는데 머그컵만 와서 당황했습니다 전화...    0   \n",
       "4   5                   민트색상 예뻐요 옆 손잡이는 거는 용도로도 사용되네요 ㅎㅎ    1   \n",
       "\n",
       "                                               토큰화리뷰  \n",
       "0                                           배 공 빠르 굿  \n",
       "1                        택배 엉망 네요 ᆼ 저희 집 밑 층 말 없이 놔두  \n",
       "2  아주 좋 어요 바지 정말 좋 어서 개 더 구매 었 어요 가격 대 박 ᆸ니다 바느질 ...  \n",
       "3  선물 용 으로 빨리 받 어서 전달 었 어야 상품 었 는데 머 그 컵 만 오 어서 당...  \n",
       "4                민트 색상 예쁘 어요 옆 손잡이 거 용도 로 사용 되 네요 ㅎㅎ  "
      ]
     },
     "execution_count": 69,
     "metadata": {},
     "output_type": "execute_result"
    }
   ],
   "source": [
    "data.head()"
   ]
  },
  {
   "cell_type": "markdown",
   "id": "d37a1d84-eb9a-4ecd-8d1d-9cdf0d8c2ff5",
   "metadata": {},
   "source": [
    "### 긍부정 단어 빈도수"
   ]
  },
  {
   "cell_type": "code",
   "execution_count": 72,
   "id": "464dc0d4-e598-4669-a747-8bf7ca0b7066",
   "metadata": {},
   "outputs": [],
   "source": [
    "# 긍부정 단어 빈도수 \n",
    "# 부정 리뷰만 필터링 → '토큰화리뷰' 열만 추출\n",
    "negative_words=np.hstack(data[data['긍부정']==0]['토큰화리뷰'].values)\n",
    "positive_words=np.hstack(data[data['긍부정']==1]['토큰화리뷰'].values)\n",
    "\n",
    "negative_word_count=Counter(negative_words)   # 빈도수(출현 횟수) 계산\n",
    "positive_word_count=Counter(positive_words)"
   ]
  },
  {
   "cell_type": "code",
   "execution_count": 73,
   "id": "74eac42e-438c-475a-aab7-6f3eb1eec485",
   "metadata": {},
   "outputs": [
    {
     "data": {
      "text/plain": [
       "[('재 구매', 26),\n",
       " ('배송 너무 느리 어요', 17),\n",
       " ('그냥 그렇 어요', 9),\n",
       " ('좋 어요', 9),\n",
       " ('배송 빠르 좋 어요', 9),\n",
       " ('배송 빠르 어요', 8),\n",
       " ('생각 보다 별로 네요', 7),\n",
       " ('잘 받 었 습니다', 7),\n",
       " ('그저 그렇 어요', 7),\n",
       " ('그저 그렇 네요', 7),\n",
       " ('배송 겁나 느리 ᆷ', 7),\n",
       " ('별로 에요', 7),\n",
       " ('배송 너무 느리 ᆸ니다', 7),\n",
       " ('별로', 6),\n",
       " ('사이즈 작 어요', 6),\n",
       " ('딱 가격 만큼 ᆸ니다', 6),\n",
       " ('별루 ᆸ니다', 6),\n",
       " ('배송 느리 ᆷ', 5),\n",
       " ('냄새 심하 어요', 5),\n",
       " ('배송 너무 늦 네요', 5)]"
      ]
     },
     "execution_count": 73,
     "metadata": {},
     "output_type": "execute_result"
    }
   ],
   "source": [
    "negative_word_count.most_common(20)   # 빈도수 "
   ]
  },
  {
   "cell_type": "code",
   "execution_count": 76,
   "id": "eb09ab5c-9901-4a1c-8e7c-d8adfe071aba",
   "metadata": {},
   "outputs": [
    {
     "data": {
      "text/plain": [
       "[('재 구매', 29),\n",
       " ('좋 어요', 16),\n",
       " ('좋 습니다', 9),\n",
       " ('만족 ᆸ니다', 8),\n",
       " ('감사 ᆸ니다', 8),\n",
       " ('배송 빠르 어요', 7),\n",
       " ('굿', 6),\n",
       " ('조아요', 6),\n",
       " ('잘 받 었 습니다', 6),\n",
       " ('좋 네요', 5),\n",
       " ('빠르 ᆫ 배송 감사 ᆸ니다', 5),\n",
       " ('배송 빠르 네요', 5),\n",
       " ('재 구매 배송 빠르 좋 어요', 5),\n",
       " ('배송 빠르 좋 네요', 5),\n",
       " ('맘 어요', 4),\n",
       " ('괜찮 어요', 4),\n",
       " ('재 구매 빠르 ᆫ 배송 감사 ᆸ니다', 4),\n",
       " ('맛있 어요', 4),\n",
       " ('배송 빠르 좋 어요', 4),\n",
       " ('착용감 좋 어요', 4)]"
      ]
     },
     "execution_count": 76,
     "metadata": {},
     "output_type": "execute_result"
    }
   ],
   "source": [
    "positive_word_count.most_common(20)"
   ]
  },
  {
   "cell_type": "markdown",
   "id": "8c35b4a2-bb92-4afd-8b47-ad80fad6c7f4",
   "metadata": {},
   "source": [
    "## 학습 & 테스트 데이터셋 분리"
   ]
  },
  {
   "cell_type": "code",
   "execution_count": 79,
   "id": "71ec500f-6b82-4c07-9bfe-efa95b4df4aa",
   "metadata": {},
   "outputs": [
    {
     "data": {
      "text/plain": [
       "((149931, 4), (49977, 4))"
      ]
     },
     "execution_count": 79,
     "metadata": {},
     "output_type": "execute_result"
    }
   ],
   "source": [
    "train_data, test_data=train_test_split(data, test_size=0.25, random_state=42)\n",
    "train_data.shape, test_data.shape"
   ]
  },
  {
   "cell_type": "code",
   "execution_count": 81,
   "id": "9b63f876-de3a-4d91-96b6-db4aad9457c6",
   "metadata": {},
   "outputs": [
    {
     "data": {
      "text/plain": [
       "((149931,), (149931,), (49977,), (49977,))"
      ]
     },
     "execution_count": 81,
     "metadata": {},
     "output_type": "execute_result"
    }
   ],
   "source": [
    "X_train=train_data['토큰화리뷰'].values\n",
    "Y_train=train_data['긍부정'].values\n",
    "\n",
    "X_test=test_data['토큰화리뷰'].values\n",
    "Y_test=test_data['긍부정'].values\n",
    "\n",
    "X_train.shape, Y_train.shape, X_test.shape, Y_test.shape"
   ]
  },
  {
   "cell_type": "markdown",
   "id": "7286521a-d10f-4c61-8118-7b8b8779f60f",
   "metadata": {},
   "source": [
    "## 정수 인코딩 "
   ]
  },
  {
   "cell_type": "code",
   "execution_count": 84,
   "id": "13271ed8-d9d7-4eef-bb9d-097280db6c0b",
   "metadata": {},
   "outputs": [
    {
     "data": {
      "text/plain": [
       "38266"
      ]
     },
     "execution_count": 84,
     "metadata": {},
     "output_type": "execute_result"
    }
   ],
   "source": [
    "tokenizer=Tokenizer()\n",
    "tokenizer.fit_on_texts(X_train)\n",
    "total_cnt=len(tokenizer.word_index)\n",
    "total_cnt  # 단어의 수"
   ]
  },
  {
   "cell_type": "code",
   "execution_count": 86,
   "id": "acf41505-7f24-4f0f-a7fd-c54cf2d2e80b",
   "metadata": {},
   "outputs": [],
   "source": [
    "# 등장 횟수가 1회인 단어들은 자연어 처리에서 배재\n",
    "threshold=2       \n",
    "# total_cnt=len(tokenizer.word_index)   # 단어의 수\n",
    "rare_cnt=0                            # 등장빈도수가 threshold보다 작은 단어의 수\n",
    "rare_freq=0                           # 등장빈도수가  threshold보다 작은 단어의 등장 빈도수의 총합\n",
    "total_freq=0                          # 훈련데이터의 전체 단어 빈도수 총합\n",
    "\n",
    "for key, value in tokenizer.word_counts.items():  # 단어와 빈도수의 쌍(pair)을 key와 value로 받는다.\n",
    "    if(value < threshold):          # 등장빈도수가 threshold보다 작은 단어의 수\n",
    "        rare_cnt += 1\n",
    "        rare_freq += value\n",
    "    \n",
    "    total_freq += value             # 빈도수 총합"
   ]
  },
  {
   "cell_type": "code",
   "execution_count": 87,
   "id": "c52697ab-6c23-425a-b9e1-4f9eaae93084",
   "metadata": {},
   "outputs": [
    {
     "name": "stdout",
     "output_type": "stream",
     "text": [
      "단어집합(vocabulary)의 크기: 38266\n",
      "등장 빈도가 1번 이하인 희귀 단어의 수: 21482\n",
      "단어 집합에서 희귀 단어의 비율: 56.138608686562485\n",
      "전체 등장 빈도에서 희귀 단어 등장 빈도 비율: 0.8595237609386022\n"
     ]
    }
   ],
   "source": [
    "print(\"단어집합(vocabulary)의 크기:\", total_cnt)\n",
    "print('등장 빈도가 %s번 이하인 희귀 단어의 수: %s'%(threshold-1, rare_cnt))\n",
    "print(\"단어 집합에서 희귀 단어의 비율:\", (rare_cnt / total_cnt)*100)\n",
    "print(\"전체 등장 빈도에서 희귀 단어 등장 빈도 비율:\", (rare_freq / total_freq)*100)"
   ]
  },
  {
   "cell_type": "code",
   "execution_count": 90,
   "id": "911d549c-6c03-4a92-8730-42f53cf9143d",
   "metadata": {},
   "outputs": [
    {
     "data": {
      "text/plain": [
       "16786"
      ]
     },
     "execution_count": 90,
     "metadata": {},
     "output_type": "execute_result"
    }
   ],
   "source": [
    "vocab_size=total_cnt - rare_cnt + 2   # 패딩, OOV(Out Of Vocabulary)\n",
    "vocab_size     # 빈도순위"
   ]
  },
  {
   "cell_type": "markdown",
   "id": "3455fd42-f54e-43fe-aa50-31bafc2f151b",
   "metadata": {},
   "source": [
    "- OOV : 훈련에 없는 단어 포함시 토큰으로 대체\n",
    "    - 텍스트 시퀀스를 정수 시퀀스로 변환합니다. 정수 인코딩 과정에서 이보다 큰 숫자가 부여된 단어들은 OOV로 변환"
   ]
  },
  {
   "cell_type": "code",
   "execution_count": 93,
   "id": "5f9af63c-508a-45ab-a6c1-3b3036ae8f34",
   "metadata": {},
   "outputs": [],
   "source": [
    "tokenizer=Tokenizer(num_words=vocab_size, oov_token='OOV')   # 훈련 데이터에 없는 단어가 테스트 데이터 등에 나타날 경우\n",
    "tokenizer.fit_on_texts(X_train)\n",
    "X_train=tokenizer.texts_to_sequences(X_train)\n",
    "X_test=tokenizer.texts_to_sequences(X_test)"
   ]
  },
  {
   "cell_type": "code",
   "execution_count": 95,
   "id": "fc8ac6de-394d-42fc-ba95-fdbcfcfd2895",
   "metadata": {},
   "outputs": [
    {
     "name": "stdout",
     "output_type": "stream",
     "text": [
      "[[67, 1729, 298, 1946, 5, 13, 50, 70, 2, 234, 171, 144, 159, 2, 2562, 5, 692, 7, 71, 61, 132, 44, 969, 343, 162, 8, 2], [2095, 300, 52, 1947, 3905, 2563, 317, 1947, 313, 78, 4, 32, 444, 7], [46, 17, 1043, 113, 42, 1981, 160, 11, 16, 1409, 3, 2, 1203, 6, 128, 260, 4, 23, 58, 160, 128, 11, 1409, 7, 116, 13, 15, 489, 323, 124, 143]]\n"
     ]
    }
   ],
   "source": [
    "print(X_train[:3])"
   ]
  },
  {
   "cell_type": "code",
   "execution_count": 97,
   "id": "8ed05358-9988-490b-afa7-31ad351b382a",
   "metadata": {},
   "outputs": [
    {
     "name": "stdout",
     "output_type": "stream",
     "text": [
      "리뷰의 최대 길이 : 77\n",
      "리뷰의 평균 길이 : 16.669608019689058\n"
     ]
    }
   ],
   "source": [
    "print('리뷰의 최대 길이 :', max(len(review) for review in X_train))\n",
    "print('리뷰의 평균 길이 :', sum(map(len, X_train))/len(X_train))"
   ]
  },
  {
   "cell_type": "code",
   "execution_count": 99,
   "id": "d5d40f80-bde4-4a83-9b29-3cd3a97146db",
   "metadata": {},
   "outputs": [],
   "source": [
    "max_len=80\n",
    "X_train=sequence.pad_sequences(X_train, maxlen=max_len)\n",
    "X_test=sequence.pad_sequences(X_test, maxlen=max_len)"
   ]
  },
  {
   "cell_type": "markdown",
   "id": "c86d3b60-d0b4-41e8-a2dd-a71cd1b19185",
   "metadata": {},
   "source": [
    "## 학습 및 평가"
   ]
  },
  {
   "cell_type": "code",
   "execution_count": 101,
   "id": "7ee47082-d421-4155-9d83-f0328a4fe423",
   "metadata": {},
   "outputs": [],
   "source": [
    "model=Sequential()\n",
    "model.add(keras.layers.Input(shape=(max_len, )))\n",
    "model.add(keras.layers.Embedding(input_dim=vocab_size, output_dim=100))\n",
    "model.add(keras.layers.LSTM(128, activation='tanh'))\n",
    "model.add(keras.layers.Dense(1, activation='sigmoid'))"
   ]
  },
  {
   "cell_type": "code",
   "execution_count": 102,
   "id": "85153018-584a-4a14-821f-cfbe576cfe53",
   "metadata": {},
   "outputs": [
    {
     "name": "stdout",
     "output_type": "stream",
     "text": [
      "Epoch 1/3\n",
      "\u001b[1m1875/1875\u001b[0m \u001b[32m━━━━━━━━━━━━━━━━━━━━\u001b[0m\u001b[37m\u001b[0m \u001b[1m217s\u001b[0m 114ms/step - accuracy: 0.8438 - loss: 0.3656 - val_accuracy: 0.9052 - val_loss: 0.2524\n",
      "Epoch 2/3\n",
      "\u001b[1m1875/1875\u001b[0m \u001b[32m━━━━━━━━━━━━━━━━━━━━\u001b[0m\u001b[37m\u001b[0m \u001b[1m230s\u001b[0m 123ms/step - accuracy: 0.9170 - loss: 0.2305 - val_accuracy: 0.9107 - val_loss: 0.2398\n",
      "Epoch 3/3\n",
      "\u001b[1m1875/1875\u001b[0m \u001b[32m━━━━━━━━━━━━━━━━━━━━\u001b[0m\u001b[37m\u001b[0m \u001b[1m246s\u001b[0m 131ms/step - accuracy: 0.9233 - loss: 0.2131 - val_accuracy: 0.9205 - val_loss: 0.2237\n"
     ]
    }
   ],
   "source": [
    "es=EarlyStopping(monitor='val_loss', mode='min', verbose=1, patience=4)\n",
    "model.compile(optimizer='rmsprop', loss='binary_crossentropy', metrics=['accuracy'])\n",
    "history=model.fit(X_train, Y_train, epochs=3, callbacks=[es], batch_size=64, validation_split=0.2)   # epochs=15"
   ]
  },
  {
   "cell_type": "code",
   "execution_count": 126,
   "id": "683208ad-b2d8-4b65-bc4d-ceb995844852",
   "metadata": {},
   "outputs": [
    {
     "name": "stdout",
     "output_type": "stream",
     "text": [
      "\u001b[1m1562/1562\u001b[0m \u001b[32m━━━━━━━━━━━━━━━━━━━━\u001b[0m\u001b[37m\u001b[0m \u001b[1m47s\u001b[0m 30ms/step - accuracy: 0.9191 - loss: 0.2246\n"
     ]
    },
    {
     "data": {
      "text/plain": [
       "[0.2280949056148529, 0.9175620675086975]"
      ]
     },
     "execution_count": 126,
     "metadata": {},
     "output_type": "execute_result"
    }
   ],
   "source": [
    "model.evaluate(X_test, Y_test)"
   ]
  },
  {
   "cell_type": "markdown",
   "id": "197d823b-02f6-4deb-b0ef-f0e96335886b",
   "metadata": {},
   "source": [
    "## 테스트 "
   ]
  },
  {
   "cell_type": "code",
   "execution_count": 165,
   "id": "56f770bd-a77a-468b-829d-9814911f208e",
   "metadata": {},
   "outputs": [],
   "source": [
    "def sentiment_predict(new_sentence):\n",
    "  new_sentence=re.sub(r'[^ㄱ-ㅎㅏ-ㅣ가-힣 ]','', new_sentence)           # 정규 표현\n",
    "  new_sentence=[token.form for token in kiwi.tokenize(new_sentence)]     # 토근화\n",
    "  new_sentence=[word for word in new_sentence if word not in stopwords]  # 불용어 제거\n",
    "  encoded=tokenizer.texts_to_sequences([new_sentence])                   # 정수 인코딩\n",
    "  pad_new=sequence.pad_sequences(encoded, maxlen=max_len)                         # 패딩\n",
    "\n",
    "  score=float(model.predict(pad_new)[0][0])\n",
    "  if(score > 0.5):\n",
    "    print(\"{:.2f}% 확률로 긍정 리뷰입니다.\".format(score * 100))\n",
    "  else:\n",
    "    print(\"{:.2f}% 확률로 부정 리뷰입니다.\".format((1 - score) * 100))"
   ]
  },
  {
   "cell_type": "code",
   "execution_count": 167,
   "id": "6679f61d-10d1-40a0-9b1c-95d31ae8b661",
   "metadata": {},
   "outputs": [
    {
     "name": "stdout",
     "output_type": "stream",
     "text": [
      "\u001b[1m1/1\u001b[0m \u001b[32m━━━━━━━━━━━━━━━━━━━━\u001b[0m\u001b[37m\u001b[0m \u001b[1m0s\u001b[0m 377ms/step\n",
      "97.30% 확률로 긍정 리뷰입니다.\n"
     ]
    }
   ],
   "source": [
    "sentiment_predict('이 상품 진짜 좋아요... 저는 강추합니다. 대박')"
   ]
  },
  {
   "cell_type": "code",
   "execution_count": 169,
   "id": "fe88ea70-ba61-4c9e-9df8-ec3a6c9060d2",
   "metadata": {},
   "outputs": [
    {
     "name": "stdout",
     "output_type": "stream",
     "text": [
      "\u001b[1m1/1\u001b[0m \u001b[32m━━━━━━━━━━━━━━━━━━━━\u001b[0m\u001b[37m\u001b[0m \u001b[1m0s\u001b[0m 65ms/step\n",
      "99.82% 확률로 부정 리뷰입니다.\n"
     ]
    }
   ],
   "source": [
    "sentiment_predict('진짜 배송도 늦고 개짜증나네요. 뭐 이런 걸 상품이라고 만듬?')"
   ]
  },
  {
   "cell_type": "code",
   "execution_count": 171,
   "id": "aebf4c66-4920-49be-9c0e-cd2bc41a677f",
   "metadata": {},
   "outputs": [
    {
     "name": "stdout",
     "output_type": "stream",
     "text": [
      "\u001b[1m1/1\u001b[0m \u001b[32m━━━━━━━━━━━━━━━━━━━━\u001b[0m\u001b[37m\u001b[0m \u001b[1m0s\u001b[0m 68ms/step\n",
      "96.06% 확률로 긍정 리뷰입니다.\n"
     ]
    }
   ],
   "source": [
    "sentiment_predict('판매자님... 너무 짱이에요.. 대박나삼')"
   ]
  },
  {
   "cell_type": "code",
   "execution_count": 173,
   "id": "6a50340a-3b93-4b25-8c67-9b2693b28ba9",
   "metadata": {},
   "outputs": [
    {
     "name": "stdout",
     "output_type": "stream",
     "text": [
      "\u001b[1m1/1\u001b[0m \u001b[32m━━━━━━━━━━━━━━━━━━━━\u001b[0m\u001b[37m\u001b[0m \u001b[1m0s\u001b[0m 78ms/step\n",
      "93.09% 확률로 부정 리뷰입니다.\n"
     ]
    }
   ],
   "source": [
    "sentiment_predict('ㅁㄴㅇㄻㄴㅇㄻㄴㅇ리뷰쓰기도 귀찮아')"
   ]
  },
  {
   "cell_type": "markdown",
   "id": "6a2ab92c-4673-40c7-8dea-20267f2ab240",
   "metadata": {},
   "source": [
    "# 네이버 영화 리뷰 감성 분류\n",
    "- 데이터 : https://github.com/e9t/nsmc/"
   ]
  },
  {
   "cell_type": "markdown",
   "id": "7091a9bd-d152-416f-8820-d0481ab512be",
   "metadata": {},
   "source": [
    "## 데이터 로드"
   ]
  },
  {
   "cell_type": "code",
   "execution_count": 177,
   "id": "6a5b4726-45d5-47ef-9ed1-ad7acdc8badd",
   "metadata": {},
   "outputs": [
    {
     "data": {
      "text/plain": [
       "(200000, 3)"
      ]
     },
     "execution_count": 177,
     "metadata": {},
     "output_type": "execute_result"
    }
   ],
   "source": [
    "data=pd.read_table('./Data/ratings.txt')\n",
    "data.shape"
   ]
  },
  {
   "cell_type": "code",
   "execution_count": 179,
   "id": "9d7826de-eb9c-4348-a2e5-4d13c8f1273b",
   "metadata": {},
   "outputs": [
    {
     "data": {
      "text/html": [
       "<div>\n",
       "<style scoped>\n",
       "    .dataframe tbody tr th:only-of-type {\n",
       "        vertical-align: middle;\n",
       "    }\n",
       "\n",
       "    .dataframe tbody tr th {\n",
       "        vertical-align: top;\n",
       "    }\n",
       "\n",
       "    .dataframe thead th {\n",
       "        text-align: right;\n",
       "    }\n",
       "</style>\n",
       "<table border=\"1\" class=\"dataframe\">\n",
       "  <thead>\n",
       "    <tr style=\"text-align: right;\">\n",
       "      <th></th>\n",
       "      <th>id</th>\n",
       "      <th>document</th>\n",
       "      <th>label</th>\n",
       "    </tr>\n",
       "  </thead>\n",
       "  <tbody>\n",
       "    <tr>\n",
       "      <th>0</th>\n",
       "      <td>8112052</td>\n",
       "      <td>어릴때보고 지금다시봐도 재밌어요ㅋㅋ</td>\n",
       "      <td>1</td>\n",
       "    </tr>\n",
       "    <tr>\n",
       "      <th>1</th>\n",
       "      <td>8132799</td>\n",
       "      <td>디자인을 배우는 학생으로, 외국디자이너와 그들이 일군 전통을 통해 발전해가는 문화산...</td>\n",
       "      <td>1</td>\n",
       "    </tr>\n",
       "    <tr>\n",
       "      <th>2</th>\n",
       "      <td>4655635</td>\n",
       "      <td>폴리스스토리 시리즈는 1부터 뉴까지 버릴께 하나도 없음.. 최고.</td>\n",
       "      <td>1</td>\n",
       "    </tr>\n",
       "    <tr>\n",
       "      <th>3</th>\n",
       "      <td>9251303</td>\n",
       "      <td>와.. 연기가 진짜 개쩔구나.. 지루할거라고 생각했는데 몰입해서 봤다.. 그래 이런...</td>\n",
       "      <td>1</td>\n",
       "    </tr>\n",
       "    <tr>\n",
       "      <th>4</th>\n",
       "      <td>10067386</td>\n",
       "      <td>안개 자욱한 밤하늘에 떠 있는 초승달 같은 영화.</td>\n",
       "      <td>1</td>\n",
       "    </tr>\n",
       "  </tbody>\n",
       "</table>\n",
       "</div>"
      ],
      "text/plain": [
       "         id                                           document  label\n",
       "0   8112052                                어릴때보고 지금다시봐도 재밌어요ㅋㅋ      1\n",
       "1   8132799  디자인을 배우는 학생으로, 외국디자이너와 그들이 일군 전통을 통해 발전해가는 문화산...      1\n",
       "2   4655635               폴리스스토리 시리즈는 1부터 뉴까지 버릴께 하나도 없음.. 최고.      1\n",
       "3   9251303  와.. 연기가 진짜 개쩔구나.. 지루할거라고 생각했는데 몰입해서 봤다.. 그래 이런...      1\n",
       "4  10067386                        안개 자욱한 밤하늘에 떠 있는 초승달 같은 영화.      1"
      ]
     },
     "execution_count": 179,
     "metadata": {},
     "output_type": "execute_result"
    }
   ],
   "source": [
    "data.head()"
   ]
  },
  {
   "cell_type": "code",
   "execution_count": 181,
   "id": "7b45b98e-2c5b-4371-b5a4-24a07fb34247",
   "metadata": {},
   "outputs": [
    {
     "name": "stdout",
     "output_type": "stream",
     "text": [
      "<class 'pandas.core.frame.DataFrame'>\n",
      "RangeIndex: 200000 entries, 0 to 199999\n",
      "Data columns (total 3 columns):\n",
      " #   Column    Non-Null Count   Dtype \n",
      "---  ------    --------------   ----- \n",
      " 0   id        200000 non-null  int64 \n",
      " 1   document  199992 non-null  object\n",
      " 2   label     200000 non-null  int64 \n",
      "dtypes: int64(2), object(1)\n",
      "memory usage: 4.6+ MB\n"
     ]
    }
   ],
   "source": [
    "data.info()"
   ]
  },
  {
   "cell_type": "markdown",
   "id": "cb2ce596-b51e-45d9-baf9-bb8dfb76320b",
   "metadata": {},
   "source": [
    "## 데이터 전처리"
   ]
  },
  {
   "cell_type": "code",
   "execution_count": 184,
   "id": "30285d48-327c-4072-8e33-885db9e631f9",
   "metadata": {},
   "outputs": [
    {
     "data": {
      "text/plain": [
       "(194543, 2)"
      ]
     },
     "execution_count": 184,
     "metadata": {},
     "output_type": "execute_result"
    }
   ],
   "source": [
    "# 중복 유무 확인\n",
    "data['document'].nunique(), data['label'].nunique()  "
   ]
  },
  {
   "cell_type": "code",
   "execution_count": 186,
   "id": "77f1c96e-8238-4a43-9ace-75caa7371760",
   "metadata": {},
   "outputs": [],
   "source": [
    "# X: 중복되는 내용 삭제\n",
    "data.drop_duplicates(subset=['document'], inplace=True)"
   ]
  },
  {
   "cell_type": "code",
   "execution_count": 187,
   "id": "e94d068b-939a-49f4-b020-64d0f0af4353",
   "metadata": {},
   "outputs": [
    {
     "data": {
      "text/plain": [
       "label\n",
       "0    97277\n",
       "1    97267\n",
       "Name: count, dtype: int64"
      ]
     },
     "execution_count": 187,
     "metadata": {},
     "output_type": "execute_result"
    }
   ],
   "source": [
    "# Y: 빈도수\n",
    "data['label'].value_counts()"
   ]
  },
  {
   "cell_type": "code",
   "execution_count": 188,
   "id": "9cc30b2e-53c4-4584-b8ec-9c60d31ba226",
   "metadata": {},
   "outputs": [
    {
     "data": {
      "text/plain": [
       "id          0\n",
       "document    1\n",
       "label       0\n",
       "dtype: int64"
      ]
     },
     "execution_count": 188,
     "metadata": {},
     "output_type": "execute_result"
    }
   ],
   "source": [
    "# 빈 값 처리\n",
    "data.isnull().sum()"
   ]
  },
  {
   "cell_type": "code",
   "execution_count": 189,
   "id": "fdeea310-81c2-491a-8a8e-3aa8e2dff14f",
   "metadata": {},
   "outputs": [],
   "source": [
    "data.dropna(inplace=True)"
   ]
  },
  {
   "cell_type": "code",
   "execution_count": 190,
   "id": "3c1f23b2-e5e8-4a5a-8067-0402d5f32898",
   "metadata": {},
   "outputs": [
    {
     "data": {
      "text/plain": [
       "(194543, 3)"
      ]
     },
     "execution_count": 190,
     "metadata": {},
     "output_type": "execute_result"
    }
   ],
   "source": [
    "data.shape"
   ]
  },
  {
   "cell_type": "markdown",
   "id": "5ade63c4-88bc-4829-9f95-c2c7904ca1fe",
   "metadata": {},
   "source": [
    "## 데이터 정제\n",
    "### 정규화"
   ]
  },
  {
   "cell_type": "code",
   "execution_count": 199,
   "id": "cc62897c-428b-4a8f-8243-1f317dc2c73e",
   "metadata": {},
   "outputs": [],
   "source": [
    "# 한글과 공백을 제외하고 모두 제거\n",
    "data['document']=data['document'].str.replace(\"[^ㄱ-ㅎㅏ-ㅣ가-힣 ]\", \"\", regex=True) "
   ]
  },
  {
   "cell_type": "code",
   "execution_count": 201,
   "id": "988e3526-d312-47e4-abee-d408acff250f",
   "metadata": {},
   "outputs": [
    {
     "data": {
      "text/html": [
       "<div>\n",
       "<style scoped>\n",
       "    .dataframe tbody tr th:only-of-type {\n",
       "        vertical-align: middle;\n",
       "    }\n",
       "\n",
       "    .dataframe tbody tr th {\n",
       "        vertical-align: top;\n",
       "    }\n",
       "\n",
       "    .dataframe thead th {\n",
       "        text-align: right;\n",
       "    }\n",
       "</style>\n",
       "<table border=\"1\" class=\"dataframe\">\n",
       "  <thead>\n",
       "    <tr style=\"text-align: right;\">\n",
       "      <th></th>\n",
       "      <th>id</th>\n",
       "      <th>document</th>\n",
       "      <th>label</th>\n",
       "    </tr>\n",
       "  </thead>\n",
       "  <tbody>\n",
       "    <tr>\n",
       "      <th>0</th>\n",
       "      <td>8112052</td>\n",
       "      <td>어릴때보고 지금다시봐도 재밌어요ㅋㅋ</td>\n",
       "      <td>1</td>\n",
       "    </tr>\n",
       "    <tr>\n",
       "      <th>1</th>\n",
       "      <td>8132799</td>\n",
       "      <td>디자인을 배우는 학생으로 외국디자이너와 그들이 일군 전통을 통해 발전해가는 문화산업...</td>\n",
       "      <td>1</td>\n",
       "    </tr>\n",
       "    <tr>\n",
       "      <th>2</th>\n",
       "      <td>4655635</td>\n",
       "      <td>폴리스스토리 시리즈는 부터 뉴까지 버릴께 하나도 없음 최고</td>\n",
       "      <td>1</td>\n",
       "    </tr>\n",
       "    <tr>\n",
       "      <th>3</th>\n",
       "      <td>9251303</td>\n",
       "      <td>와 연기가 진짜 개쩔구나 지루할거라고 생각했는데 몰입해서 봤다 그래 이런게 진짜 영화지</td>\n",
       "      <td>1</td>\n",
       "    </tr>\n",
       "    <tr>\n",
       "      <th>4</th>\n",
       "      <td>10067386</td>\n",
       "      <td>안개 자욱한 밤하늘에 떠 있는 초승달 같은 영화</td>\n",
       "      <td>1</td>\n",
       "    </tr>\n",
       "  </tbody>\n",
       "</table>\n",
       "</div>"
      ],
      "text/plain": [
       "         id                                           document  label\n",
       "0   8112052                                어릴때보고 지금다시봐도 재밌어요ㅋㅋ      1\n",
       "1   8132799  디자인을 배우는 학생으로 외국디자이너와 그들이 일군 전통을 통해 발전해가는 문화산업...      1\n",
       "2   4655635                   폴리스스토리 시리즈는 부터 뉴까지 버릴께 하나도 없음 최고      1\n",
       "3   9251303   와 연기가 진짜 개쩔구나 지루할거라고 생각했는데 몰입해서 봤다 그래 이런게 진짜 영화지      1\n",
       "4  10067386                         안개 자욱한 밤하늘에 떠 있는 초승달 같은 영화      1"
      ]
     },
     "execution_count": 201,
     "metadata": {},
     "output_type": "execute_result"
    }
   ],
   "source": [
    "data.head()"
   ]
  },
  {
   "cell_type": "code",
   "execution_count": 203,
   "id": "5cfee5bb-1518-473e-a685-cbb45e0dbddc",
   "metadata": {},
   "outputs": [],
   "source": [
    "# 네이버 영화 리뷰는 한글이 아니더라도 영어, 숫자, 특수문자로도 \n",
    "# 리뷰를 업로드 가능하므로 빈값 도출 - 하나 이상의 공백 있으면\n",
    "data['document']=data['document'].str.replace('^ +', \"\", regex=True)   "
   ]
  },
  {
   "cell_type": "code",
   "execution_count": 205,
   "id": "17bb1122-a263-48a7-b838-3b2fd60e923b",
   "metadata": {},
   "outputs": [],
   "source": [
    "# 하나 이상의 공백 있으면 >> Null 변경 삭제\n",
    "data['document']=data['document'].replace('', np.nan)   "
   ]
  },
  {
   "cell_type": "code",
   "execution_count": 207,
   "id": "9bd047fa-8492-4261-9e0e-2e2ab7bcac9b",
   "metadata": {},
   "outputs": [],
   "source": [
    "data.dropna(inplace=True)"
   ]
  },
  {
   "cell_type": "code",
   "execution_count": 208,
   "id": "b3de5ad3-19a7-47fa-bd03-1739381038cc",
   "metadata": {},
   "outputs": [
    {
     "data": {
      "text/plain": [
       "(193518, 3)"
      ]
     },
     "execution_count": 208,
     "metadata": {},
     "output_type": "execute_result"
    }
   ],
   "source": [
    "data.shape"
   ]
  },
  {
   "cell_type": "markdown",
   "id": "120beabf-7535-4d4e-a74f-7aa6ed130d62",
   "metadata": {},
   "source": [
    "### 토큰화\n",
    "- 불용어 제거"
   ]
  },
  {
   "cell_type": "code",
   "execution_count": 212,
   "id": "700fab15-a943-4303-9474-786d45d1f78e",
   "metadata": {},
   "outputs": [],
   "source": [
    "stopwords=['의','가','이','은','들','는','좀','잘','걍','과','도','를','으로','자','에','와','한','하다']"
   ]
  },
  {
   "cell_type": "code",
   "execution_count": 214,
   "id": "ac75415c-1621-42b0-854b-c6179697da58",
   "metadata": {},
   "outputs": [
    {
     "name": "stderr",
     "output_type": "stream",
     "text": [
      "100%|█████████████████████████████████████████████████████████████████████████| 193518/193518 [04:57<00:00, 649.99it/s]\n"
     ]
    }
   ],
   "source": [
    "kiwi=Kiwi()\n",
    "\n",
    "data_list=[]\n",
    "for sentence in tqdm(data['document']):\n",
    "    tokens=kiwi.tokenize(sentence)\n",
    "    filtered_tokens=[token.form for token in tokens if token.form not in stopwords]\n",
    "    data_list.append(filtered_tokens)"
   ]
  },
  {
   "cell_type": "code",
   "execution_count": 229,
   "id": "604d1327-0ffd-42d7-8d9c-5da3ce0bcedf",
   "metadata": {},
   "outputs": [
    {
     "data": {
      "text/html": [
       "<div>\n",
       "<style scoped>\n",
       "    .dataframe tbody tr th:only-of-type {\n",
       "        vertical-align: middle;\n",
       "    }\n",
       "\n",
       "    .dataframe tbody tr th {\n",
       "        vertical-align: top;\n",
       "    }\n",
       "\n",
       "    .dataframe thead th {\n",
       "        text-align: right;\n",
       "    }\n",
       "</style>\n",
       "<table border=\"1\" class=\"dataframe\">\n",
       "  <thead>\n",
       "    <tr style=\"text-align: right;\">\n",
       "      <th></th>\n",
       "      <th>id</th>\n",
       "      <th>document</th>\n",
       "      <th>label</th>\n",
       "      <th>token_documnet</th>\n",
       "    </tr>\n",
       "  </thead>\n",
       "  <tbody>\n",
       "    <tr>\n",
       "      <th>0</th>\n",
       "      <td>8112052</td>\n",
       "      <td>어릴때보고 지금다시봐도 재밌어요ㅋㅋ</td>\n",
       "      <td>1</td>\n",
       "      <td>어리 ᆯ 때 보 고 지금 다시 보 어도 재밌 어요 ㅋㅋ</td>\n",
       "    </tr>\n",
       "    <tr>\n",
       "      <th>1</th>\n",
       "      <td>8132799</td>\n",
       "      <td>디자인을 배우는 학생으로 외국디자이너와 그들이 일군 전통을 통해 발전해가는 문화산업...</td>\n",
       "      <td>1</td>\n",
       "      <td>디자인 을 배우 학생 외국 디자이너 그 일구 ᆫ 전통 을 통하 어 발전 하 어 문화...</td>\n",
       "    </tr>\n",
       "    <tr>\n",
       "      <th>2</th>\n",
       "      <td>4655635</td>\n",
       "      <td>폴리스스토리 시리즈는 부터 뉴까지 버릴께 하나도 없음 최고</td>\n",
       "      <td>1</td>\n",
       "      <td>폴리스 스토리 시리즈 부터 뉴 까지 버리 ᆯ께 하나 없 음 최고</td>\n",
       "    </tr>\n",
       "    <tr>\n",
       "      <th>3</th>\n",
       "      <td>9251303</td>\n",
       "      <td>와 연기가 진짜 개쩔구나 지루할거라고 생각했는데 몰입해서 봤다 그래 이런게 진짜 영화지</td>\n",
       "      <td>1</td>\n",
       "      <td>연기 진짜 개쩔구 나 지루하 ᆯ 거 라고 생각 하 었 는데 몰입 하 어서 보 었 다...</td>\n",
       "    </tr>\n",
       "    <tr>\n",
       "      <th>4</th>\n",
       "      <td>10067386</td>\n",
       "      <td>안개 자욱한 밤하늘에 떠 있는 초승달 같은 영화</td>\n",
       "      <td>1</td>\n",
       "      <td>안개 자욱 하 ᆫ 밤하늘 뜨 어 있 초승달 같 영화</td>\n",
       "    </tr>\n",
       "  </tbody>\n",
       "</table>\n",
       "</div>"
      ],
      "text/plain": [
       "         id                                           document  label  \\\n",
       "0   8112052                                어릴때보고 지금다시봐도 재밌어요ㅋㅋ      1   \n",
       "1   8132799  디자인을 배우는 학생으로 외국디자이너와 그들이 일군 전통을 통해 발전해가는 문화산업...      1   \n",
       "2   4655635                   폴리스스토리 시리즈는 부터 뉴까지 버릴께 하나도 없음 최고      1   \n",
       "3   9251303   와 연기가 진짜 개쩔구나 지루할거라고 생각했는데 몰입해서 봤다 그래 이런게 진짜 영화지      1   \n",
       "4  10067386                         안개 자욱한 밤하늘에 떠 있는 초승달 같은 영화      1   \n",
       "\n",
       "                                      token_documnet  \n",
       "0                     어리 ᆯ 때 보 고 지금 다시 보 어도 재밌 어요 ㅋㅋ  \n",
       "1  디자인 을 배우 학생 외국 디자이너 그 일구 ᆫ 전통 을 통하 어 발전 하 어 문화...  \n",
       "2                폴리스 스토리 시리즈 부터 뉴 까지 버리 ᆯ께 하나 없 음 최고  \n",
       "3  연기 진짜 개쩔구 나 지루하 ᆯ 거 라고 생각 하 었 는데 몰입 하 어서 보 었 다...  \n",
       "4                       안개 자욱 하 ᆫ 밤하늘 뜨 어 있 초승달 같 영화  "
      ]
     },
     "execution_count": 229,
     "metadata": {},
     "output_type": "execute_result"
    }
   ],
   "source": [
    "data['token_documnet']=[' '.join(tokens) for tokens in data_list]\n",
    "data.head()"
   ]
  },
  {
   "cell_type": "markdown",
   "id": "0a7cf2df-3e52-4244-a798-267af07229d1",
   "metadata": {},
   "source": [
    "## 학습 & 테스트 데이터셋 분리"
   ]
  },
  {
   "cell_type": "code",
   "execution_count": 231,
   "id": "86deb764-eb44-40fd-ab87-04f0b1679900",
   "metadata": {},
   "outputs": [
    {
     "data": {
      "text/plain": [
       "((135462, 4), (58056, 4))"
      ]
     },
     "execution_count": 231,
     "metadata": {},
     "output_type": "execute_result"
    }
   ],
   "source": [
    "train_data, test_data=train_test_split(data, test_size=0.3, random_state=42)\n",
    "train_data.shape, test_data.shape"
   ]
  },
  {
   "cell_type": "code",
   "execution_count": 232,
   "id": "1de8057f-388e-4d6f-9cff-35dab027e81c",
   "metadata": {},
   "outputs": [
    {
     "data": {
      "text/plain": [
       "((135462,), (135462,), (58056,), (58056,))"
      ]
     },
     "execution_count": 232,
     "metadata": {},
     "output_type": "execute_result"
    }
   ],
   "source": [
    "X_train=train_data['token_documnet'].values\n",
    "Y_train=train_data['label'].values\n",
    "\n",
    "X_test=test_data['token_documnet'].values\n",
    "Y_test=test_data['label'].values\n",
    "\n",
    "X_train.shape, Y_train.shape, X_test.shape, Y_test.shape"
   ]
  },
  {
   "cell_type": "markdown",
   "id": "0a67f7c0-3be0-4182-85bb-a6f0392098ca",
   "metadata": {},
   "source": [
    "## 정수 인코딩"
   ]
  },
  {
   "cell_type": "code",
   "execution_count": 234,
   "id": "8e7f5cbe-9d5a-4a81-a4be-9d8fae752483",
   "metadata": {},
   "outputs": [
    {
     "data": {
      "text/plain": [
       "44082"
      ]
     },
     "execution_count": 234,
     "metadata": {},
     "output_type": "execute_result"
    }
   ],
   "source": [
    "token=Tokenizer()\n",
    "token.fit_on_texts(X_train)\n",
    "total_cnt=len(token.word_index)    \n",
    "total_cnt    # 단어의 수"
   ]
  },
  {
   "cell_type": "code",
   "execution_count": 235,
   "id": "e475c5e0-41fa-422e-8d48-34622f4e8798",
   "metadata": {},
   "outputs": [],
   "source": [
    "threshold=2       # 등장 횟수가 1회인 단어들은 자연어 처리에서 배재\n",
    "rare_cnt=0        # 등장빈도수가 threshold보다 작은 단어의 수\n",
    "rare_freq=0       # 등장빈도수가  threshold보다 작은 단어의 등장 빈도수(rare_cnt)의 총합\n",
    "total_freq=0      # 훈련데이터의 전체 단어 빈도수 총합\n",
    "\n",
    "for key, value in token.word_counts.items():    # 단어와 빈도수의 쌍(pair)을 key와 value로 받는다.\n",
    "    if(value < threshold):         # 등장빈도수가 threshold보다 작은 단어의 수   \n",
    "        rare_cnt += 1              # 등장빈도수가 threshold보다 작은 단어의 수\n",
    "        rare_freq += value         # 등장빈도수가 threshold보다 작은 단어 총합\n",
    "    \n",
    "    total_freq += value             # 빈도수 총합"
   ]
  },
  {
   "cell_type": "code",
   "execution_count": 236,
   "id": "222a0c9c-f013-47d0-b777-8ada00a90b0a",
   "metadata": {},
   "outputs": [
    {
     "name": "stdout",
     "output_type": "stream",
     "text": [
      "단어집합(vocabulary)의 크기: 44082\n",
      "등장 빈도가 1번 이하인 희귀 단어의 수: 21407\n",
      "단어 집합에서 희귀 단어의 비율: 48.561771244498885\n",
      "전체 등장 빈도에서 희귀 단어 등장 빈도 비율: 1.0279901249175836\n"
     ]
    }
   ],
   "source": [
    "print(\"단어집합(vocabulary)의 크기:\", total_cnt)\n",
    "print('등장 빈도가 %s번 이하인 희귀 단어의 수: %s'%(threshold-1, rare_cnt))\n",
    "print(\"단어 집합에서 희귀 단어의 비율:\", (rare_cnt / total_cnt)*100)\n",
    "print(\"전체 등장 빈도에서 희귀 단어 등장 빈도 비율:\", (rare_freq / total_freq)*100)"
   ]
  },
  {
   "cell_type": "code",
   "execution_count": 237,
   "id": "3e171dff-b4f4-42bf-b679-9478066ba710",
   "metadata": {},
   "outputs": [
    {
     "data": {
      "text/plain": [
       "22677"
      ]
     },
     "execution_count": 237,
     "metadata": {},
     "output_type": "execute_result"
    }
   ],
   "source": [
    "vocab_size=total_cnt - rare_cnt + 2   # 패딩, OOV(Out Of Vocabulary)\n",
    "vocab_size       # 빈도순위"
   ]
  },
  {
   "cell_type": "code",
   "execution_count": 238,
   "id": "c9f8cc35-ea31-4b2c-b8ad-990a68f8219c",
   "metadata": {},
   "outputs": [],
   "source": [
    "tokenizer=Tokenizer(num_words=vocab_size, oov_token='OOV')   # 훈련 데이터에 없는 단어가 테스트 데이터 등에 나타날 경우\n",
    "tokenizer.fit_on_texts(X_train)\n",
    "X_train=tokenizer.texts_to_sequences(X_train)\n",
    "X_test=tokenizer.texts_to_sequences(X_test)"
   ]
  },
  {
   "cell_type": "code",
   "execution_count": 239,
   "id": "87f1981e-eec7-43b1-bf1d-959066377ea8",
   "metadata": {},
   "outputs": [
    {
     "name": "stdout",
     "output_type": "stream",
     "text": [
      "[[1093, 452, 21, 17302, 319, 21, 17303, 1, 3191, 9, 180, 8, 68, 45], [11125, 610, 21, 2415, 203, 20, 1645], [1, 1, 9194]]\n"
     ]
    }
   ],
   "source": [
    "print(X_train[:3])"
   ]
  },
  {
   "cell_type": "code",
   "execution_count": 240,
   "id": "b518c078-bc95-40a0-b10b-a29771e4b386",
   "metadata": {},
   "outputs": [
    {
     "name": "stdout",
     "output_type": "stream",
     "text": [
      "리뷰의 최대 길이 : 93\n",
      "리뷰의 평균 길이 : 15.372672779081956\n"
     ]
    }
   ],
   "source": [
    "print('리뷰의 최대 길이 :', max(len(review) for review in X_train))\n",
    "print('리뷰의 평균 길이 :', sum(map(len, X_train))/len(X_train))"
   ]
  },
  {
   "cell_type": "code",
   "execution_count": 241,
   "id": "4cd2a8b0-53d0-440a-ad78-726867265f58",
   "metadata": {},
   "outputs": [
    {
     "name": "stdout",
     "output_type": "stream",
     "text": [
      "리뷰의 최대 길이 : 93\n",
      "리뷰의 평균 길이 : 15.372672779081956\n"
     ]
    },
    {
     "data": {
      "image/png": "[encoded data removed]",
      "text/plain": [
       "<Figure size 640x480 with 1 Axes>"
      ]
     },
     "metadata": {},
     "output_type": "display_data"
    }
   ],
   "source": [
    "print('리뷰의 최대 길이 :',max(len(review) for review in X_train))\n",
    "print('리뷰의 평균 길이 :',sum(map(len, X_train))/len(X_train))\n",
    "\n",
    "plt.hist([len(review) for review in X_train], bins=50)\n",
    "plt.xlabel('length of samples')\n",
    "plt.ylabel('number of samples')\n",
    "plt.show()"
   ]
  },
  {
   "cell_type": "code",
   "execution_count": 242,
   "id": "16c7ccad-6111-4443-83d2-2d750ba0c6ff",
   "metadata": {},
   "outputs": [],
   "source": [
    "# max_len 값이 얼마나 많은 리뷰 길이를 커버하는지 확인\n",
    "def below_threshold_len(max_len, X_train):\n",
    "  cnt=0\n",
    "  for sentence in X_train:\n",
    "    if(len(sentence) <= max_len):\n",
    "        cnt=cnt + 1\n",
    "  print('전체 샘플 중 길이가 %s 이하인 샘플의 비율: %s'%(max_len, (cnt / len(X_train))*100))"
   ]
  },
  {
   "cell_type": "code",
   "execution_count": 243,
   "id": "d0db745d-27ee-4c07-bec1-69e0bfaffcd8",
   "metadata": {},
   "outputs": [
    {
     "name": "stdout",
     "output_type": "stream",
     "text": [
      "전체 샘플 중 길이가 40 이하인 샘플의 비율: 93.21654781414715\n"
     ]
    }
   ],
   "source": [
    "max_len=40\n",
    "below_threshold_len(max_len, X_train)"
   ]
  },
  {
   "cell_type": "code",
   "execution_count": 244,
   "id": "f3426722-7107-40fb-961c-026e82753004",
   "metadata": {},
   "outputs": [],
   "source": [
    "X_train=sequence.pad_sequences(X_train, maxlen=max_len)\n",
    "X_test=sequence.pad_sequences(X_test, maxlen=max_len)"
   ]
  },
  {
   "cell_type": "markdown",
   "id": "e56c5604-cf3f-433e-9300-2498fff42045",
   "metadata": {},
   "source": [
    "## 학습 및 평가"
   ]
  },
  {
   "cell_type": "code",
   "execution_count": 246,
   "id": "287563c9-f8b4-47b2-af20-1433a3def4a5",
   "metadata": {},
   "outputs": [
    {
     "data": {
      "text/html": [
       "<pre style=\"white-space:pre;overflow-x:auto;line-height:normal;font-family:Menlo,'DejaVu Sans Mono',consolas,'Courier New',monospace\"><span style=\"font-weight: bold\">Model: \"sequential_1\"</span>\n",
       "</pre>\n"
      ],
      "text/plain": [
       "\u001b[1mModel: \"sequential_1\"\u001b[0m\n"
      ]
     },
     "metadata": {},
     "output_type": "display_data"
    },
    {
     "data": {
      "text/html": [
       "<pre style=\"white-space:pre;overflow-x:auto;line-height:normal;font-family:Menlo,'DejaVu Sans Mono',consolas,'Courier New',monospace\">┏━━━━━━━━━━━━━━━━━━━━━━━━━━━━━━━━━━━━━━┳━━━━━━━━━━━━━━━━━━━━━━━━━━━━━┳━━━━━━━━━━━━━━━━━┓\n",
       "┃<span style=\"font-weight: bold\"> Layer (type)                         </span>┃<span style=\"font-weight: bold\"> Output Shape                </span>┃<span style=\"font-weight: bold\">         Param # </span>┃\n",
       "┡━━━━━━━━━━━━━━━━━━━━━━━━━━━━━━━━━━━━━━╇━━━━━━━━━━━━━━━━━━━━━━━━━━━━━╇━━━━━━━━━━━━━━━━━┩\n",
       "│ embedding_1 (<span style=\"color: #0087ff; text-decoration-color: #0087ff\">Embedding</span>)              │ (<span style=\"color: #00d7ff; text-decoration-color: #00d7ff\">None</span>, <span style=\"color: #00af00; text-decoration-color: #00af00\">40</span>, <span style=\"color: #00af00; text-decoration-color: #00af00\">128</span>)             │       <span style=\"color: #00af00; text-decoration-color: #00af00\">2,902,656</span> │\n",
       "├──────────────────────────────────────┼─────────────────────────────┼─────────────────┤\n",
       "│ flatten (<span style=\"color: #0087ff; text-decoration-color: #0087ff\">Flatten</span>)                    │ (<span style=\"color: #00d7ff; text-decoration-color: #00d7ff\">None</span>, <span style=\"color: #00af00; text-decoration-color: #00af00\">5120</span>)                │               <span style=\"color: #00af00; text-decoration-color: #00af00\">0</span> │\n",
       "├──────────────────────────────────────┼─────────────────────────────┼─────────────────┤\n",
       "│ dense_1 (<span style=\"color: #0087ff; text-decoration-color: #0087ff\">Dense</span>)                      │ (<span style=\"color: #00d7ff; text-decoration-color: #00d7ff\">None</span>, <span style=\"color: #00af00; text-decoration-color: #00af00\">1</span>)                   │           <span style=\"color: #00af00; text-decoration-color: #00af00\">5,121</span> │\n",
       "└──────────────────────────────────────┴─────────────────────────────┴─────────────────┘\n",
       "</pre>\n"
      ],
      "text/plain": [
       "┏━━━━━━━━━━━━━━━━━━━━━━━━━━━━━━━━━━━━━━┳━━━━━━━━━━━━━━━━━━━━━━━━━━━━━┳━━━━━━━━━━━━━━━━━┓\n",
       "┃\u001b[1m \u001b[0m\u001b[1mLayer (type)                        \u001b[0m\u001b[1m \u001b[0m┃\u001b[1m \u001b[0m\u001b[1mOutput Shape               \u001b[0m\u001b[1m \u001b[0m┃\u001b[1m \u001b[0m\u001b[1m        Param #\u001b[0m\u001b[1m \u001b[0m┃\n",
       "┡━━━━━━━━━━━━━━━━━━━━━━━━━━━━━━━━━━━━━━╇━━━━━━━━━━━━━━━━━━━━━━━━━━━━━╇━━━━━━━━━━━━━━━━━┩\n",
       "│ embedding_1 (\u001b[38;5;33mEmbedding\u001b[0m)              │ (\u001b[38;5;45mNone\u001b[0m, \u001b[38;5;34m40\u001b[0m, \u001b[38;5;34m128\u001b[0m)             │       \u001b[38;5;34m2,902,656\u001b[0m │\n",
       "├──────────────────────────────────────┼─────────────────────────────┼─────────────────┤\n",
       "│ flatten (\u001b[38;5;33mFlatten\u001b[0m)                    │ (\u001b[38;5;45mNone\u001b[0m, \u001b[38;5;34m5120\u001b[0m)                │               \u001b[38;5;34m0\u001b[0m │\n",
       "├──────────────────────────────────────┼─────────────────────────────┼─────────────────┤\n",
       "│ dense_1 (\u001b[38;5;33mDense\u001b[0m)                      │ (\u001b[38;5;45mNone\u001b[0m, \u001b[38;5;34m1\u001b[0m)                   │           \u001b[38;5;34m5,121\u001b[0m │\n",
       "└──────────────────────────────────────┴─────────────────────────────┴─────────────────┘\n"
      ]
     },
     "metadata": {},
     "output_type": "display_data"
    },
    {
     "data": {
      "text/html": [
       "<pre style=\"white-space:pre;overflow-x:auto;line-height:normal;font-family:Menlo,'DejaVu Sans Mono',consolas,'Courier New',monospace\"><span style=\"font-weight: bold\"> Total params: </span><span style=\"color: #00af00; text-decoration-color: #00af00\">2,907,777</span> (11.09 MB)\n",
       "</pre>\n"
      ],
      "text/plain": [
       "\u001b[1m Total params: \u001b[0m\u001b[38;5;34m2,907,777\u001b[0m (11.09 MB)\n"
      ]
     },
     "metadata": {},
     "output_type": "display_data"
    },
    {
     "data": {
      "text/html": [
       "<pre style=\"white-space:pre;overflow-x:auto;line-height:normal;font-family:Menlo,'DejaVu Sans Mono',consolas,'Courier New',monospace\"><span style=\"font-weight: bold\"> Trainable params: </span><span style=\"color: #00af00; text-decoration-color: #00af00\">2,907,777</span> (11.09 MB)\n",
       "</pre>\n"
      ],
      "text/plain": [
       "\u001b[1m Trainable params: \u001b[0m\u001b[38;5;34m2,907,777\u001b[0m (11.09 MB)\n"
      ]
     },
     "metadata": {},
     "output_type": "display_data"
    },
    {
     "data": {
      "text/html": [
       "<pre style=\"white-space:pre;overflow-x:auto;line-height:normal;font-family:Menlo,'DejaVu Sans Mono',consolas,'Courier New',monospace\"><span style=\"font-weight: bold\"> Non-trainable params: </span><span style=\"color: #00af00; text-decoration-color: #00af00\">0</span> (0.00 B)\n",
       "</pre>\n"
      ],
      "text/plain": [
       "\u001b[1m Non-trainable params: \u001b[0m\u001b[38;5;34m0\u001b[0m (0.00 B)\n"
      ]
     },
     "metadata": {},
     "output_type": "display_data"
    }
   ],
   "source": [
    "model=Sequential()\n",
    "model.add(keras.layers.Input(shape=(max_len, )))\n",
    "model.add(keras.layers.Embedding(input_dim=vocab_size, output_dim=100))\n",
    "model.add(keras.layers.LSTM(128, activation='tanh'))\n",
    "model.add(keras.layers.Dense(1, activation='sigmoid'))"
   ]
  },
  {
   "cell_type": "code",
   "execution_count": 262,
   "id": "f6b68226-2506-42cd-8e08-faf21da7d18d",
   "metadata": {},
   "outputs": [
    {
     "name": "stdout",
     "output_type": "stream",
     "text": [
      "Epoch 1/3\n",
      "\u001b[1m1694/1694\u001b[0m \u001b[32m━━━━━━━━━━━━━━━━━━━━\u001b[0m\u001b[37m\u001b[0m \u001b[1m51s\u001b[0m 30ms/step - accuracy: 0.7297 - loss: 0.5234 - val_accuracy: 0.8232 - val_loss: 0.3915\n",
      "Epoch 2/3\n",
      "\u001b[1m1694/1694\u001b[0m \u001b[32m━━━━━━━━━━━━━━━━━━━━\u001b[0m\u001b[37m\u001b[0m \u001b[1m49s\u001b[0m 29ms/step - accuracy: 0.8332 - loss: 0.3764 - val_accuracy: 0.8103 - val_loss: 0.4110\n",
      "Epoch 3/3\n",
      "\u001b[1m1694/1694\u001b[0m \u001b[32m━━━━━━━━━━━━━━━━━━━━\u001b[0m\u001b[37m\u001b[0m \u001b[1m49s\u001b[0m 29ms/step - accuracy: 0.8511 - loss: 0.3450 - val_accuracy: 0.8374 - val_loss: 0.3748\n"
     ]
    }
   ],
   "source": [
    "es=EarlyStopping(monitor='val_loss', mode='min', verbose=1, patience=4)\n",
    "model.compile(optimizer='rmsprop', loss='binary_crossentropy', metrics=['accuracy'])\n",
    "history=model.fit(X_train, Y_train, epochs=3, batch_size=64, validation_split=0.2, callbacks=[es])"
   ]
  },
  {
   "cell_type": "code",
   "execution_count": 264,
   "id": "e97244e1-788b-4edd-aa1b-3f443cf79611",
   "metadata": {},
   "outputs": [
    {
     "name": "stdout",
     "output_type": "stream",
     "text": [
      "\u001b[1m1815/1815\u001b[0m \u001b[32m━━━━━━━━━━━━━━━━━━━━\u001b[0m\u001b[37m\u001b[0m \u001b[1m9s\u001b[0m 5ms/step - accuracy: 0.8328 - loss: 0.3806\n"
     ]
    },
    {
     "data": {
      "text/plain": [
       "[0.38167721033096313, 0.8309907913208008]"
      ]
     },
     "execution_count": 264,
     "metadata": {},
     "output_type": "execute_result"
    }
   ],
   "source": [
    "model.evaluate(X_test, Y_test)"
   ]
  },
  {
   "cell_type": "markdown",
   "id": "ac15e915-0f9c-4652-bff7-64e5ebaa1297",
   "metadata": {},
   "source": [
    "## 테스트 "
   ]
  },
  {
   "cell_type": "code",
   "execution_count": 267,
   "id": "5df98b7e-0798-4fed-9789-ddf99fab22dd",
   "metadata": {},
   "outputs": [],
   "source": [
    "def sentiment_predict(new_sentence):\n",
    "  new_sentence=re.sub(r'[^ㄱ-ㅎㅏ-ㅣ가-힣 ]','', new_sentence)           # 정규 표현\n",
    "  new_sentence=[token.form for token in kiwi.tokenize(new_sentence)]     # 토근화\n",
    "  new_sentence=[word for word in new_sentence if word not in stopwords]  # 불용어 제거\n",
    "  encoded=tokenizer.texts_to_sequences([new_sentence])                   # 정수 인코딩\n",
    "  pad_new=sequence.pad_sequences(encoded, maxlen=max_len)                         # 패딩\n",
    "\n",
    "  score=float(model.predict(pad_new)[0][0])\n",
    "  if(score > 0.5):\n",
    "    print(\"{:.2f}% 확률로 긍정 리뷰입니다.\".format(score * 100))\n",
    "  else:\n",
    "    print(\"{:.2f}% 확률로 부정 리뷰입니다.\".format((1 - score) * 100))"
   ]
  },
  {
   "cell_type": "code",
   "execution_count": 269,
   "id": "87503dd1-da14-46f3-9531-b6eb133a874b",
   "metadata": {},
   "outputs": [
    {
     "name": "stdout",
     "output_type": "stream",
     "text": [
      "\u001b[1m1/1\u001b[0m \u001b[32m━━━━━━━━━━━━━━━━━━━━\u001b[0m\u001b[37m\u001b[0m \u001b[1m0s\u001b[0m 89ms/step\n",
      "67.08% 확률로 긍정 리뷰입니다.\n"
     ]
    }
   ],
   "source": [
    "sentiment_predict('이 영화 개꿀잼 ㅋㅋㅋ')"
   ]
  },
  {
   "cell_type": "code",
   "execution_count": 270,
   "id": "4eaf9e40-8b10-42df-9120-1e3c255d7b1e",
   "metadata": {},
   "outputs": [
    {
     "name": "stdout",
     "output_type": "stream",
     "text": [
      "\u001b[1m1/1\u001b[0m \u001b[32m━━━━━━━━━━━━━━━━━━━━\u001b[0m\u001b[37m\u001b[0m \u001b[1m0s\u001b[0m 47ms/step\n",
      "70.96% 확률로 부정 리뷰입니다.\n"
     ]
    }
   ],
   "source": [
    "sentiment_predict('이 영화 핵노잼 ㅠㅠ')"
   ]
  },
  {
   "cell_type": "code",
   "execution_count": 271,
   "id": "15fa5f92-dc89-4075-bf96-0f52b13a3ca1",
   "metadata": {},
   "outputs": [
    {
     "name": "stdout",
     "output_type": "stream",
     "text": [
      "\u001b[1m1/1\u001b[0m \u001b[32m━━━━━━━━━━━━━━━━━━━━\u001b[0m\u001b[37m\u001b[0m \u001b[1m0s\u001b[0m 55ms/step\n",
      "98.56% 확률로 부정 리뷰입니다.\n"
     ]
    }
   ],
   "source": [
    "sentiment_predict('이딴게 영화냐 ㅉㅉ')"
   ]
  },
  {
   "cell_type": "code",
   "execution_count": 272,
   "id": "33669a4a-9021-4435-8723-445cb7eda405",
   "metadata": {},
   "outputs": [
    {
     "name": "stdout",
     "output_type": "stream",
     "text": [
      "\u001b[1m1/1\u001b[0m \u001b[32m━━━━━━━━━━━━━━━━━━━━\u001b[0m\u001b[37m\u001b[0m \u001b[1m0s\u001b[0m 42ms/step\n",
      "96.90% 확률로 부정 리뷰입니다.\n"
     ]
    }
   ],
   "source": [
    "sentiment_predict('감독 뭐하는 놈이냐?')"
   ]
  },
  {
   "cell_type": "code",
   "execution_count": 273,
   "id": "1074f24a-6d7e-437f-aa5e-72a263315a98",
   "metadata": {},
   "outputs": [
    {
     "name": "stdout",
     "output_type": "stream",
     "text": [
      "\u001b[1m1/1\u001b[0m \u001b[32m━━━━━━━━━━━━━━━━━━━━\u001b[0m\u001b[37m\u001b[0m \u001b[1m0s\u001b[0m 52ms/step\n",
      "58.27% 확률로 부정 리뷰입니다.\n"
     ]
    }
   ],
   "source": [
    "sentiment_predict('와 개쩐다 정말 세계관 최강자들의 영화다')"
   ]
  },
  {
   "cell_type": "code",
   "execution_count": null,
   "id": "d199534f-f0d2-466d-a363-e1201a4b3382",
   "metadata": {},
   "outputs": [],
   "source": []
  }
 ],
 "metadata": {
  "kernelspec": {
   "display_name": "Python [conda env:base] *",
   "language": "python",
   "name": "conda-base-py"
  },
  "language_info": {
   "codemirror_mode": {
    "name": "ipython",
    "version": 3
   },
   "file_extension": ".py",
   "mimetype": "text/x-python",
   "name": "python",
   "nbconvert_exporter": "python",
   "pygments_lexer": "ipython3",
   "version": "3.12.7"
  }
 },
 "nbformat": 4,
 "nbformat_minor": 5
}
