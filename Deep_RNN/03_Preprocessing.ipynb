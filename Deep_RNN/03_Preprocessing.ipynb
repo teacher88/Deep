{
 "cells": [
  {
   "cell_type": "markdown",
   "id": "d280ceaf-59f6-4eb5-b84e-16fa7a6f8762",
   "metadata": {},
   "source": [
    "# 영문 형태소 분석기\n",
    "## 설치 - NLTK\n",
    "- PPT 참조"
   ]
  },
  {
   "cell_type": "code",
   "execution_count": 36,
   "id": "775a2629-6c5c-4fd3-9a4b-0f2ce6e5edb3",
   "metadata": {},
   "outputs": [],
   "source": [
    "# !pip install nltk"
   ]
  },
  {
   "cell_type": "code",
   "execution_count": 39,
   "id": "c5255ec7-dfe5-4c66-b331-622f1f0d8f28",
   "metadata": {},
   "outputs": [],
   "source": [
    "# nltk.download()"
   ]
  },
  {
   "cell_type": "code",
   "execution_count": 6,
   "id": "194233ba-00cc-40bd-8835-6085e2710bf6",
   "metadata": {},
   "outputs": [],
   "source": [
    "import nltk\n",
    "from nltk.tokenize import word_tokenize\n",
    "from nltk.tokenize import sent_tokenize \n",
    "from nltk.corpus import stopwords"
   ]
  },
  {
   "cell_type": "markdown",
   "id": "c71b2f3c-27fd-4bd8-b82f-8a3e9071ec5b",
   "metadata": {},
   "source": [
    "## 토큰화"
   ]
  },
  {
   "cell_type": "code",
   "execution_count": 9,
   "id": "cb215aa8-10ce-47aa-be3e-565597c8b233",
   "metadata": {},
   "outputs": [
    {
     "data": {
      "text/plain": [
       "['Hello', 'World', ',', 'This', 'is', 'a', 'dog', '.']"
      ]
     },
     "execution_count": 9,
     "metadata": {},
     "output_type": "execute_result"
    }
   ],
   "source": [
    "tokens=word_tokenize(\"Hello World, This is a dog.\")\n",
    "tokens               "
   ]
  },
  {
   "cell_type": "markdown",
   "id": "944243fc-0b5e-4bc5-bf62-1b75454d5368",
   "metadata": {},
   "source": [
    "## 정제\n",
    "- 특수문자 제거 >> , . !!!"
   ]
  },
  {
   "cell_type": "code",
   "execution_count": 7,
   "id": "0887dd55-d33b-41e9-afec-27ff61d7b75f",
   "metadata": {},
   "outputs": [
    {
     "data": {
      "text/plain": [
       "['Hello', 'World', 'This', 'is', 'a', 'dog']"
      ]
     },
     "execution_count": 7,
     "metadata": {},
     "output_type": "execute_result"
    }
   ],
   "source": [
    "words=[]\n",
    "for word in tokens:\n",
    "    if word.isalpha():   # 숫자, 구두점, 특수문자 모두 제거\n",
    "        words.append(word)\n",
    "words"
   ]
  },
  {
   "cell_type": "markdown",
   "id": "cb76de36-0a59-4e69-920f-793421bf64d3",
   "metadata": {},
   "source": [
    "## 불용어 \n",
    "- stopword 문장에 많이 등장하지만 큰 의미가 없는 단어들\n",
    "- '이', '그', '저', '것', '수', '등', '들', '및', '에서', '의', '에게', '하지만', '그리고', '또한'\n",
    "- 'a', 'am', 'this'"
   ]
  },
  {
   "cell_type": "code",
   "execution_count": 10,
   "id": "6b1b1fe5-9dd6-458b-a3c1-787c0afaef4a",
   "metadata": {},
   "outputs": [],
   "source": [
    "# nltk.download('punkt')\n",
    "# nltk.download('stopwords')"
   ]
  },
  {
   "cell_type": "code",
   "execution_count": 13,
   "id": "0a90267e-29f2-41b5-8947-4970464f6c43",
   "metadata": {},
   "outputs": [
    {
     "name": "stdout",
     "output_type": "stream",
     "text": [
      "불용어 개수: 198\n",
      "불용어 10개 출력: ['a', 'about', 'above', 'after', 'again', 'against', 'ain', 'all', 'am', 'an']\n"
     ]
    }
   ],
   "source": [
    "stop_words_list=stopwords.words('english')\n",
    "print(\"불용어 개수:\", len(stop_words_list))\n",
    "print(\"불용어 10개 출력:\", stop_words_list[:10])"
   ]
  },
  {
   "cell_type": "code",
   "execution_count": 20,
   "id": "5e4d29dc-d5c8-48c6-a2fb-bdbf9e4924ee",
   "metadata": {},
   "outputs": [
    {
     "name": "stdout",
     "output_type": "stream",
     "text": [
      "원래 문장: ['Family', 'is', 'not', 'an', 'important', 'thing', '.', 'It', \"'s\", 'everything', '.']\n",
      "불용어 제거 후: ['Family', 'important', 'thing', '.', 'It', \"'s\", 'everything', '.']\n"
     ]
    }
   ],
   "source": [
    "stop_words=set(stopwords.words('english'))   # set 저장 / 속도, 중복값\n",
    "\n",
    "example=\"Family is not an important thing. It's everything.\"\n",
    "tokens=word_tokenize(example)\n",
    "# tokens\n",
    "\n",
    "reslut=[]\n",
    "for word in tokens:\n",
    "    if word not in stop_words:    # 불용어가 아니면 출력\n",
    "        reslut.append(word)\n",
    "\n",
    "print(\"원래 문장:\", tokens)\n",
    "print(\"불용어 제거 후:\", reslut)"
   ]
  },
  {
   "cell_type": "markdown",
   "id": "0fb55a02-9f56-4902-b99d-0e80317ddd35",
   "metadata": {},
   "source": [
    "## 문장 토큰화\n",
    "- 단어 토큰화, 문장 토큰화"
   ]
  },
  {
   "cell_type": "code",
   "execution_count": 61,
   "id": "56d89da5-2b71-4f11-842c-249344124ed4",
   "metadata": {},
   "outputs": [
    {
     "name": "stdout",
     "output_type": "stream",
     "text": [
      "['This', 'is', 'a', 'dog', '.', 'This', 'is', 'a', 'dog']\n",
      "['This is a dog.', 'This is a dog']\n"
     ]
    }
   ],
   "source": [
    "text=\"This is a dog. This is a dog\"\n",
    "print(word_tokenize(text))\n",
    "print(sent_tokenize(text))"
   ]
  },
  {
   "cell_type": "markdown",
   "id": "919c998d-985f-4cda-820d-4577c25daa50",
   "metadata": {},
   "source": [
    "# 한글 형태소 분석기\n",
    "- KoNLpy(코엔엘파이)\n",
    "- Kiwi 형태소 분석기\n",
    "- Bareun 바른 형태소 분석기"
   ]
  },
  {
   "cell_type": "markdown",
   "id": "38630517-1eba-4782-b222-a547051b979e",
   "metadata": {},
   "source": [
    "## 설치 - Kiwi"
   ]
  },
  {
   "cell_type": "code",
   "execution_count": 91,
   "id": "7d61b59a-99da-4cec-af21-40b3bb8d3d78",
   "metadata": {},
   "outputs": [
    {
     "name": "stdout",
     "output_type": "stream",
     "text": [
      "Requirement already satisfied: kiwipiepy in c:\\users\\jmh\\anaconda3\\lib\\site-packages (0.20.4)\n",
      "Requirement already satisfied: kiwipiepy_model<0.21,>=0.20 in c:\\users\\jmh\\anaconda3\\lib\\site-packages (from kiwipiepy) (0.20.0)\n",
      "Requirement already satisfied: numpy in c:\\users\\jmh\\anaconda3\\lib\\site-packages (from kiwipiepy) (1.26.4)\n",
      "Requirement already satisfied: tqdm in c:\\users\\jmh\\anaconda3\\lib\\site-packages (from kiwipiepy) (4.66.5)\n",
      "Requirement already satisfied: colorama in c:\\users\\jmh\\anaconda3\\lib\\site-packages (from tqdm->kiwipiepy) (0.4.6)\n"
     ]
    }
   ],
   "source": [
    "# !pip install kiwipiepy"
   ]
  },
  {
   "cell_type": "code",
   "execution_count": 32,
   "id": "dad0bc2c-9e94-4ab9-90b9-05044b60e91d",
   "metadata": {},
   "outputs": [],
   "source": [
    "from kiwipiepy import Kiwi\n",
    "from kiwipiepy.utils import Stopwords"
   ]
  },
  {
   "cell_type": "markdown",
   "id": "e3588a4e-71f4-4012-8ac0-f4445bdd66ce",
   "metadata": {},
   "source": [
    "### 토큰화, 정제, 불용어"
   ]
  },
  {
   "cell_type": "code",
   "execution_count": 52,
   "id": "5f632dcc-4505-486a-90e0-41556039bbf5",
   "metadata": {},
   "outputs": [
    {
     "data": {
      "text/plain": [
       "[Token(form='안녕', tag='NNG', start=0, len=2),\n",
       " Token(form='하', tag='XSA', start=2, len=1),\n",
       " Token(form='세요', tag='EF', start=3, len=2),\n",
       " Token(form='!!!', tag='SF', start=5, len=3),\n",
       " Token(form='형태소', tag='NNG', start=9, len=3),\n",
       " Token(form='분석기', tag='NNG', start=13, len=3),\n",
       " Token(form='키위', tag='NNG', start=17, len=2),\n",
       " Token(form='이', tag='VCP', start=19, len=1),\n",
       " Token(form='ᆸ니다', tag='EF', start=19, len=3),\n",
       " Token(form='.', tag='SF', start=22, len=1)]"
      ]
     },
     "execution_count": 52,
     "metadata": {},
     "output_type": "execute_result"
    }
   ],
   "source": [
    "# 토큰화\n",
    "kiwi=Kiwi()\n",
    "kor_tokens=kiwi.tokenize(\"안녕하세요!!! 형태소 분석기 키위입니다.\")\n",
    "kor_tokens"
   ]
  },
  {
   "cell_type": "markdown",
   "id": "47e14654-e057-48fe-bc89-e0237ebf30a1",
   "metadata": {},
   "source": [
    "- tag=\"품사\", start=\"글자위치\", len=\"길이\"\n",
    "- 세종 품사 태그(SKKU POS Tags)**는 다음과 같이 총 60개\n",
    "    - np:명사, vv:동사, jx:조사, mag:부사, va:형용사\n",
    "    - https://konlpy.org/ko/latest/api/konlpy.tag/"
   ]
  },
  {
   "cell_type": "code",
   "execution_count": 60,
   "id": "c43af6d5-9f25-4087-be36-bf586441e1a0",
   "metadata": {},
   "outputs": [
    {
     "name": "stdout",
     "output_type": "stream",
     "text": [
      "구두점 제거된 토큰: ['안녕', '하', '세요', '형태소', '분석기', '키위', '이', 'ᆸ니다']\n"
     ]
    }
   ],
   "source": [
    "# 정제 >> 구두점 제거\n",
    "kor_words=[]  \n",
    "for word in kor_tokens:\n",
    "    if word.form.isalpha(): \n",
    "        kor_words.append(word.form)\n",
    "print(\"구두점 제거된 토큰:\", kor_words)"
   ]
  },
  {
   "cell_type": "code",
   "execution_count": 65,
   "id": "468c8752-0547-4dd0-a025-29ce5f5a7899",
   "metadata": {},
   "outputs": [
    {
     "data": {
      "text/plain": [
       "[Token(form='분석', tag='NNG', start=0, len=2),\n",
       " Token(form='결과', tag='NNG', start=3, len=2),\n",
       " Token(form='불', tag='NNG', start=8, len=1),\n",
       " Token(form='용어', tag='NNG', start=9, len=2),\n",
       " Token(form='제외', tag='NNG', start=13, len=2),\n",
       " Token(form='출력', tag='NNG', start=18, len=2),\n",
       " Token(form='있', tag='VA', start=25, len=1)]"
      ]
     },
     "execution_count": 65,
     "metadata": {},
     "output_type": "execute_result"
    }
   ],
   "source": [
    "# 불용어 관리를 위한 Stopwords 클래스도 제공합니다.\n",
    "stopword=Stopwords()\n",
    "kiwi.tokenize(\"분석 결과에서 불용어만 제외하고 출력할 수도 있다.\", stopwords=stopword)"
   ]
  },
  {
   "cell_type": "code",
   "execution_count": 163,
   "id": "118a1e12-af6f-4af0-b25e-39710efb4904",
   "metadata": {},
   "outputs": [
    {
     "data": {
      "text/plain": [
       "[Token(form='ㅋㅋㅋ', tag='SW', start=0, len=3),\n",
       " Token(form='이런', tag='MM', start=4, len=2),\n",
       " Token(form='것', tag='NNB', start=7, len=1),\n",
       " Token(form='도', tag='JX', start=8, len=1),\n",
       " Token(form='분석', tag='NNG', start=10, len=2),\n",
       " Token(form='이', tag='JKC', start=12, len=1),\n",
       " Token(form='되', tag='VV', start=14, len=1),\n",
       " Token(form='ᆯ까요', tag='EF', start=14, len=3),\n",
       " Token(form='ㅋㅋㅋ', tag='SW', start=16, len=3),\n",
       " Token(form='?', tag='SF', start=19, len=1)]"
      ]
     },
     "execution_count": 163,
     "metadata": {},
     "output_type": "execute_result"
    }
   ],
   "source": [
    "# normalize_coda 옵션을 사용하면 덧붙은 받침 때문에 분석이 깨지는 경우를 방지할 수 있습니다.\n",
    "kiwi.tokenize(\"ㅋㅋㅋ 이런 것도 분석이 될까욬ㅋㅋ?\", normalize_coda=True)"
   ]
  },
  {
   "cell_type": "markdown",
   "id": "1534a21c-2da2-4426-86ff-9c0da94720c1",
   "metadata": {},
   "source": [
    "# Kears를 이용한 전처리"
   ]
  },
  {
   "cell_type": "code",
   "execution_count": 107,
   "id": "934c6430-db5a-4724-a3ae-a50584ddf981",
   "metadata": {},
   "outputs": [],
   "source": [
    "from tensorflow.keras.preprocessing.text import text_to_word_sequence\n",
    "from tensorflow.keras.preprocessing.text import Tokenizer\n",
    "from tensorflow.keras.preprocessing import sequence\n",
    "from keras.utils import to_categorical"
   ]
  },
  {
   "cell_type": "markdown",
   "id": "390f60c1-6540-43cc-a5aa-fd698fe2a8b8",
   "metadata": {},
   "source": [
    "## 토큰화 \n",
    "- 공백단어 분리, 구두점을 필터링, 텍스트를 소문자로 변환"
   ]
  },
  {
   "cell_type": "code",
   "execution_count": 110,
   "id": "314da225-baa2-42d4-b858-3bab2099039f",
   "metadata": {},
   "outputs": [
    {
     "data": {
      "text/plain": [
       "['This', 'is', 'a', 'dog']"
      ]
     },
     "execution_count": 110,
     "metadata": {},
     "output_type": "execute_result"
    }
   ],
   "source": [
    "text_to_word_sequence(\"This!!! is a dog.....\", lower=False)"
   ]
  },
  {
   "cell_type": "code",
   "execution_count": 112,
   "id": "cb98542f-5144-4685-b2a4-ab1dcc16f07d",
   "metadata": {},
   "outputs": [
    {
     "data": {
      "text/plain": [
       "['한글입니다', '안녕', '크핫핫핫']"
      ]
     },
     "execution_count": 112,
     "metadata": {},
     "output_type": "execute_result"
    }
   ],
   "source": [
    "text_to_word_sequence(\"한글입니다!!!!! 안녕~~~ 크핫핫핫.\")"
   ]
  },
  {
   "cell_type": "markdown",
   "id": "f1b66e39-16ce-4c2e-a124-23672f44177c",
   "metadata": {},
   "source": [
    "# 네이버 쇼핑 리뷰 \n",
    "- https://github.com/keiraydev/chatbot\n",
    "- https://wikidocs.net/94600"
   ]
  },
  {
   "cell_type": "code",
   "execution_count": 91,
   "id": "be711902-4dfa-4481-ab71-5393205c470e",
   "metadata": {},
   "outputs": [],
   "source": [
    "import pandas as pd\n",
    "import numpy as np\n",
    "import matplotlib.pyplot as plt\n",
    "import urllib.request\n",
    "\n",
    "import tensorflow as tf\n",
    "from tensorflow import keras  \n",
    "from sklearn.model_selection import train_test_split\n",
    "from tensorflow.keras.models import Sequential\n",
    "from tensorflow.keras.callbacks import EarlyStopping, ModelCheckpoint\n",
    "\n",
    "from tensorflow.keras.preprocessing.text import Tokenizer\n",
    "from tensorflow.keras.preprocessing.sequence import pad_sequences\n",
    "\n",
    "import re\n",
    "from collections import Counter\n",
    "from kiwipiepy import Kiwi\n",
    "from kiwipiepy.utils import Stopwords\n",
    "from tqdm import tqdm"
   ]
  },
  {
   "cell_type": "markdown",
   "id": "a207036e-afb5-4475-9895-5c8712e3164b",
   "metadata": {},
   "source": [
    "## 데이터 로드\n",
    "- 네이버 쇼핑 리뷰 데이터 https://github.com/bab2min/corpus/tree/master/sentiment\n",
    "- 20만개 데이터"
   ]
  },
  {
   "cell_type": "code",
   "execution_count": 8,
   "id": "8a0b9e3b-baac-4502-a4b0-43ac94548a1c",
   "metadata": {},
   "outputs": [
    {
     "data": {
      "text/plain": [
       "(200000, 2)"
      ]
     },
     "execution_count": 8,
     "metadata": {},
     "output_type": "execute_result"
    }
   ],
   "source": [
    "data=pd.read_table('./../Data/NaverMovie/naver_shopping.txt', names=['평점', '리뷰'])\n",
    "data.shape"
   ]
  },
  {
   "cell_type": "code",
   "execution_count": 10,
   "id": "7dbdfd20-8878-44d5-af23-05a61dab92bb",
   "metadata": {},
   "outputs": [
    {
     "name": "stdout",
     "output_type": "stream",
     "text": [
      "<class 'pandas.core.frame.DataFrame'>\n",
      "RangeIndex: 200000 entries, 0 to 199999\n",
      "Data columns (total 2 columns):\n",
      " #   Column  Non-Null Count   Dtype \n",
      "---  ------  --------------   ----- \n",
      " 0   평점      200000 non-null  int64 \n",
      " 1   리뷰      200000 non-null  object\n",
      "dtypes: int64(1), object(1)\n",
      "memory usage: 3.1+ MB\n"
     ]
    }
   ],
   "source": [
    "data.info()"
   ]
  },
  {
   "cell_type": "code",
   "execution_count": 12,
   "id": "cce1d204-ef71-4883-be86-7ffeba34b118",
   "metadata": {},
   "outputs": [
    {
     "data": {
      "text/html": [
       "<div>\n",
       "<style scoped>\n",
       "    .dataframe tbody tr th:only-of-type {\n",
       "        vertical-align: middle;\n",
       "    }\n",
       "\n",
       "    .dataframe tbody tr th {\n",
       "        vertical-align: top;\n",
       "    }\n",
       "\n",
       "    .dataframe thead th {\n",
       "        text-align: right;\n",
       "    }\n",
       "</style>\n",
       "<table border=\"1\" class=\"dataframe\">\n",
       "  <thead>\n",
       "    <tr style=\"text-align: right;\">\n",
       "      <th></th>\n",
       "      <th>평점</th>\n",
       "      <th>리뷰</th>\n",
       "    </tr>\n",
       "  </thead>\n",
       "  <tbody>\n",
       "    <tr>\n",
       "      <th>0</th>\n",
       "      <td>5</td>\n",
       "      <td>배공빠르고 굿</td>\n",
       "    </tr>\n",
       "    <tr>\n",
       "      <th>1</th>\n",
       "      <td>2</td>\n",
       "      <td>택배가 엉망이네용 저희집 밑에층에 말도없이 놔두고가고</td>\n",
       "    </tr>\n",
       "    <tr>\n",
       "      <th>2</th>\n",
       "      <td>5</td>\n",
       "      <td>아주좋아요 바지 정말 좋아서2개 더 구매했어요 이가격에 대박입니다. 바느질이 조금 ...</td>\n",
       "    </tr>\n",
       "    <tr>\n",
       "      <th>3</th>\n",
       "      <td>2</td>\n",
       "      <td>선물용으로 빨리 받아서 전달했어야 하는 상품이었는데 머그컵만 와서 당황했습니다. 전...</td>\n",
       "    </tr>\n",
       "    <tr>\n",
       "      <th>4</th>\n",
       "      <td>5</td>\n",
       "      <td>민트색상 예뻐요. 옆 손잡이는 거는 용도로도 사용되네요 ㅎㅎ</td>\n",
       "    </tr>\n",
       "  </tbody>\n",
       "</table>\n",
       "</div>"
      ],
      "text/plain": [
       "   평점                                                 리뷰\n",
       "0   5                                            배공빠르고 굿\n",
       "1   2                      택배가 엉망이네용 저희집 밑에층에 말도없이 놔두고가고\n",
       "2   5  아주좋아요 바지 정말 좋아서2개 더 구매했어요 이가격에 대박입니다. 바느질이 조금 ...\n",
       "3   2  선물용으로 빨리 받아서 전달했어야 하는 상품이었는데 머그컵만 와서 당황했습니다. 전...\n",
       "4   5                  민트색상 예뻐요. 옆 손잡이는 거는 용도로도 사용되네요 ㅎㅎ"
      ]
     },
     "execution_count": 12,
     "metadata": {},
     "output_type": "execute_result"
    }
   ],
   "source": [
    "data.head()"
   ]
  },
  {
   "cell_type": "code",
   "execution_count": 14,
   "id": "5897794a-12bf-4817-b6e3-b67e7a8cf1aa",
   "metadata": {},
   "outputs": [
    {
     "data": {
      "text/html": [
       "<div>\n",
       "<style scoped>\n",
       "    .dataframe tbody tr th:only-of-type {\n",
       "        vertical-align: middle;\n",
       "    }\n",
       "\n",
       "    .dataframe tbody tr th {\n",
       "        vertical-align: top;\n",
       "    }\n",
       "\n",
       "    .dataframe thead th {\n",
       "        text-align: right;\n",
       "    }\n",
       "</style>\n",
       "<table border=\"1\" class=\"dataframe\">\n",
       "  <thead>\n",
       "    <tr style=\"text-align: right;\">\n",
       "      <th></th>\n",
       "      <th>평점</th>\n",
       "      <th>리뷰</th>\n",
       "      <th>긍부정</th>\n",
       "    </tr>\n",
       "  </thead>\n",
       "  <tbody>\n",
       "    <tr>\n",
       "      <th>0</th>\n",
       "      <td>5</td>\n",
       "      <td>배공빠르고 굿</td>\n",
       "      <td>1</td>\n",
       "    </tr>\n",
       "    <tr>\n",
       "      <th>1</th>\n",
       "      <td>2</td>\n",
       "      <td>택배가 엉망이네용 저희집 밑에층에 말도없이 놔두고가고</td>\n",
       "      <td>0</td>\n",
       "    </tr>\n",
       "    <tr>\n",
       "      <th>2</th>\n",
       "      <td>5</td>\n",
       "      <td>아주좋아요 바지 정말 좋아서2개 더 구매했어요 이가격에 대박입니다. 바느질이 조금 ...</td>\n",
       "      <td>1</td>\n",
       "    </tr>\n",
       "    <tr>\n",
       "      <th>3</th>\n",
       "      <td>2</td>\n",
       "      <td>선물용으로 빨리 받아서 전달했어야 하는 상품이었는데 머그컵만 와서 당황했습니다. 전...</td>\n",
       "      <td>0</td>\n",
       "    </tr>\n",
       "    <tr>\n",
       "      <th>4</th>\n",
       "      <td>5</td>\n",
       "      <td>민트색상 예뻐요. 옆 손잡이는 거는 용도로도 사용되네요 ㅎㅎ</td>\n",
       "      <td>1</td>\n",
       "    </tr>\n",
       "  </tbody>\n",
       "</table>\n",
       "</div>"
      ],
      "text/plain": [
       "   평점                                                 리뷰  긍부정\n",
       "0   5                                            배공빠르고 굿    1\n",
       "1   2                      택배가 엉망이네용 저희집 밑에층에 말도없이 놔두고가고    0\n",
       "2   5  아주좋아요 바지 정말 좋아서2개 더 구매했어요 이가격에 대박입니다. 바느질이 조금 ...    1\n",
       "3   2  선물용으로 빨리 받아서 전달했어야 하는 상품이었는데 머그컵만 와서 당황했습니다. 전...    0\n",
       "4   5                  민트색상 예뻐요. 옆 손잡이는 거는 용도로도 사용되네요 ㅎㅎ    1"
      ]
     },
     "execution_count": 14,
     "metadata": {},
     "output_type": "execute_result"
    }
   ],
   "source": [
    "# 평점이 3보다 크면 1, 그렇지 않으면 0\n",
    "data['긍부정']=np.where(data['평점'] > 3, 1, 0)   \n",
    "data.head()"
   ]
  },
  {
   "cell_type": "code",
   "execution_count": 18,
   "id": "b08d2f94-371d-48e0-acd9-b5a4c15de154",
   "metadata": {},
   "outputs": [
    {
     "data": {
      "text/plain": [
       "(4, 199908, 2)"
      ]
     },
     "execution_count": 18,
     "metadata": {},
     "output_type": "execute_result"
    }
   ],
   "source": [
    "# 중복 체크\n",
    "data['평점'].nunique(), data['리뷰'].nunique(), data['긍부정'].nunique()"
   ]
  },
  {
   "cell_type": "code",
   "execution_count": 20,
   "id": "5387ab3c-ef78-4568-b85c-1c07dc04f582",
   "metadata": {},
   "outputs": [
    {
     "data": {
      "text/plain": [
       "평점\n",
       "5    81177\n",
       "2    63989\n",
       "1    36048\n",
       "4    18786\n",
       "Name: count, dtype: int64"
      ]
     },
     "execution_count": 20,
     "metadata": {},
     "output_type": "execute_result"
    }
   ],
   "source": [
    "data['평점'].value_counts()"
   ]
  },
  {
   "cell_type": "code",
   "execution_count": 24,
   "id": "f16b49a7-58f5-4da4-b259-ba016d2c2821",
   "metadata": {},
   "outputs": [
    {
     "data": {
      "text/plain": [
       "긍부정\n",
       "0    100037\n",
       "1     99963\n",
       "Name: count, dtype: int64"
      ]
     },
     "execution_count": 24,
     "metadata": {},
     "output_type": "execute_result"
    }
   ],
   "source": [
    "data['긍부정'].value_counts()"
   ]
  },
  {
   "cell_type": "markdown",
   "id": "ec2dd5c8-e44f-4b82-9d4e-7ee8c5953367",
   "metadata": {},
   "source": [
    "- drop_duplicates(): 중복된 행을 제거하는 함수\n",
    "- subset=['reviews']: 'reviews' 열을 기준으로 중복 여부 판단\n",
    "- inplace=True: 원본 data를 직접 수정 (새 객체를 반환하지 않음)"
   ]
  },
  {
   "cell_type": "code",
   "execution_count": 26,
   "id": "8af814f9-57a0-4431-92a5-f2184b39e923",
   "metadata": {},
   "outputs": [
    {
     "data": {
      "text/plain": [
       "(199908, 3)"
      ]
     },
     "execution_count": 26,
     "metadata": {},
     "output_type": "execute_result"
    }
   ],
   "source": [
    "# reviews 열에서 중복인 내용이 있다면 중복 제거\n",
    "# 중복되는 내용 삭제 >> 완전히 동일한 리뷰가 여러 번 존재하는 경우, 학습이 편향\n",
    "data.drop_duplicates(subset=['리뷰'], inplace=True)\n",
    "data.shape"
   ]
  },
  {
   "cell_type": "markdown",
   "id": "be45d9e0-e329-44d6-89b0-1bf02c9d2d54",
   "metadata": {
    "jupyter": {
     "source_hidden": true
    }
   },
   "source": [
    "## 데이터 정제\n",
    "- 한글과 공백을 제외하고 모두 제거"
   ]
  },
  {
   "cell_type": "markdown",
   "id": "a2c72b01-e8db-4cff-964e-4dfa58680a65",
   "metadata": {},
   "source": [
    "### 정규화\n",
    "- re.sub(pattern, replacement, string):\n",
    "    - 정규 표현식 pattern에 해당하는 부분을 replacement로 바꿔주는 함수\n",
    "- r'[^a-zA-Z ]':\n",
    "    - 정규 표현식 패턴\n",
    "        - [^...]: 괄호 안의 문자들을 제외한 모든 문자\n",
    "        - a-zA-Z: 영문자 (소문자 + 대문자)\n",
    "        - 공백 ' ' 포함\n",
    "        - 결론] 영문자와 공백을 제외한 모든 문자\n",
    "    - '': 빈 문자열로 대체\n",
    "    - eng_text: 처리할 문자열 (영어 문장이 담긴 변수)"
   ]
  },
  {
   "cell_type": "code",
   "execution_count": 64,
   "id": "3849511f-13d9-415c-97f2-4b121d842d2d",
   "metadata": {},
   "outputs": [
    {
     "name": "stdout",
     "output_type": "stream",
     "text": [
      "do you expect people to read the FAQ etc and actually accept hard atheism\n"
     ]
    }
   ],
   "source": [
    "eng_text='do!!! you expect... people~ to~ read~ the FAQ, etc. and actually accept hard~! atheism?@@'\n",
    "print(re.sub(r'[^a-zA-Z ]', '', eng_text))"
   ]
  },
  {
   "cell_type": "markdown",
   "id": "78f24371-437c-4165-8e61-aedc389a9049",
   "metadata": {},
   "source": [
    "- https://www.unicode.org/charts/PDF/U3130.pdf\n",
    "- https://www.unicode.org/charts/PDF/UAC00.pdf\n",
    "- \"[^ㄱ-ㅎㅏ-ㅣ가-힣 ]\": 한글과 공백을 제외한 모든 문자\n",
    "- \"\": 즉, 빈 문자열로 대체 → 추후 제거한다는 뜻\n",
    "- regex=True: 정규표현식으로 인식하라는 옵션"
   ]
  },
  {
   "cell_type": "code",
   "execution_count": 30,
   "id": "80173d99-d0b6-4032-bc13-fbdf9312dc75",
   "metadata": {},
   "outputs": [],
   "source": [
    "data['리뷰']=data['리뷰'].str.replace(r'[^ㄱ-ㅎㅏ-ㅣ가-힣 ]', '', regex=True)"
   ]
  },
  {
   "cell_type": "code",
   "execution_count": 31,
   "id": "88bee155-17ae-4ab2-9a2a-d5b22e7f2166",
   "metadata": {},
   "outputs": [
    {
     "name": "stdout",
     "output_type": "stream",
     "text": [
      "평점     0\n",
      "리뷰     0\n",
      "긍부정    0\n",
      "dtype: int64\n"
     ]
    }
   ],
   "source": [
    "data['리뷰']=data['리뷰'].replace('', np.nan)  \n",
    "print(data.isnull().sum())"
   ]
  },
  {
   "cell_type": "markdown",
   "id": "1aaeabfa-28fe-4018-9b8b-a23ef34fcc5e",
   "metadata": {},
   "source": [
    "### 토근화\n",
    "- 불용어 제거"
   ]
  },
  {
   "cell_type": "code",
   "execution_count": 34,
   "id": "d1ce7366-bb96-4a5d-9578-77e5f7906b35",
   "metadata": {},
   "outputs": [],
   "source": [
    "stopwords=['도', '는', '다', '의', '가', '이', '은', '한', '에', '하', '고', '을', \n",
    "           '를', '인', '듯', '과', '와', '네', '들', '듯', '지', '임', '게']"
   ]
  },
  {
   "cell_type": "code",
   "execution_count": 36,
   "id": "e968a515-ce64-4849-b606-50d7c8e470f6",
   "metadata": {},
   "outputs": [
    {
     "name": "stderr",
     "output_type": "stream",
     "text": [
      "100%|█████████████████████████████████████████████████████████████████████████| 199908/199908 [06:43<00:00, 495.64it/s]\n"
     ]
    }
   ],
   "source": [
    "kiwi=Kiwi()\n",
    "\n",
    "train=[]\n",
    "for sentence in tqdm(data['리뷰']):\n",
    "    tokens=kiwi.tokenize(sentence)   # 토큰화 \n",
    "    filtered_tokens=[token.form for token in tokens if token.form not in stopwords]  # 불용어 제거 \n",
    "    train.append(filtered_tokens)"
   ]
  },
  {
   "cell_type": "code",
   "execution_count": 41,
   "id": "f2630723-9f04-41f1-906c-f836c410a75d",
   "metadata": {},
   "outputs": [
    {
     "data": {
      "text/plain": [
       "['배', '공', '빠르', '굿']"
      ]
     },
     "execution_count": 41,
     "metadata": {},
     "output_type": "execute_result"
    }
   ],
   "source": [
    "train[0]"
   ]
  },
  {
   "cell_type": "code",
   "execution_count": 43,
   "id": "24d098f1-345a-467f-b628-46030b1c34cf",
   "metadata": {},
   "outputs": [],
   "source": [
    "data['토근화리뷰']=[' '.join(tokens) for tokens in train]"
   ]
  },
  {
   "cell_type": "code",
   "execution_count": 44,
   "id": "0aec18d5-928f-43a4-965a-075129dd39f1",
   "metadata": {},
   "outputs": [
    {
     "data": {
      "text/html": [
       "<div>\n",
       "<style scoped>\n",
       "    .dataframe tbody tr th:only-of-type {\n",
       "        vertical-align: middle;\n",
       "    }\n",
       "\n",
       "    .dataframe tbody tr th {\n",
       "        vertical-align: top;\n",
       "    }\n",
       "\n",
       "    .dataframe thead th {\n",
       "        text-align: right;\n",
       "    }\n",
       "</style>\n",
       "<table border=\"1\" class=\"dataframe\">\n",
       "  <thead>\n",
       "    <tr style=\"text-align: right;\">\n",
       "      <th></th>\n",
       "      <th>평점</th>\n",
       "      <th>리뷰</th>\n",
       "      <th>긍부정</th>\n",
       "      <th>토근화리뷰</th>\n",
       "    </tr>\n",
       "  </thead>\n",
       "  <tbody>\n",
       "    <tr>\n",
       "      <th>0</th>\n",
       "      <td>5</td>\n",
       "      <td>배공빠르고 굿</td>\n",
       "      <td>1</td>\n",
       "      <td>배 공 빠르 굿</td>\n",
       "    </tr>\n",
       "    <tr>\n",
       "      <th>1</th>\n",
       "      <td>2</td>\n",
       "      <td>택배가 엉망이네용 저희집 밑에층에 말도없이 놔두고가고</td>\n",
       "      <td>0</td>\n",
       "      <td>택배 엉망 네요 ᆼ 저희 집 밑 층 말 없이 놔두</td>\n",
       "    </tr>\n",
       "    <tr>\n",
       "      <th>2</th>\n",
       "      <td>5</td>\n",
       "      <td>아주좋아요 바지 정말 좋아서개 더 구매했어요 이가격에 대박입니다 바느질이 조금 엉성...</td>\n",
       "      <td>1</td>\n",
       "      <td>아주 좋 어요 바지 정말 좋 어서 개 더 구매 었 어요 가격 대 박 ᆸ니다 바느질 ...</td>\n",
       "    </tr>\n",
       "    <tr>\n",
       "      <th>3</th>\n",
       "      <td>2</td>\n",
       "      <td>선물용으로 빨리 받아서 전달했어야 하는 상품이었는데 머그컵만 와서 당황했습니다 전화...</td>\n",
       "      <td>0</td>\n",
       "      <td>선물 용 으로 빨리 받 어서 전달 었 어야 상품 었 는데 머 그 컵 만 오 어서 당...</td>\n",
       "    </tr>\n",
       "    <tr>\n",
       "      <th>4</th>\n",
       "      <td>5</td>\n",
       "      <td>민트색상 예뻐요 옆 손잡이는 거는 용도로도 사용되네요 ㅎㅎ</td>\n",
       "      <td>1</td>\n",
       "      <td>민트 색상 예쁘 어요 옆 손잡이 거 용도 로 사용 되 네요 ㅎㅎ</td>\n",
       "    </tr>\n",
       "  </tbody>\n",
       "</table>\n",
       "</div>"
      ],
      "text/plain": [
       "   평점                                                 리뷰  긍부정  \\\n",
       "0   5                                            배공빠르고 굿    1   \n",
       "1   2                      택배가 엉망이네용 저희집 밑에층에 말도없이 놔두고가고    0   \n",
       "2   5  아주좋아요 바지 정말 좋아서개 더 구매했어요 이가격에 대박입니다 바느질이 조금 엉성...    1   \n",
       "3   2  선물용으로 빨리 받아서 전달했어야 하는 상품이었는데 머그컵만 와서 당황했습니다 전화...    0   \n",
       "4   5                   민트색상 예뻐요 옆 손잡이는 거는 용도로도 사용되네요 ㅎㅎ    1   \n",
       "\n",
       "                                               토근화리뷰  \n",
       "0                                           배 공 빠르 굿  \n",
       "1                        택배 엉망 네요 ᆼ 저희 집 밑 층 말 없이 놔두  \n",
       "2  아주 좋 어요 바지 정말 좋 어서 개 더 구매 었 어요 가격 대 박 ᆸ니다 바느질 ...  \n",
       "3  선물 용 으로 빨리 받 어서 전달 었 어야 상품 었 는데 머 그 컵 만 오 어서 당...  \n",
       "4                민트 색상 예쁘 어요 옆 손잡이 거 용도 로 사용 되 네요 ㅎㅎ  "
      ]
     },
     "execution_count": 44,
     "metadata": {},
     "output_type": "execute_result"
    }
   ],
   "source": [
    "data.head()"
   ]
  },
  {
   "cell_type": "markdown",
   "id": "d37a1d84-eb9a-4ecd-8d1d-9cdf0d8c2ff5",
   "metadata": {},
   "source": [
    "### 긍부정 단어 빈도수"
   ]
  },
  {
   "cell_type": "code",
   "execution_count": 51,
   "id": "464dc0d4-e598-4669-a747-8bf7ca0b7066",
   "metadata": {},
   "outputs": [],
   "source": [
    "# 긍부정 단어 빈도수 \n",
    "negative_words=np.hstack(data[data['긍부정']==0]['토근화리뷰'].values)\n",
    "positive_words=np.hstack(data[data['긍부정']==1]['토근화리뷰'].values)\n",
    "\n",
    "negative_word_count=Counter(negative_words)\n",
    "positive_word_count=Counter(positive_words)"
   ]
  },
  {
   "cell_type": "code",
   "execution_count": 53,
   "id": "74eac42e-438c-475a-aab7-6f3eb1eec485",
   "metadata": {
    "collapsed": true,
    "jupyter": {
     "outputs_hidden": true
    }
   },
   "outputs": [
    {
     "data": {
      "text/plain": [
       "[('재 구매', 26),\n",
       " ('배송 너무 느리 어요', 17),\n",
       " ('그냥 그렇 어요', 9),\n",
       " ('좋 어요', 9),\n",
       " ('배송 빠르 좋 어요', 9),\n",
       " ('배송 빠르 어요', 8),\n",
       " ('생각 보다 별로 네요', 7),\n",
       " ('잘 받 었 습니다', 7),\n",
       " ('그저 그렇 어요', 7),\n",
       " ('그저 그렇 네요', 7),\n",
       " ('배송 겁나 느리 ᆷ', 7),\n",
       " ('별로 에요', 7),\n",
       " ('배송 너무 느리 ᆸ니다', 7),\n",
       " ('별로', 6),\n",
       " ('사이즈 작 어요', 6),\n",
       " ('딱 가격 만큼 ᆸ니다', 6),\n",
       " ('별루 ᆸ니다', 6),\n",
       " ('배송 느리 ᆷ', 5),\n",
       " ('냄새 심하 어요', 5),\n",
       " ('배송 너무 늦 네요', 5)]"
      ]
     },
     "execution_count": 53,
     "metadata": {},
     "output_type": "execute_result"
    }
   ],
   "source": [
    "negative_word_count.most_common(20)   # 빈도수 "
   ]
  },
  {
   "cell_type": "code",
   "execution_count": 55,
   "id": "eb09ab5c-9901-4a1c-8e7c-d8adfe071aba",
   "metadata": {
    "collapsed": true,
    "jupyter": {
     "outputs_hidden": true
    }
   },
   "outputs": [
    {
     "data": {
      "text/plain": [
       "[('재 구매', 29),\n",
       " ('좋 어요', 16),\n",
       " ('좋 습니다', 9),\n",
       " ('만족 ᆸ니다', 8),\n",
       " ('감사 ᆸ니다', 8),\n",
       " ('배송 빠르 어요', 7),\n",
       " ('굿', 6),\n",
       " ('조아요', 6),\n",
       " ('잘 받 었 습니다', 6),\n",
       " ('좋 네요', 5),\n",
       " ('빠르 ᆫ 배송 감사 ᆸ니다', 5),\n",
       " ('배송 빠르 네요', 5),\n",
       " ('재 구매 배송 빠르 좋 어요', 5),\n",
       " ('배송 빠르 좋 네요', 5),\n",
       " ('맘 어요', 4),\n",
       " ('괜찮 어요', 4),\n",
       " ('재 구매 빠르 ᆫ 배송 감사 ᆸ니다', 4),\n",
       " ('맛있 어요', 4),\n",
       " ('배송 빠르 좋 어요', 4),\n",
       " ('착용감 좋 어요', 4)]"
      ]
     },
     "execution_count": 55,
     "metadata": {},
     "output_type": "execute_result"
    }
   ],
   "source": [
    "positive_word_count.most_common(20)"
   ]
  },
  {
   "cell_type": "markdown",
   "id": "8c35b4a2-bb92-4afd-8b47-ad80fad6c7f4",
   "metadata": {},
   "source": [
    "## 학습 & 테스트 데이터셋 분리"
   ]
  },
  {
   "cell_type": "code",
   "execution_count": 58,
   "id": "71ec500f-6b82-4c07-9bfe-efa95b4df4aa",
   "metadata": {},
   "outputs": [
    {
     "name": "stdout",
     "output_type": "stream",
     "text": [
      "훈련용 리뷰의 개수 : 149931\n",
      "테스트용 리뷰의 개수 : 49977\n"
     ]
    }
   ],
   "source": [
    "train_data, test_data = train_test_split(data, test_size=0.25, random_state=42)\n",
    "print('훈련용 리뷰의 개수 :', len(train_data))\n",
    "print('테스트용 리뷰의 개수 :', len(test_data))"
   ]
  },
  {
   "cell_type": "code",
   "execution_count": 60,
   "id": "9b63f876-de3a-4d91-96b6-db4aad9457c6",
   "metadata": {},
   "outputs": [
    {
     "data": {
      "text/plain": [
       "((149931,), (49977,), (49977,), (49977,))"
      ]
     },
     "execution_count": 60,
     "metadata": {},
     "output_type": "execute_result"
    }
   ],
   "source": [
    "X_train=train_data['토근화리뷰'].values\n",
    "Y_train=train_data['긍부정'].values\n",
    "\n",
    "X_test=test_data['토근화리뷰'].values\n",
    "Y_test=test_data['긍부정'].values\n",
    "\n",
    "X_train.shape, Y_test.shape, X_test.shape, Y_test.shape"
   ]
  },
  {
   "cell_type": "markdown",
   "id": "7286521a-d10f-4c61-8118-7b8b8779f60f",
   "metadata": {},
   "source": [
    "## 정수 인코딩 "
   ]
  },
  {
   "cell_type": "code",
   "execution_count": 63,
   "id": "13271ed8-d9d7-4eef-bb9d-097280db6c0b",
   "metadata": {},
   "outputs": [
    {
     "data": {
      "text/plain": [
       "20809"
      ]
     },
     "execution_count": 63,
     "metadata": {},
     "output_type": "execute_result"
    }
   ],
   "source": [
    "tokenizer=Tokenizer()\n",
    "tokenizer.fit_on_texts(X_test)\n",
    "len(tokenizer.word_index)"
   ]
  },
  {
   "cell_type": "code",
   "execution_count": 65,
   "id": "acf41505-7f24-4f0f-a7fd-c54cf2d2e80b",
   "metadata": {},
   "outputs": [],
   "source": [
    "# 등장 횟수가 1회인 단어들은 자연어 처리에서 배재\n",
    "threshold=2       \n",
    "total_cnt=len(tokenizer.word_index)   # 단어의 수\n",
    "rare_cnt=0                            # 등장빈도수가 threshold보다 작은 단어의 수\n",
    "\n",
    "total_freq=0                          # 훈련데이터의 전체 단어 빈도수 총합\n",
    "rare_freq=0                           # 등장빈도수가  threshold보다 작은 단어의 등장 빈도수의 총합\n",
    "\n",
    "\n",
    "for key, value in tokenizer.word_counts.items():  # 단어와 빈도수의 쌍(pair)을 key와 value로 받는다.\n",
    "    total_freq += value             # 빈도수 총합\n",
    "\n",
    "    if(value < threshold):          # 등장빈도수가 threshold보다 작은 단어의 수\n",
    "        rare_cnt += 1\n",
    "        rare_freq += value"
   ]
  },
  {
   "cell_type": "code",
   "execution_count": 66,
   "id": "c52697ab-6c23-425a-b9e1-4f9eaae93084",
   "metadata": {},
   "outputs": [
    {
     "name": "stdout",
     "output_type": "stream",
     "text": [
      "단어집합(vocabulary)의 크기: 20809\n",
      "등장 빈도가 1번 이하인 희귀 단어의 수: 10719\n",
      "단어 집합에서 희귀 단어의 비율: 51.51136527464079\n",
      "전체 등장 빈도에서 희귀 단어 등장 빈도 비율: 1.2827493606597202\n"
     ]
    }
   ],
   "source": [
    "print(\"단어집합(vocabulary)의 크기:\", total_cnt)\n",
    "print('등장 빈도가 %s번 이하인 희귀 단어의 수: %s'%(threshold-1, rare_cnt))\n",
    "print(\"단어 집합에서 희귀 단어의 비율:\", (rare_cnt / total_cnt)*100)\n",
    "print(\"전체 등장 빈도에서 희귀 단어 등장 빈도 비율:\", (rare_freq / total_freq)*100)"
   ]
  },
  {
   "cell_type": "code",
   "execution_count": 72,
   "id": "911d549c-6c03-4a92-8730-42f53cf9143d",
   "metadata": {},
   "outputs": [
    {
     "data": {
      "text/plain": [
       "10092"
      ]
     },
     "execution_count": 72,
     "metadata": {},
     "output_type": "execute_result"
    }
   ],
   "source": [
    "vocab_size=total_cnt - rare_cnt + 2 \n",
    "vocab_size     # 빈도순위"
   ]
  },
  {
   "cell_type": "markdown",
   "id": "3455fd42-f54e-43fe-aa50-31bafc2f151b",
   "metadata": {},
   "source": [
    "- OOV : 훈련에 없는 단어 포함시 토큰으로 대체"
   ]
  },
  {
   "cell_type": "code",
   "execution_count": 75,
   "id": "5f9af63c-508a-45ab-a6c1-3b3036ae8f34",
   "metadata": {},
   "outputs": [],
   "source": [
    "tokenizer=Tokenizer(vocab_size, oov_token='OOV') \n",
    "tokenizer.fit_on_texts(X_train)\n",
    "X_train=tokenizer.texts_to_sequences(X_train)\n",
    "X_test=tokenizer.texts_to_sequences(X_test)"
   ]
  },
  {
   "cell_type": "code",
   "execution_count": 76,
   "id": "fc8ac6de-394d-42fc-ba95-fdbcfcfd2895",
   "metadata": {},
   "outputs": [
    {
     "name": "stdout",
     "output_type": "stream",
     "text": [
      "[[67, 1729, 298, 1946, 5, 13, 50, 70, 2, 234, 171, 144, 159, 2, 2562, 5, 692, 7, 71, 61, 132, 44, 969, 343, 162, 8, 2], [2095, 300, 52, 1947, 3905, 2563, 317, 1947, 313, 78, 4, 32, 444, 7], [46, 17, 1043, 113, 42, 1981, 160, 11, 16, 1409, 3, 2, 1203, 6, 128, 260, 4, 23, 58, 160, 128, 11, 1409, 7, 116, 13, 15, 489, 323, 124, 143]]\n"
     ]
    }
   ],
   "source": [
    "print(X_train[:3])"
   ]
  },
  {
   "cell_type": "code",
   "execution_count": 79,
   "id": "8ed05358-9988-490b-afa7-31ad351b382a",
   "metadata": {},
   "outputs": [
    {
     "name": "stdout",
     "output_type": "stream",
     "text": [
      "리뷰의 최대 길이 : 77\n",
      "리뷰의 평균 길이 : 16.669608019689058\n"
     ]
    }
   ],
   "source": [
    "print('리뷰의 최대 길이 :', max(len(review) for review in X_train))\n",
    "print('리뷰의 평균 길이 :', sum(map(len, X_train))/len(X_train))"
   ]
  },
  {
   "cell_type": "code",
   "execution_count": 81,
   "id": "d5d40f80-bde4-4a83-9b29-3cd3a97146db",
   "metadata": {},
   "outputs": [],
   "source": [
    "max_len=80\n",
    "X_train=pad_sequences(X_train, maxlen=max_len)\n",
    "X_test=pad_sequences(X_test, maxlen=max_len)"
   ]
  },
  {
   "cell_type": "code",
   "execution_count": 93,
   "id": "7ee47082-d421-4155-9d83-f0328a4fe423",
   "metadata": {},
   "outputs": [],
   "source": [
    "model=Sequential()\n",
    "model.add(keras.layers.Input(shape=(max_len, )))\n",
    "model.add(keras.layers.Embedding(input_dim=vocab_size, output_dim=100))\n",
    "model.add(keras.layers.LSTM(128, activation='tanh'))\n",
    "model.add(keras.layers.Dense(1, activation='sigmoid'))"
   ]
  },
  {
   "cell_type": "code",
   "execution_count": 95,
   "id": "85153018-584a-4a14-821f-cfbe576cfe53",
   "metadata": {},
   "outputs": [
    {
     "name": "stdout",
     "output_type": "stream",
     "text": [
      "Epoch 1/3\n",
      "\u001b[1m1875/1875\u001b[0m \u001b[32m━━━━━━━━━━━━━━━━━━━━\u001b[0m\u001b[37m\u001b[0m \u001b[1m261s\u001b[0m 138ms/step - acc: 0.8403 - loss: 0.3656 - val_acc: 0.9094 - val_loss: 0.2440\n",
      "Epoch 2/3\n",
      "\u001b[1m1875/1875\u001b[0m \u001b[32m━━━━━━━━━━━━━━━━━━━━\u001b[0m\u001b[37m\u001b[0m \u001b[1m278s\u001b[0m 148ms/step - acc: 0.9160 - loss: 0.2329 - val_acc: 0.9177 - val_loss: 0.2262\n",
      "Epoch 3/3\n",
      "\u001b[1m1875/1875\u001b[0m \u001b[32m━━━━━━━━━━━━━━━━━━━━\u001b[0m\u001b[37m\u001b[0m \u001b[1m252s\u001b[0m 134ms/step - acc: 0.9245 - loss: 0.2100 - val_acc: 0.9222 - val_loss: 0.2193\n"
     ]
    }
   ],
   "source": [
    "es=EarlyStopping(monitor='val_loss', mode='min', verbose=1, patience=4)\n",
    "\n",
    "model.compile(optimizer='rmsprop', loss='binary_crossentropy', metrics=['acc'])\n",
    "\n",
    "history=model.fit(X_train, Y_train, epochs=3, callbacks=[es], batch_size=64, validation_split=0.2)   # epochs=15"
   ]
  },
  {
   "cell_type": "markdown",
   "id": "197d823b-02f6-4deb-b0ef-f0e96335886b",
   "metadata": {},
   "source": [
    "## 테스트 "
   ]
  },
  {
   "cell_type": "code",
   "execution_count": 114,
   "id": "56f770bd-a77a-468b-829d-9814911f208e",
   "metadata": {},
   "outputs": [],
   "source": [
    "def sentiment_predict(new_sentence):\n",
    "  new_sentence=re.sub(r'[^ㄱ-ㅎㅏ-ㅣ가-힣 ]','', new_sentence)           # 정규 표현\n",
    "  new_sentence=[token.form for token in kiwi.tokenize(new_sentence)]     # 토근화\n",
    "  new_sentence=[word for word in new_sentence if word not in stopwords]  # 불용어 제거\n",
    "  encoded=tokenizer.texts_to_sequences([new_sentence])                   # 정수 인코딩\n",
    "  pad_new=pad_sequences(encoded, maxlen=max_len)                         # 패딩\n",
    "\n",
    "  score=float(model.predict(pad_new)[0][0])\n",
    "  if(score > 0.5):\n",
    "    print(\"{:.2f}% 확률로 긍정 리뷰입니다.\".format(score * 100))\n",
    "  else:\n",
    "    print(\"{:.2f}% 확률로 부정 리뷰입니다.\".format((1 - score) * 100))"
   ]
  },
  {
   "cell_type": "code",
   "execution_count": 116,
   "id": "6679f61d-10d1-40a0-9b1c-95d31ae8b661",
   "metadata": {},
   "outputs": [
    {
     "name": "stdout",
     "output_type": "stream",
     "text": [
      "\u001b[1m1/1\u001b[0m \u001b[32m━━━━━━━━━━━━━━━━━━━━\u001b[0m\u001b[37m\u001b[0m \u001b[1m0s\u001b[0m 293ms/step\n",
      "96.79% 확률로 긍정 리뷰입니다.\n"
     ]
    }
   ],
   "source": [
    "sentiment_predict('이 상품 진짜 좋아요... 저는 강추합니다. 대박')"
   ]
  },
  {
   "cell_type": "code",
   "execution_count": 118,
   "id": "fe88ea70-ba61-4c9e-9df8-ec3a6c9060d2",
   "metadata": {},
   "outputs": [
    {
     "name": "stdout",
     "output_type": "stream",
     "text": [
      "\u001b[1m1/1\u001b[0m \u001b[32m━━━━━━━━━━━━━━━━━━━━\u001b[0m\u001b[37m\u001b[0m \u001b[1m0s\u001b[0m 71ms/step\n",
      "99.03% 확률로 부정 리뷰입니다.\n"
     ]
    }
   ],
   "source": [
    "sentiment_predict('진짜 배송도 늦고 개짜증나네요. 뭐 이런 걸 상품이라고 만듬?')"
   ]
  },
  {
   "cell_type": "code",
   "execution_count": 120,
   "id": "aebf4c66-4920-49be-9c0e-cd2bc41a677f",
   "metadata": {},
   "outputs": [
    {
     "name": "stdout",
     "output_type": "stream",
     "text": [
      "\u001b[1m1/1\u001b[0m \u001b[32m━━━━━━━━━━━━━━━━━━━━\u001b[0m\u001b[37m\u001b[0m \u001b[1m0s\u001b[0m 82ms/step\n",
      "97.51% 확률로 긍정 리뷰입니다.\n"
     ]
    }
   ],
   "source": [
    "sentiment_predict('판매자님... 너무 짱이에요.. 대박나삼')"
   ]
  },
  {
   "cell_type": "code",
   "execution_count": 122,
   "id": "6a50340a-3b93-4b25-8c67-9b2693b28ba9",
   "metadata": {},
   "outputs": [
    {
     "name": "stdout",
     "output_type": "stream",
     "text": [
      "\u001b[1m1/1\u001b[0m \u001b[32m━━━━━━━━━━━━━━━━━━━━\u001b[0m\u001b[37m\u001b[0m \u001b[1m0s\u001b[0m 73ms/step\n",
      "79.37% 확률로 부정 리뷰입니다.\n"
     ]
    }
   ],
   "source": [
    "sentiment_predict('ㅁㄴㅇㄻㄴㅇㄻㄴㅇ리뷰쓰기도 귀찮아')"
   ]
  },
  {
   "cell_type": "code",
   "execution_count": null,
   "id": "6fdea5f0-cad2-4cde-80f6-0df11033fb27",
   "metadata": {},
   "outputs": [],
   "source": []
  }
 ],
 "metadata": {
  "kernelspec": {
   "display_name": "Python [conda env:base] *",
   "language": "python",
   "name": "conda-base-py"
  },
  "language_info": {
   "codemirror_mode": {
    "name": "ipython",
    "version": 3
   },
   "file_extension": ".py",
   "mimetype": "text/x-python",
   "name": "python",
   "nbconvert_exporter": "python",
   "pygments_lexer": "ipython3",
   "version": "3.12.7"
  }
 },
 "nbformat": 4,
 "nbformat_minor": 5
}
