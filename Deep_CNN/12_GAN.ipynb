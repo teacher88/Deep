{
 "cells": [
  {
   "cell_type": "code",
   "execution_count": 1,
   "id": "ecbc7ce3-d8a7-4c0d-8db2-c3e0348e91c0",
   "metadata": {},
   "outputs": [],
   "source": [
    "import numpy as np\n",
    "import pandas as pd\n",
    "import seaborn as sns\n",
    "import random\n",
    "\n",
    "import matplotlib.pyplot as plt\n",
    "import matplotlib.pyplot as plt             \n",
    "import matplotlib as mpl                    \n",
    "mpl.rc('font', family='Malgun Gothic')      \n",
    "plt.rcParams['axes.unicode_minus'] = False  \n",
    "\n",
    "import tensorflow as tf\n",
    "from tensorflow import keras  \n",
    "from tensorflow.keras.models import Sequential, Model\n",
    "from tensorflow.keras.optimizers import SGD, Adam\n",
    "from keras.models import load_model\n",
    "\n",
    "from sklearn import metrics"
   ]
  },
  {
   "cell_type": "code",
   "execution_count": 3,
   "id": "c96fc4fb-ae24-49a3-814a-7eacccebe0bb",
   "metadata": {},
   "outputs": [],
   "source": [
    "np.random.seed(42)\n",
    "tf.random.set_seed(42)\n",
    "random.seed(42)"
   ]
  },
  {
   "cell_type": "markdown",
   "id": "e1cb9b34-ea9e-4880-852d-4358b04e18ef",
   "metadata": {},
   "source": [
    "# DCGAN\n",
    "- Deep Convolutional Generative Adversarial Networks \n",
    "- 데이터 전처리 >> 생성자 모델 >> 판매자 모델 >> 컴파일 >> 학습 >> 예측\n",
    "- https://www.tensorflow.org/tutorials/generative/dcgan?hl=ko"
   ]
  },
  {
   "cell_type": "markdown",
   "id": "d9804f1a-ae08-4462-ac11-fef127d5319c",
   "metadata": {},
   "source": [
    "## 생성자 모델 (Generator Model)"
   ]
  },
  {
   "cell_type": "code",
   "execution_count": 22,
   "id": "6897359a-3772-4afa-98e0-f174c565e623",
   "metadata": {},
   "outputs": [],
   "source": [
    "# 생성자 모델 구성\n",
    "g_model=keras.Sequential()\n",
    "g_model.add(keras.layers.Input(shape=(100, )))               \n",
    "\n",
    "# Generator 내부에서 노이즈를 128*7*7=6272 1차원\n",
    "g_model.add(keras.layers.Dense(128*7*7))       \n",
    "g_model.add(keras.layers.LeakyReLU(0.2))        # 0보다 작을 경우 0.2 곱하기   \n",
    "g_model.add(keras.layers.BatchNormalization())               \n",
    "\n",
    "# 7×7 → 14×14 → 28×28 점점 키워간다. \n",
    "g_model.add(keras.layers.Reshape((7, 7, 128)))  #  CNN 레이어가 받아들일 수 있는 형태 7 7 128\n",
    "\n",
    "g_model.add(keras.layers.UpSampling2D())         # 14 14 128:  두 배씩 업(up)샘플링\n",
    "g_model.add(keras.layers.Conv2D(64, kernel_size=5, padding='same'))   # 14 14 64 Conv2DTranspose() 사용가능 \n",
    "g_model.add(keras.layers.BatchNormalization())    \n",
    "g_model.add(keras.layers.LeakyReLU(0.2))\n",
    " \n",
    "g_model.add(keras.layers.UpSampling2D())    # 28 28 64 : 두 배씩 업(up)샘플링\n",
    "g_model.add(keras.layers.Conv2D(1, kernel_size=5, padding='same', activation='tanh'))  # 28 28 1\n",
    "# g_model.summary()"
   ]
  },
  {
   "cell_type": "markdown",
   "id": "3ad098dd-91a7-4f8c-a47f-95daf7b875eb",
   "metadata": {},
   "source": [
    "## 판별자 모델 (Discriminator Model)\n",
    "- 가짜인지, 진짜 인지만 판별 >> 자기 자신은 학습을 하면 안됨\n",
    "- 판별자가 얻은 가중치는 판별자 자신이 학습하는 데 쓰이는 것이 아니라 <br>\n",
    "  생성자로 넘겨주어 생성자가 업데이트된 이미지를 만들도록 해야 함"
   ]
  },
  {
   "cell_type": "code",
   "execution_count": 25,
   "id": "1ae277dc-5260-4a28-bb61-45c27db6ec74",
   "metadata": {},
   "outputs": [],
   "source": [
    "d_model=keras.Sequential()\n",
    "d_model.add(keras.layers.Input(shape=(28, 28, 1)))\n",
    "\n",
    "# MaxPooling은 정보를 너무 과감하게 버릴 수 있음\n",
    "# strides 다운샘플링과 특징 추출을 한 번에 처리할 수 있어서 연산 효율이 높고 간단한 구조 유지 \n",
    "d_model.add(keras.layers.Conv2D(64, kernel_size=5, strides=2, padding='same'))   # 14 14 64\n",
    "d_model.add(keras.layers.LeakyReLU(0.2))\n",
    "d_model.add(keras.layers.Dropout(0.3))    # 14 14 64\n",
    "\n",
    "d_model.add(keras.layers.Conv2D(128, kernel_size=5, strides=2, padding='same'))  # 7 7 128\n",
    "d_model.add(keras.layers.LeakyReLU(0.2))\n",
    "d_model.add(keras.layers.Dropout(0.3))   # 7 7 128\n",
    "\n",
    "d_model.add(keras.layers.Flatten())   # 7*7*128=6272 \n",
    "d_model.add(keras.layers.Dense(1, activation='sigmoid'))   # 6,273 \n",
    "# d_model.summary()\n",
    "\n",
    "# 논문 DCGAN, 2015 기준\n",
    "# 학습률 : 학습이 천천히 진핼되도록 >> 작은 값이 안정성에 도움\n",
    "# 모멘텀 : 이전 단계의 그래디언트를 일정 비율만큼 유지 (이전 방향을 50% 반영)\n",
    "d_model.compile(optimizer=Adam(0.0002, 0.5), loss='binary_crossentropy', metrics=['accuracy']) \n",
    "d_model.trainable=False                # 판별이 끝나고 나면 판별자 자신이 학습되지 않게끔 학습 기능을 꺼줌"
   ]
  },
  {
   "cell_type": "markdown",
   "id": "687cb44c-9a93-4e3e-b19b-ce8c913f7967",
   "metadata": {},
   "source": [
    "## GAN 모델 생성 - 판별자 + 생성자 연결 모델 구성"
   ]
  },
  {
   "cell_type": "code",
   "execution_count": 28,
   "id": "1e179bfb-f0ef-45a5-8144-cba70d8969cc",
   "metadata": {},
   "outputs": [
    {
     "data": {
      "text/html": [
       "<pre style=\"white-space:pre;overflow-x:auto;line-height:normal;font-family:Menlo,'DejaVu Sans Mono',consolas,'Courier New',monospace\"><span style=\"font-weight: bold\">Model: \"functional_37\"</span>\n",
       "</pre>\n"
      ],
      "text/plain": [
       "\u001b[1mModel: \"functional_37\"\u001b[0m\n"
      ]
     },
     "metadata": {},
     "output_type": "display_data"
    },
    {
     "data": {
      "text/html": [
       "<pre style=\"white-space:pre;overflow-x:auto;line-height:normal;font-family:Menlo,'DejaVu Sans Mono',consolas,'Courier New',monospace\">┏━━━━━━━━━━━━━━━━━━━━━━━━━━━━━━━━━━━━━━┳━━━━━━━━━━━━━━━━━━━━━━━━━━━━━┳━━━━━━━━━━━━━━━━━┓\n",
       "┃<span style=\"font-weight: bold\"> Layer (type)                         </span>┃<span style=\"font-weight: bold\"> Output Shape                </span>┃<span style=\"font-weight: bold\">         Param # </span>┃\n",
       "┡━━━━━━━━━━━━━━━━━━━━━━━━━━━━━━━━━━━━━━╇━━━━━━━━━━━━━━━━━━━━━━━━━━━━━╇━━━━━━━━━━━━━━━━━┩\n",
       "│ input_layer_5 (<span style=\"color: #0087ff; text-decoration-color: #0087ff\">InputLayer</span>)           │ (<span style=\"color: #00d7ff; text-decoration-color: #00d7ff\">None</span>, <span style=\"color: #00af00; text-decoration-color: #00af00\">100</span>)                 │               <span style=\"color: #00af00; text-decoration-color: #00af00\">0</span> │\n",
       "├──────────────────────────────────────┼─────────────────────────────┼─────────────────┤\n",
       "│ sequential_2 (<span style=\"color: #0087ff; text-decoration-color: #0087ff\">Sequential</span>)            │ (<span style=\"color: #00d7ff; text-decoration-color: #00d7ff\">None</span>, <span style=\"color: #00af00; text-decoration-color: #00af00\">28</span>, <span style=\"color: #00af00; text-decoration-color: #00af00\">28</span>, <span style=\"color: #00af00; text-decoration-color: #00af00\">1</span>)           │         <span style=\"color: #00af00; text-decoration-color: #00af00\">865,281</span> │\n",
       "├──────────────────────────────────────┼─────────────────────────────┼─────────────────┤\n",
       "│ sequential_3 (<span style=\"color: #0087ff; text-decoration-color: #0087ff\">Sequential</span>)            │ (<span style=\"color: #00d7ff; text-decoration-color: #00d7ff\">None</span>, <span style=\"color: #00af00; text-decoration-color: #00af00\">1</span>)                   │         <span style=\"color: #00af00; text-decoration-color: #00af00\">212,865</span> │\n",
       "└──────────────────────────────────────┴─────────────────────────────┴─────────────────┘\n",
       "</pre>\n"
      ],
      "text/plain": [
       "┏━━━━━━━━━━━━━━━━━━━━━━━━━━━━━━━━━━━━━━┳━━━━━━━━━━━━━━━━━━━━━━━━━━━━━┳━━━━━━━━━━━━━━━━━┓\n",
       "┃\u001b[1m \u001b[0m\u001b[1mLayer (type)                        \u001b[0m\u001b[1m \u001b[0m┃\u001b[1m \u001b[0m\u001b[1mOutput Shape               \u001b[0m\u001b[1m \u001b[0m┃\u001b[1m \u001b[0m\u001b[1m        Param #\u001b[0m\u001b[1m \u001b[0m┃\n",
       "┡━━━━━━━━━━━━━━━━━━━━━━━━━━━━━━━━━━━━━━╇━━━━━━━━━━━━━━━━━━━━━━━━━━━━━╇━━━━━━━━━━━━━━━━━┩\n",
       "│ input_layer_5 (\u001b[38;5;33mInputLayer\u001b[0m)           │ (\u001b[38;5;45mNone\u001b[0m, \u001b[38;5;34m100\u001b[0m)                 │               \u001b[38;5;34m0\u001b[0m │\n",
       "├──────────────────────────────────────┼─────────────────────────────┼─────────────────┤\n",
       "│ sequential_2 (\u001b[38;5;33mSequential\u001b[0m)            │ (\u001b[38;5;45mNone\u001b[0m, \u001b[38;5;34m28\u001b[0m, \u001b[38;5;34m28\u001b[0m, \u001b[38;5;34m1\u001b[0m)           │         \u001b[38;5;34m865,281\u001b[0m │\n",
       "├──────────────────────────────────────┼─────────────────────────────┼─────────────────┤\n",
       "│ sequential_3 (\u001b[38;5;33mSequential\u001b[0m)            │ (\u001b[38;5;45mNone\u001b[0m, \u001b[38;5;34m1\u001b[0m)                   │         \u001b[38;5;34m212,865\u001b[0m │\n",
       "└──────────────────────────────────────┴─────────────────────────────┴─────────────────┘\n"
      ]
     },
     "metadata": {},
     "output_type": "display_data"
    },
    {
     "data": {
      "text/html": [
       "<pre style=\"white-space:pre;overflow-x:auto;line-height:normal;font-family:Menlo,'DejaVu Sans Mono',consolas,'Courier New',monospace\"><span style=\"font-weight: bold\"> Total params: </span><span style=\"color: #00af00; text-decoration-color: #00af00\">1,078,146</span> (4.11 MB)\n",
       "</pre>\n"
      ],
      "text/plain": [
       "\u001b[1m Total params: \u001b[0m\u001b[38;5;34m1,078,146\u001b[0m (4.11 MB)\n"
      ]
     },
     "metadata": {},
     "output_type": "display_data"
    },
    {
     "data": {
      "text/html": [
       "<pre style=\"white-space:pre;overflow-x:auto;line-height:normal;font-family:Menlo,'DejaVu Sans Mono',consolas,'Courier New',monospace\"><span style=\"font-weight: bold\"> Trainable params: </span><span style=\"color: #00af00; text-decoration-color: #00af00\">852,609</span> (3.25 MB)\n",
       "</pre>\n"
      ],
      "text/plain": [
       "\u001b[1m Trainable params: \u001b[0m\u001b[38;5;34m852,609\u001b[0m (3.25 MB)\n"
      ]
     },
     "metadata": {},
     "output_type": "display_data"
    },
    {
     "data": {
      "text/html": [
       "<pre style=\"white-space:pre;overflow-x:auto;line-height:normal;font-family:Menlo,'DejaVu Sans Mono',consolas,'Courier New',monospace\"><span style=\"font-weight: bold\"> Non-trainable params: </span><span style=\"color: #00af00; text-decoration-color: #00af00\">225,537</span> (881.00 KB)\n",
       "</pre>\n"
      ],
      "text/plain": [
       "\u001b[1m Non-trainable params: \u001b[0m\u001b[38;5;34m225,537\u001b[0m (881.00 KB)\n"
      ]
     },
     "metadata": {},
     "output_type": "display_data"
    }
   ],
   "source": [
    "g_input=keras.Input(shape=(100,))      # 100, 랜덤한 100개의 벡터\n",
    "d_output=d_model(g_model(g_input))     # 노이즈 입력 >> 28, 28, 1 결과 >> 참, 거짓\n",
    "\n",
    "gan=Model(g_input, d_output)   \n",
    "gan.compile(optimizer=Adam(0.0002, 0.5), loss='binary_crossentropy', metrics=['accuracy'])    # 참과 거짓 구분\n",
    "gan.summary()"
   ]
  },
  {
   "cell_type": "markdown",
   "id": "760a3948-6264-4b46-9a75-38ff7a380fed",
   "metadata": {},
   "source": [
    "## 학습 함수"
   ]
  },
  {
   "cell_type": "code",
   "execution_count": 31,
   "id": "65de6081-b35e-44b2-80a7-88a2b29f077a",
   "metadata": {},
   "outputs": [],
   "source": [
    "def get_train(epoch, batch_size, saving_interval):\n",
    "    (X_train, _), (_, _)=keras.datasets.mnist.load_data()\n",
    "    X_train=(X_train.reshape(-1, 28, 28, 1)  / 255.0) * 2 - 1   # tanh 함수로 정규화 -1 ~ 1 \n",
    "    \n",
    "    true=np.ones((batch_size, 1))     # 1 레이블\n",
    "    fake=np.zeros((batch_size, 1))    # 0 레이블\n",
    "\n",
    "    history=[]\n",
    "    for i in range(epoch):\n",
    "        # 1) 실제 데이터를 판별자에 입력\n",
    "        d_model.trainable=True\n",
    "        idx=np.random.randint(0, X_train.shape[0], batch_size)    # 0 ~ 60000 사이의 숫자 중 랜덤하게 32번 반복\n",
    "        imgs=X_train[idx]  # 선택한 이미지 가져옴\n",
    "        d_loss_real=d_model.train_on_batch(imgs, true)   # 한 번의 배치만 수동으로 학습\n",
    "\n",
    "        # 2) 가상 이미지를 판별자에 입력\n",
    "        noise=np.random.normal(0, 1, (batch_size, 100))   # 실수 0 ~ 1 사이의 숫자 중 랜덤하게 32번 반복하는데 100열 뽑아라\n",
    "        g_imgs=g_model.predict(noise, verbose=0)\n",
    "        d_loss_fake=d_model.train_on_batch(g_imgs, fake) \n",
    "\n",
    "        # ---------------------------------------\n",
    "        # 이제 실제 이미지를 넣은 d_loss_real과 가상 이미지를 입력한 d_loss_fake가 \n",
    "        # 판별자 안에서 번갈아 가며 진위를 판단하기 시작  ---------------- #\n",
    "\n",
    "        # 3) 오차 계산 : (d_loss_real+d_loss_fake) / 2  >> 속도 향상을 위해서 \n",
    "        d_loss=0.5 * np.add(d_loss_real, d_loss_fake)  # 판별자와 생성자의 오차를 계산\n",
    "        gan_loss=gan.train_on_batch(noise, true)       # gan모델을 통해서 생성자의 오차 / 무조건 정답이라고 하고 넘김\n",
    "\n",
    "        # 4) 출력\n",
    "        # print('epoch:%d' % i, ' d_loss:%.4f' % d_loss[0], 'd_accuracy:%.4f' % d_loss[1], \n",
    "        #       ' gan_loss:%.4f' % gan_loss[0], 'gen_accuracy:%.4f' % gan_loss[1])\n",
    "\n",
    "        # 5) 그래프 및 저장\n",
    "        if i % saving_interval == 0:\n",
    "            print('epoch:%d' % i, ' d_loss:%.4f' % d_loss[0], 'd_accuracy:%.4f' % d_loss[1], \n",
    "                  ' gan_loss:%.4f' % gan_loss[0], 'gen_accuracy:%.4f' % gan_loss[1])\n",
    "            \n",
    "            noise=np.random.normal(0, 1, (25, 100))\n",
    "            g_imgs=g_model.predict(noise, verbose=0)\n",
    "            g_imgs=0.5 * g_imgs + 0.5   # tanh >> 0 ~ 255\n",
    "\n",
    "            fig, axs=plt.subplots(5, 5)\n",
    "            count=0\n",
    "            for j in range(5):\n",
    "                for k in range(5):\n",
    "                    axs[j, k].imshow(g_imgs[count, :, :, 0], cmap='gray')\n",
    "                    axs[j, k].axis('off')\n",
    "                    count +=1\n",
    "            fig.savefig(\"./Deep_result/gen_images/gan_mnist_%d.png\" % i)\n",
    "            plt.close(fig)"
   ]
  },
  {
   "cell_type": "code",
   "execution_count": 33,
   "id": "43aa0efa-af17-4846-a828-3587c633f177",
   "metadata": {},
   "outputs": [
    {
     "name": "stdout",
     "output_type": "stream",
     "text": [
      "epoch:0  d_loss:0.6731 d_accuracy:0.5703  gan_loss:0.6081 gen_accuracy:0.9688\n",
      "epoch:200  d_loss:0.5719 d_accuracy:0.5015  gan_loss:0.4684 gen_accuracy:0.7282\n",
      "epoch:400  d_loss:0.6451 d_accuracy:0.5026  gan_loss:0.7105 gen_accuracy:0.4513\n",
      "epoch:600  d_loss:0.6995 d_accuracy:0.5031  gan_loss:0.7806 gen_accuracy:0.3679\n",
      "epoch:800  d_loss:0.7363 d_accuracy:0.5046  gan_loss:0.8280 gen_accuracy:0.3329\n",
      "epoch:1000  d_loss:0.7583 d_accuracy:0.5086  gan_loss:0.8666 gen_accuracy:0.3158\n",
      "epoch:1200  d_loss:0.7752 d_accuracy:0.5130  gan_loss:0.9082 gen_accuracy:0.3016\n",
      "epoch:1400  d_loss:0.7892 d_accuracy:0.5165  gan_loss:0.9486 gen_accuracy:0.2920\n",
      "epoch:1600  d_loss:0.8034 d_accuracy:0.5194  gan_loss:0.9826 gen_accuracy:0.2856\n",
      "epoch:1800  d_loss:0.8165 d_accuracy:0.5223  gan_loss:1.0201 gen_accuracy:0.2784\n",
      "epoch:2000  d_loss:0.8276 d_accuracy:0.5248  gan_loss:1.0500 gen_accuracy:0.2743\n"
     ]
    }
   ],
   "source": [
    "# 2000번 반복되고(+1을 하는 것에 주의),\n",
    "# 배치 크기는 32, 200번마다 결과가 저장됩니다.\n",
    "# get_train(2001, 32, 200)\n",
    "\n",
    "get_train(2001, 32, 200)    # 5000 ~ 10000"
   ]
  },
  {
   "cell_type": "code",
   "execution_count": null,
   "id": "9f68b662-4b58-4176-a1c3-3c09b07aa821",
   "metadata": {},
   "outputs": [],
   "source": [
    "#  X_train=np.expand_dims(X_train, axis=-1) "
   ]
  },
  {
   "cell_type": "code",
   "execution_count": null,
   "id": "5f07a425-c8a2-4bc1-8d8e-fc97856223b9",
   "metadata": {},
   "outputs": [],
   "source": []
  }
 ],
 "metadata": {
  "kernelspec": {
   "display_name": "Python [conda env:base] *",
   "language": "python",
   "name": "conda-base-py"
  },
  "language_info": {
   "codemirror_mode": {
    "name": "ipython",
    "version": 3
   },
   "file_extension": ".py",
   "mimetype": "text/x-python",
   "name": "python",
   "nbconvert_exporter": "python",
   "pygments_lexer": "ipython3",
   "version": "3.12.7"
  }
 },
 "nbformat": 4,
 "nbformat_minor": 5
}
